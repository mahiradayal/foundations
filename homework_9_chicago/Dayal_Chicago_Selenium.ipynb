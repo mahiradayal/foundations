{
 "cells": [
  {
   "cell_type": "markdown",
   "metadata": {},
   "source": [
    "## Logging on\n",
    "\n",
    "Use Selenium to visit https://webapps1.chicago.gov/buildingrecords/ and accept the agreement.\n",
    "\n",
    "> Think about when you use `.find_element_...` and when you use `.find_elementSSS_...`"
   ]
  },
  {
   "cell_type": "code",
   "execution_count": 1,
   "metadata": {},
   "outputs": [
    {
     "name": "stderr",
     "output_type": "stream",
     "text": [
      "/Users/mahiradayal/.pyenv/versions/3.8.2/lib/python3.8/site-packages/pandas/compat/__init__.py:120: UserWarning: Could not import the lzma module. Your installed Python is incomplete. Attempting to use lzma compression will result in a RuntimeError.\n",
      "  warnings.warn(msg)\n"
     ]
    }
   ],
   "source": [
    "import pandas as pd\n",
    "import requests\n",
    "import time \n",
    "from bs4 import BeautifulSoup\n",
    "from selenium import webdriver\n",
    "from selenium.webdriver.common.keys import Keys\n",
    "from selenium.webdriver.support.ui import Select\n",
    "from selenium.webdriver.support.ui import WebDriverWait"
   ]
  },
  {
   "cell_type": "code",
   "execution_count": 2,
   "metadata": {},
   "outputs": [],
   "source": [
    "driver = webdriver.Chrome()"
   ]
  },
  {
   "cell_type": "code",
   "execution_count": 3,
   "metadata": {},
   "outputs": [],
   "source": [
    "driver.get(\"https://webapps1.chicago.gov/buildingrecords/\")"
   ]
  },
  {
   "cell_type": "code",
   "execution_count": 4,
   "metadata": {},
   "outputs": [],
   "source": [
    "agree = driver.find_element_by_id(\"rbnAgreement1\")\n",
    "agree.click()\n",
    "submit_button = driver.find_element_by_id(\"submit\")\n",
    "submit_button.click()"
   ]
  },
  {
   "cell_type": "markdown",
   "metadata": {},
   "source": [
    "## Searching\n",
    "\n",
    "Search for **400 E 41ST ST**."
   ]
  },
  {
   "cell_type": "code",
   "execution_count": 5,
   "metadata": {},
   "outputs": [],
   "source": [
    "address = driver.find_element_by_id(\"fullAddress\")\n",
    "address.send_keys(\"400 E 41ST ST\")"
   ]
  },
  {
   "cell_type": "code",
   "execution_count": 6,
   "metadata": {},
   "outputs": [],
   "source": [
    "submit = driver.find_element_by_id(\"submit\")\n",
    "submit.click()"
   ]
  },
  {
   "cell_type": "markdown",
   "metadata": {},
   "source": [
    "## Saving tables with pandas\n",
    "\n",
    "Use pandas to save a CSV of all **permits** to `Permits - 400 E 41ST ST.csv`. Note that there are **different sections of the page**, not just one long permits table."
   ]
  },
  {
   "cell_type": "markdown",
   "metadata": {},
   "source": [
    "## Help! \n",
    "How do I use pandas without a URL? Does with pandas just mean the SAVING part? I made a dictionary and used Selenium. "
   ]
  },
  {
   "cell_type": "code",
   "execution_count": 7,
   "metadata": {},
   "outputs": [
    {
     "name": "stdout",
     "output_type": "stream",
     "text": [
      "[{'Permit': '100845718', 'Date': '10/11/2019', 'Description': 'ERECT TWO SCAFFOLDS FROM 10/14/2019 TO 10/14/2020.'}, {'Permit': '100778302', 'Date': '08/17/2018', 'Description': \"PERMIT EXPIRES ON 10/17/2018 Erection Starts: 8/24/2018, Erection Ends: 8/25/2018. TENT- 1 DAY EVENT 8/25/18 ERECT ONE (1) 40'X60' POLE TENT SETUP 8/24/18- REMOVE 8/25/18 ASSEMBLY **** CONDITIONAL APPROVAL **** SUBJECT TO FIELD INSPECTION **** AOR CERTIFICATE OF INSPECTION REQUIRED ****\"}, {'Permit': '100721255', 'Date': '08/24/2017', 'Description': 'PERMIT EXPIRES ON 10/24/2017 ERECTION STARTS: 8/25/2017, ERECTION ENDS: 8/26/2017. SELF CERTIFICATION. REINSTATEMENT OF 2015 PERMIT 100610771 FOR THE PAUL G STEWART CENTER EVENT. SAME 40X60 CANOPY. AAA RENTAL SYSTEM.** CONDITIONAL APPROVAL **SUBJECT TO FIELD INSPECTION * AOR CERTIFICATION OF INSPECTION REQUIRED.'}, {'Permit': '100693399', 'Date': '03/03/2017', 'Description': 'INSTALLATION OF LOW VOLTAGE BURGLAR ALARM INTERIOR WORK ONLY # 573-22178'}, {'Permit': '100665436', 'Date': '08/24/2016', 'Description': \"PERMIT EXPIRES ON 10/24/2016 ERECTION STARTS: 8/26/2016, ERECTION ENDS: 8/28/2016. REINSTATEMENT #1 OF TENT PERMIT 100610771 - PEOPLE'S CONSUMER / STEWART CENTER FAMILY DAY TENT. 1-40X60 TENT. AAA RENTAL SYSTEM. **SELF CERTIFIED TENT PERMIT ** CONDITIONAL APPROVAL ** SUBJECT TO FIELD INSPECTION ** AOR CERTIFICATION OF INSPECTION REQUIRED.\"}, {'Permit': '100610771', 'Date': '08/28/2015', 'Description': 'PERMIT EXPIRES ON 10/28/2015 ERECTION STARTS: 8/28/2015, ERECTION ENDS: 8/30/2015. TEMPORARY CANOPY FOR THE PAUL G STEWART EVENT ON AUG. 29, 2015. 1-40X60 CANOPY. AAA RENTAL SYSTEM.** SELF CERTIFIED CANOPY PERMIT** CONDITIONAL APPROVAL SUBJECT TO FIELD INSPECTION** AOR CERTIFICATION OF INSPECTION REQUIRED'}, {'Permit': '100581991', 'Date': '02/18/2015', 'Description': 'TRACE AND REPAIR BROKEN UNDERGROUND FEED TO EXISTING LIGHTPOLE.'}, {'Permit': '100479194', 'Date': '04/16/2013', 'Description': 'INTERNALLY LIT SIGN CABINET ON SOUTH ELEVATION'}, {'Permit': '100385721', 'Date': '03/25/2011', 'Description': 'RPACE CONCRETE SLAB WITH NEW AT GROUNGD FLOOR LEVEL (APPROX. 265 SF)'}, {'Permit': '100267298', 'Date': '12/04/2008', 'Description': 'INTERIOR ALTERATIONS TO MEDICAL OFFICE SUITE 103 (TOWER 2) PER PLANS. -CONDITIONAL PERMIT, SUBJECT TO FIELD VERIFICATION.'}, {'Permit': '100218969', 'Date': '01/08/2008', 'Description': 'Revision to Permit. Removing walls at elevator lobby areas in Tower II.'}, {'Permit': '100195892', 'Date': '11/01/2007', 'Description': 'INTERIOR ALTERATIONS TO 1ST FLOOR TENANT SPACES OF EXISTING APARTMENT BUILDING PER PLANS'}, {'Permit': '100178678', 'Date': '05/16/2007', 'Description': 'WIRE ALL LOW VOLTAGE TEMPERATURE CONTROLS ALL UNITS ALL FLRS.'}, {'Permit': '100154767', 'Date': '12/21/2006', 'Description': 'MODERNIZE FIVE (5) PASSENGER ELEVATORS AS PER SCOPE OF WORK'}, {'Permit': '100153183', 'Date': '12/12/2006', 'Description': 'Renovation/Alterations to 19-story Tower #2.'}, {'Permit': '100153182', 'Date': '12/12/2006', 'Description': 'Renovation/Alterations to 27-story Tower #1.'}, {'Permit': 'B20022113', 'Date': '04/25/2001', 'Description': \"1N REPAIR,PATCH, 908' LG CON TERRACE WALL ( 3 FT HIGH ), REMOUNT 142 RAILING POST AS PER PLANS\"}, {'Permit': 'EL1566941', 'Date': '04/27/2000', 'Description': 'INSTALL 3 HPS WALL FIXTURE ON BUILDING'}, {'Permit': 'B97033015', 'Date': '05/14/1997', 'Description': 'THREE (3) PASSENGER ELEVATORS ADAMS DOOR RESTRICTORS'}, {'Permit': 'EL9445368', 'Date': '02/14/1994', 'Description': \"ADD 2-ADD'TL METER SOCKETS & 2-BRKR PNLS\"}, {'Permit': 'EL9443103', 'Date': '02/08/1994', 'Description': 'INSTALL PHONE SYSTEM (MERLIN)'}, {'Permit': 'EL8874529', 'Date': '07/22/1992', 'Description': 'INSTALL LOW VOLTAGE SECURITY SYSTEM'}, {'Permit': 'EL8770080', 'Date': '12/17/1991', 'Description': '100A SERVICE, 2-METER SOCKETS'}, {'Permit': 'EL7634958', 'Date': '02/19/1988', 'Description': '6-15 AMP 2-WIRE CKTS AND SIX (6) FIXTURS'}, {'Permit': 'EL7393792', 'Date': '05/05/1987', 'Description': 'LOW VOLTAGE PHONE SYSTEM EQUITY 111'}, {'Permit': 'ES3148854', 'Date': '10/29/1984', 'Description': ''}, {'Permit': 'EL6455110', 'Date': '07/26/1984', 'Description': 'INSTALL 278 OUTLETS ON EXIST CIRC'}, {'Permit': 'EL6345593', 'Date': '04/05/1984', 'Description': 'STANLEY MAGIC DOOR EQUIPT INSTALLATION'}, {'Permit': 'EL6242147', 'Date': '11/22/1983', 'Description': '2000A SERV, 400A SERV, 200A SERV,'}, {'Permit': 'EL6196217', 'Date': '10/03/1983', 'Description': '400A SERVICE'}, {'Permit': 'EL5912649', 'Date': '11/03/1982', 'Description': 'ADD FEE TO PERMIT #5764111'}, {'Permit': 'EL5764118', 'Date': '05/24/1982', 'Description': '400A SERVICE'}]\n"
     ]
    }
   ],
   "source": [
    "rows = driver.find_elements_by_tag_name(\"tr\")[:33]\n",
    "\n",
    "results = []\n",
    "\n",
    "for row in rows:\n",
    "    try:\n",
    "        permit = row.find_elements_by_tag_name(\"td\")[0]\n",
    "        date = row.find_elements_by_tag_name(\"td\")[1]\n",
    "        descr = row.find_elements_by_tag_name(\"td\")[2]\n",
    "    except:\n",
    "        continue \n",
    "        \n",
    "    permits = {\n",
    "        'Permit': permit.text, \n",
    "        'Date': date.text,\n",
    "        'Description': descr.text\n",
    "    }\n",
    "    results.append(permits)\n",
    "print(results)"
   ]
  },
  {
   "cell_type": "code",
   "execution_count": 8,
   "metadata": {},
   "outputs": [],
   "source": [
    "df = pd.DataFrame(results)\n",
    "df.to_csv('Permits - 400 E 41ST ST.csv', index = False)"
   ]
  },
  {
   "cell_type": "markdown",
   "metadata": {},
   "source": [
    "## Saving tables the long way\n",
    "\n",
    "Save a CSV of all DOB inspections to `Inspections - 400 E 41ST ST.csv`, but **you also need to save the URL to the inspection**. As a result, you won't be able to use pandas, you'll need to use a loop and create a list of dictionaries.\n",
    "\n",
    "You can use Selenium (my recommendation) or you can feed the source to BeautifulSoup. You should have approximately 157 rows.\n",
    "\n",
    "You'll probably need to find the table first, then the rows inside, then the cells inside of each row. You'll probably use lots of list indexing. I might recommend XPath for finding the table.\n",
    "\n",
    "*Tip: If you get a \"list index out of range\" error, it's probably due to an issue involving `thead` vs `tbody` elements. What are they? What are they for? What's in them? There are a few ways to troubleshoot it.*"
   ]
  },
  {
   "cell_type": "code",
   "execution_count": 9,
   "metadata": {},
   "outputs": [
    {
     "name": "stdout",
     "output_type": "stream",
     "text": [
      "[{'insp': '13175960', 'url': 'https://webapps1.chicago.gov/buildingrecords/inspectiondetails?addr=364923&insp=13175960', 'date': '11/30/2020', 'status': 'FAILED', 'description': 'ANNUAL INSPECTION'}, {'insp': '12770690', 'url': 'https://webapps1.chicago.gov/buildingrecords/inspectiondetails?addr=364923&insp=12770690', 'date': '05/30/2019', 'status': 'PASSED', 'description': 'BOILER ANNUAL INSPECTION'}, {'insp': '12670542', 'url': 'https://webapps1.chicago.gov/buildingrecords/inspectiondetails?addr=364923&insp=12670542', 'date': '05/21/2019', 'status': 'FAILED', 'description': 'CONSERVATION ANNUAL'}, {'insp': '12277260', 'url': 'https://webapps1.chicago.gov/buildingrecords/inspectiondetails?addr=364923&insp=12277260', 'date': '08/27/2018', 'status': 'FAILED', 'description': 'CONSERVATION ANNUAL'}, {'insp': '12418304', 'url': 'https://webapps1.chicago.gov/buildingrecords/inspectiondetails?addr=364923&insp=12418304', 'date': '05/30/2018', 'status': 'PASSED', 'description': 'BOILER ANNUAL INSPECTION'}, {'insp': '12136453', 'url': 'https://webapps1.chicago.gov/buildingrecords/inspectiondetails?addr=364923&insp=12136453', 'date': '06/21/2017', 'status': 'PASSED', 'description': 'ANNUAL INSPECTION'}, {'insp': '12226018', 'url': 'https://webapps1.chicago.gov/buildingrecords/inspectiondetails?addr=364923&insp=12226018', 'date': '06/21/2017', 'status': 'PASSED', 'description': 'ANNUAL INSPECTION'}, {'insp': '11228963', 'url': 'https://webapps1.chicago.gov/buildingrecords/inspectiondetails?addr=364923&insp=11228963', 'date': '06/19/2017', 'status': 'FAILED', 'description': 'CONSERVATION ANNUAL'}, {'insp': '12101602', 'url': 'https://webapps1.chicago.gov/buildingrecords/inspectiondetails?addr=364923&insp=12101602', 'date': '04/21/2017', 'status': 'PASSED', 'description': 'ANNUAL INSPECTION'}, {'insp': '12214968', 'url': 'https://webapps1.chicago.gov/buildingrecords/inspectiondetails?addr=364923&insp=12214968', 'date': '03/22/2017', 'status': 'PASSED', 'description': 'SIGN ANNUAL INSPECTION'}, {'insp': '12051724', 'url': 'https://webapps1.chicago.gov/buildingrecords/inspectiondetails?addr=364923&insp=12051724', 'date': '12/21/2016', 'status': 'FAILED', 'description': 'CONSERVATION COMPLAINT INSPECT'}, {'insp': '11750904', 'url': 'https://webapps1.chicago.gov/buildingrecords/inspectiondetails?addr=364923&insp=11750904', 'date': '11/03/2016', 'status': 'PASSED', 'description': 'BOILER ANNUAL INSPECTION'}, {'insp': '11986288', 'url': 'https://webapps1.chicago.gov/buildingrecords/inspectiondetails?addr=364923&insp=11986288', 'date': '09/01/2016', 'status': 'PASSED', 'description': 'REFRIGERATION ANNUAL'}, {'insp': '11787131', 'url': 'https://webapps1.chicago.gov/buildingrecords/inspectiondetails?addr=364923&insp=11787131', 'date': '08/24/2016', 'status': 'PASSED', 'description': 'REFRIGERATION ANNUAL'}, {'insp': '11835125', 'url': 'https://webapps1.chicago.gov/buildingrecords/inspectiondetails?addr=364923&insp=11835125', 'date': '08/02/2016', 'status': 'PASSED', 'description': 'ANNUAL INSPECTION'}, {'insp': '11933971', 'url': 'https://webapps1.chicago.gov/buildingrecords/inspectiondetails?addr=364923&insp=11933971', 'date': '08/02/2016', 'status': 'PASSED', 'description': 'ANNUAL INSPECTION'}, {'insp': '11413712', 'url': 'https://webapps1.chicago.gov/buildingrecords/inspectiondetails?addr=364923&insp=11413712', 'date': '10/23/2015', 'status': 'PASSED', 'description': 'BOILER ANNUAL INSPECTION'}, {'insp': '11623884', 'url': 'https://webapps1.chicago.gov/buildingrecords/inspectiondetails?addr=364923&insp=11623884', 'date': '08/28/2015', 'status': 'PASSED', 'description': 'ANNUAL INSPECTION'}, {'insp': '11014536', 'url': 'https://webapps1.chicago.gov/buildingrecords/inspectiondetails?addr=364923&insp=11014536', 'date': '07/28/2015', 'status': 'PASSED', 'description': 'ANNUAL INSPECTION'}, {'insp': '11244373', 'url': 'https://webapps1.chicago.gov/buildingrecords/inspectiondetails?addr=364923&insp=11244373', 'date': '07/28/2015', 'status': 'PASSED', 'description': 'ANNUAL INSPECTION'}, {'insp': '11542833', 'url': 'https://webapps1.chicago.gov/buildingrecords/inspectiondetails?addr=364923&insp=11542833', 'date': '07/20/2015', 'status': 'PASSED', 'description': 'SIGN ANNUAL INSPECTION'}, {'insp': '11598664', 'url': 'https://webapps1.chicago.gov/buildingrecords/inspectiondetails?addr=364923&insp=11598664', 'date': '06/02/2015', 'status': 'FAILED', 'description': 'ANNUAL INSPECTION'}, {'insp': '11497331', 'url': 'https://webapps1.chicago.gov/buildingrecords/inspectiondetails?addr=364923&insp=11497331', 'date': '05/20/2015', 'status': 'FAILED', 'description': 'ANNUAL INSPECTION'}, {'insp': '11224848', 'url': 'https://webapps1.chicago.gov/buildingrecords/inspectiondetails?addr=364923&insp=11224848', 'date': '02/27/2015', 'status': 'FAILED', 'description': 'ANNUAL INSPECTION'}, {'insp': '11074793', 'url': 'https://webapps1.chicago.gov/buildingrecords/inspectiondetails?addr=364923&insp=11074793', 'date': '10/15/2014', 'status': 'PASSED', 'description': 'BOILER ANNUAL INSPECTION'}, {'insp': '10934450', 'url': 'https://webapps1.chicago.gov/buildingrecords/inspectiondetails?addr=364923&insp=10934450', 'date': '09/19/2014', 'status': 'PASSED', 'description': 'STRUCTURAL SIGN INSPECTION'}, {'insp': '10934449', 'url': 'https://webapps1.chicago.gov/buildingrecords/inspectiondetails?addr=364923&insp=10934449', 'date': '09/19/2014', 'status': 'PASSED', 'description': 'SIGN PERMIT INSPECTION'}, {'insp': '10995934', 'url': 'https://webapps1.chicago.gov/buildingrecords/inspectiondetails?addr=364923&insp=10995934', 'date': '04/04/2014', 'status': 'FAILED', 'description': 'CONSERVATION ANNUAL'}, {'insp': '10895288', 'url': 'https://webapps1.chicago.gov/buildingrecords/inspectiondetails?addr=364923&insp=10895288', 'date': '12/18/2013', 'status': 'PASSED', 'description': 'ANNUAL INSPECTION'}, {'insp': '10789690', 'url': 'https://webapps1.chicago.gov/buildingrecords/inspectiondetails?addr=364923&insp=10789690', 'date': '12/04/2013', 'status': 'PASSED', 'description': 'REFRIGERATION ANNUAL'}, {'insp': '10775620', 'url': 'https://webapps1.chicago.gov/buildingrecords/inspectiondetails?addr=364923&insp=10775620', 'date': '10/22/2013', 'status': 'PASSED', 'description': 'BOILER ANNUAL INSPECTION'}, {'insp': '10912983', 'url': 'https://webapps1.chicago.gov/buildingrecords/inspectiondetails?addr=364923&insp=10912983', 'date': '10/01/2013', 'status': 'PASSED', 'description': 'ANNUAL INSPECTION'}, {'insp': '11002791', 'url': 'https://webapps1.chicago.gov/buildingrecords/inspectiondetails?addr=364923&insp=11002791', 'date': '10/01/2013', 'status': 'FAILED', 'description': 'ANNUAL INSPECTION'}, {'insp': '10715924', 'url': 'https://webapps1.chicago.gov/buildingrecords/inspectiondetails?addr=364923&insp=10715924', 'date': '08/21/2013', 'status': 'FAILED', 'description': 'CONSERVATION ANNUAL'}, {'insp': '10270889', 'url': 'https://webapps1.chicago.gov/buildingrecords/inspectiondetails?addr=364923&insp=10270889', 'date': '10/16/2012', 'status': 'FAILED', 'description': 'CONSERVATION ANNUAL'}, {'insp': '10681952', 'url': 'https://webapps1.chicago.gov/buildingrecords/inspectiondetails?addr=364923&insp=10681952', 'date': '08/28/2012', 'status': 'PASSED', 'description': 'ANNUAL INSPECTION'}, {'insp': '10740771', 'url': 'https://webapps1.chicago.gov/buildingrecords/inspectiondetails?addr=364923&insp=10740771', 'date': '08/28/2012', 'status': 'PASSED', 'description': 'ANNUAL INSPECTION'}, {'insp': '10560743', 'url': 'https://webapps1.chicago.gov/buildingrecords/inspectiondetails?addr=364923&insp=10560743', 'date': '05/23/2012', 'status': 'PASSED', 'description': 'ANNUAL INSPECTION'}, {'insp': '9995366', 'url': 'https://webapps1.chicago.gov/buildingrecords/inspectiondetails?addr=364923&insp=9995366', 'date': '04/09/2012', 'status': 'PASSED', 'description': 'ANNUAL INSPECTION'}, {'insp': '10411517', 'url': 'https://webapps1.chicago.gov/buildingrecords/inspectiondetails?addr=364923&insp=10411517', 'date': '03/07/2012', 'status': 'PASSED', 'description': 'BOILER ANNUAL INSPECTION'}, {'insp': '10530867', 'url': 'https://webapps1.chicago.gov/buildingrecords/inspectiondetails?addr=364923&insp=10530867', 'date': '02/21/2012', 'status': 'FAILED', 'description': 'ANNUAL INSPECTION'}, {'insp': '10230414', 'url': 'https://webapps1.chicago.gov/buildingrecords/inspectiondetails?addr=364923&insp=10230414', 'date': '10/27/2011', 'status': 'FAILED', 'description': 'ANNUAL INSPECTION'}, {'insp': '10167186', 'url': 'https://webapps1.chicago.gov/buildingrecords/inspectiondetails?addr=364923&insp=10167186', 'date': '09/12/2011', 'status': 'PASSED', 'description': 'ANNUAL INSPECTION'}, {'insp': '10155814', 'url': 'https://webapps1.chicago.gov/buildingrecords/inspectiondetails?addr=364923&insp=10155814', 'date': '07/13/2011', 'status': 'PASSED', 'description': 'VENT ANNUAL'}, {'insp': '9952632', 'url': 'https://webapps1.chicago.gov/buildingrecords/inspectiondetails?addr=364923&insp=9952632', 'date': '05/05/2011', 'status': 'FAILED', 'description': 'CONSERVATION ANNUAL'}, {'insp': '10089951', 'url': 'https://webapps1.chicago.gov/buildingrecords/inspectiondetails?addr=364923&insp=10089951', 'date': '02/22/2011', 'status': 'PASSED', 'description': 'BOILER ANNUAL INSPECTION'}, {'insp': '10002293', 'url': 'https://webapps1.chicago.gov/buildingrecords/inspectiondetails?addr=364923&insp=10002293', 'date': '01/12/2011', 'status': 'PASSED', 'description': 'ANNUAL INSPECTION'}, {'insp': '10002295', 'url': 'https://webapps1.chicago.gov/buildingrecords/inspectiondetails?addr=364923&insp=10002295', 'date': '01/12/2011', 'status': 'FAILED', 'description': 'ANNUAL INSPECTION'}, {'insp': '2374203', 'url': 'https://webapps1.chicago.gov/buildingrecords/inspectiondetails?addr=364923&insp=2374203', 'date': '10/04/2010', 'status': 'PASSED', 'description': 'REFRIGERATION ANNUAL'}, {'insp': '9974938', 'url': 'https://webapps1.chicago.gov/buildingrecords/inspectiondetails?addr=364923&insp=9974938', 'date': '09/09/2010', 'status': 'FAILED', 'description': 'ANNUAL INSPECTION'}, {'insp': '2677167', 'url': 'https://webapps1.chicago.gov/buildingrecords/inspectiondetails?addr=364923&insp=2677167', 'date': '09/09/2010', 'status': 'FAILED', 'description': 'ANNUAL INSPECTION'}, {'insp': '9762140', 'url': 'https://webapps1.chicago.gov/buildingrecords/inspectiondetails?addr=364923&insp=9762140', 'date': '09/02/2010', 'status': 'FAILED', 'description': 'ANNUAL INSPECTION'}, {'insp': '9959603', 'url': 'https://webapps1.chicago.gov/buildingrecords/inspectiondetails?addr=364923&insp=9959603', 'date': '06/30/2010', 'status': 'FAILED', 'description': 'CONSERVATION COMPLAINT INSPECT'}, {'insp': '2688652', 'url': 'https://webapps1.chicago.gov/buildingrecords/inspectiondetails?addr=364923&insp=2688652', 'date': '06/15/2010', 'status': 'FAILED', 'description': 'CONSERVATION ANNUAL'}, {'insp': '9748377', 'url': 'https://webapps1.chicago.gov/buildingrecords/inspectiondetails?addr=364923&insp=9748377', 'date': '02/11/2010', 'status': 'PASSED', 'description': 'BOILER ANNUAL INSPECTION'}, {'insp': '2354095', 'url': 'https://webapps1.chicago.gov/buildingrecords/inspectiondetails?addr=364923&insp=2354095', 'date': '12/29/2009', 'status': 'PASSED', 'description': 'PERMIT INSPECTION'}, {'insp': '2639899', 'url': 'https://webapps1.chicago.gov/buildingrecords/inspectiondetails?addr=364923&insp=2639899', 'date': '08/21/2009', 'status': 'PASSED', 'description': 'VENT ANNUAL'}, {'insp': '1896682', 'url': 'https://webapps1.chicago.gov/buildingrecords/inspectiondetails?addr=364923&insp=1896682', 'date': '07/27/2009', 'status': 'CLOSED', 'description': 'ELECTRICAL PERMIT INSPECTION'}, {'insp': '2565707', 'url': 'https://webapps1.chicago.gov/buildingrecords/inspectiondetails?addr=364923&insp=2565707', 'date': '03/25/2009', 'status': 'PASSED', 'description': 'DOB PLUMBING INSPECTION'}, {'insp': '2408216', 'url': 'https://webapps1.chicago.gov/buildingrecords/inspectiondetails?addr=364923&insp=2408216', 'date': '03/25/2009', 'status': 'PASSED', 'description': 'DOB NEW CONSTRUCTION INSP'}, {'insp': '2576872', 'url': 'https://webapps1.chicago.gov/buildingrecords/inspectiondetails?addr=364923&insp=2576872', 'date': '03/25/2009', 'status': 'PASSED', 'description': 'DOB VENT/FURNACE INSPECTION'}, {'insp': '2576870', 'url': 'https://webapps1.chicago.gov/buildingrecords/inspectiondetails?addr=364923&insp=2576870', 'date': '03/25/2009', 'status': 'PASSED', 'description': 'ELECTRICAL PERMIT INSPECTION'}, {'insp': '2648465', 'url': 'https://webapps1.chicago.gov/buildingrecords/inspectiondetails?addr=364923&insp=2648465', 'date': '03/04/2009', 'status': 'FAILED', 'description': 'CONSERVATION ANNUAL'}, {'insp': '2559724', 'url': 'https://webapps1.chicago.gov/buildingrecords/inspectiondetails?addr=364923&insp=2559724', 'date': '01/30/2009', 'status': 'PASSED', 'description': 'DOB VENT/FURNACE INSPECTION'}, {'insp': '2408214', 'url': 'https://webapps1.chicago.gov/buildingrecords/inspectiondetails?addr=364923&insp=2408214', 'date': '01/30/2009', 'status': 'PARTIAL PASSED', 'description': 'DOB VENT/FURNACE INSPECTION'}, {'insp': '2408213', 'url': 'https://webapps1.chicago.gov/buildingrecords/inspectiondetails?addr=364923&insp=2408213', 'date': '01/30/2009', 'status': 'PARTIAL PASSED', 'description': 'ELECTRICAL PERMIT INSPECTION'}, {'insp': '2559720', 'url': 'https://webapps1.chicago.gov/buildingrecords/inspectiondetails?addr=364923&insp=2559720', 'date': '01/29/2009', 'status': 'PASSED', 'description': 'DOB VENT/FURNACE INSPECTION'}, {'insp': '2565706', 'url': 'https://webapps1.chicago.gov/buildingrecords/inspectiondetails?addr=364923&insp=2565706', 'date': '01/26/2009', 'status': 'PARTIAL PASSED', 'description': 'DOB PLUMBING INSPECTION'}, {'insp': '2008609', 'url': 'https://webapps1.chicago.gov/buildingrecords/inspectiondetails?addr=364923&insp=2008609', 'date': '01/23/2009', 'status': 'PASSED', 'description': 'CONSTRUCTION EQUIPMENT PERMIT'}, {'insp': '2561851', 'url': 'https://webapps1.chicago.gov/buildingrecords/inspectiondetails?addr=364923&insp=2561851', 'date': '01/21/2009', 'status': 'PASSED', 'description': 'BOILER PERMIT INSPECTION'}, {'insp': '2561850', 'url': 'https://webapps1.chicago.gov/buildingrecords/inspectiondetails?addr=364923&insp=2561850', 'date': '01/21/2009', 'status': 'PASSED', 'description': 'BOILER PERMIT INSPECTION'}, {'insp': '2561849', 'url': 'https://webapps1.chicago.gov/buildingrecords/inspectiondetails?addr=364923&insp=2561849', 'date': '01/21/2009', 'status': 'PASSED', 'description': 'BOILER PERMIT INSPECTION'}, {'insp': '2564084', 'url': 'https://webapps1.chicago.gov/buildingrecords/inspectiondetails?addr=364923&insp=2564084', 'date': '01/21/2009', 'status': 'PASSED', 'description': 'BOILER PERMIT INSPECTION'}, {'insp': '2510789', 'url': 'https://webapps1.chicago.gov/buildingrecords/inspectiondetails?addr=364923&insp=2510789', 'date': '01/21/2009', 'status': 'PASSED', 'description': 'BOILER ANNUAL INSPECTION'}, {'insp': '1840048', 'url': 'https://webapps1.chicago.gov/buildingrecords/inspectiondetails?addr=364923&insp=1840048', 'date': '01/15/2009', 'status': 'PASSED', 'description': 'BLDG_PERM IRON PERMIT INSP'}, {'insp': '1839870', 'url': 'https://webapps1.chicago.gov/buildingrecords/inspectiondetails?addr=364923&insp=1839870', 'date': '01/15/2009', 'status': 'PASSED', 'description': 'BLDG_PERM IRON PERMIT INSP'}, {'insp': '2017660', 'url': 'https://webapps1.chicago.gov/buildingrecords/inspectiondetails?addr=364923&insp=2017660', 'date': '01/15/2009', 'status': 'PASSED', 'description': 'DOB NEW CONSTRUCTION INSP'}, {'insp': '2017661', 'url': 'https://webapps1.chicago.gov/buildingrecords/inspectiondetails?addr=364923&insp=2017661', 'date': '01/15/2009', 'status': 'PASSED', 'description': 'DOB NEW CONSTRUCTION INSP'}, {'insp': '2020266', 'url': 'https://webapps1.chicago.gov/buildingrecords/inspectiondetails?addr=364923&insp=2020266', 'date': '01/15/2009', 'status': 'PASSED', 'description': 'DOB NEW CONSTRUCTION INSP'}, {'insp': '1613901', 'url': 'https://webapps1.chicago.gov/buildingrecords/inspectiondetails?addr=364923&insp=1613901', 'date': '01/15/2009', 'status': 'PARTIAL PASSED', 'description': 'DOB VENT/FURNACE INSPECTION'}, {'insp': '1613908', 'url': 'https://webapps1.chicago.gov/buildingrecords/inspectiondetails?addr=364923&insp=1613908', 'date': '01/15/2009', 'status': 'PARTIAL PASSED', 'description': 'DOB VENT/FURNACE INSPECTION'}, {'insp': '2020265', 'url': 'https://webapps1.chicago.gov/buildingrecords/inspectiondetails?addr=364923&insp=2020265', 'date': '01/15/2009', 'status': 'PASSED', 'description': 'DOB VENT/FURNACE INSPECTION'}, {'insp': '2314825', 'url': 'https://webapps1.chicago.gov/buildingrecords/inspectiondetails?addr=364923&insp=2314825', 'date': '01/15/2009', 'status': 'PASSED', 'description': 'DOB PLUMBING INSPECTION'}, {'insp': '1613906', 'url': 'https://webapps1.chicago.gov/buildingrecords/inspectiondetails?addr=364923&insp=1613906', 'date': '01/15/2009', 'status': 'PASSED', 'description': 'DOB PLUMBING INSPECTION'}, {'insp': '1613897', 'url': 'https://webapps1.chicago.gov/buildingrecords/inspectiondetails?addr=364923&insp=1613897', 'date': '01/15/2009', 'status': 'PASSED', 'description': 'ELECTRICAL PERMIT INSPECTION'}, {'insp': '1613904', 'url': 'https://webapps1.chicago.gov/buildingrecords/inspectiondetails?addr=364923&insp=1613904', 'date': '01/15/2009', 'status': 'PASSED', 'description': 'ELECTRICAL PERMIT INSPECTION'}, {'insp': '2020263', 'url': 'https://webapps1.chicago.gov/buildingrecords/inspectiondetails?addr=364923&insp=2020263', 'date': '01/15/2009', 'status': 'PASSED', 'description': 'ELECTRICAL PERMIT INSPECTION'}, {'insp': '2020264', 'url': 'https://webapps1.chicago.gov/buildingrecords/inspectiondetails?addr=364923&insp=2020264', 'date': '01/15/2009', 'status': 'PASSED', 'description': 'DOB PLUMBING INSPECTION'}, {'insp': '1613907', 'url': 'https://webapps1.chicago.gov/buildingrecords/inspectiondetails?addr=364923&insp=1613907', 'date': '12/31/2008', 'status': 'PASSED', 'description': 'DOB REFRIGERATION INSPECTION'}, {'insp': '1613900', 'url': 'https://webapps1.chicago.gov/buildingrecords/inspectiondetails?addr=364923&insp=1613900', 'date': '12/31/2008', 'status': 'PASSED', 'description': 'DOB REFRIGERATION INSPECTION'}, {'insp': '2391718', 'url': 'https://webapps1.chicago.gov/buildingrecords/inspectiondetails?addr=364923&insp=2391718', 'date': '11/25/2008', 'status': 'PASSED', 'description': 'PUMP ACCEPTANCE TEST'}, {'insp': '2566069', 'url': 'https://webapps1.chicago.gov/buildingrecords/inspectiondetails?addr=364923&insp=2566069', 'date': '11/25/2008', 'status': 'PASSED', 'description': 'PUMP ACCEPTANCE TEST'}, {'insp': '2119488', 'url': 'https://webapps1.chicago.gov/buildingrecords/inspectiondetails?addr=364923&insp=2119488', 'date': '10/22/2008', 'status': 'FAILED', 'description': 'REFRIGERATION ANNUAL'}, {'insp': '2261834', 'url': 'https://webapps1.chicago.gov/buildingrecords/inspectiondetails?addr=364923&insp=2261834', 'date': '08/29/2008', 'status': 'PARTIAL PASSED', 'description': 'PERMIT INSPECTION'}, {'insp': '2314122', 'url': 'https://webapps1.chicago.gov/buildingrecords/inspectiondetails?addr=364923&insp=2314122', 'date': '07/11/2008', 'status': 'PARTIAL PASSED', 'description': 'DOB PLUMBING INSPECTION'}, {'insp': '1894630', 'url': 'https://webapps1.chicago.gov/buildingrecords/inspectiondetails?addr=364923&insp=1894630', 'date': '07/08/2008', 'status': 'PARTIAL PASSED', 'description': 'DOB PLUMBING INSPECTION'}, {'insp': '2168070', 'url': 'https://webapps1.chicago.gov/buildingrecords/inspectiondetails?addr=364923&insp=2168070', 'date': '06/02/2008', 'status': 'PASSED', 'description': 'CONSERVATION ANNUAL'}, {'insp': '2154189', 'url': 'https://webapps1.chicago.gov/buildingrecords/inspectiondetails?addr=364923&insp=2154189', 'date': '05/14/2008', 'status': 'PASSED', 'description': 'VENT ANNUAL'}, {'insp': '2074609', 'url': 'https://webapps1.chicago.gov/buildingrecords/inspectiondetails?addr=364923&insp=2074609', 'date': '04/09/2008', 'status': 'PASSED', 'description': 'BOILER ANNUAL INSPECTION'}, {'insp': '2091277', 'url': 'https://webapps1.chicago.gov/buildingrecords/inspectiondetails?addr=364923&insp=2091277', 'date': '04/04/2008', 'status': 'PASSED', 'description': 'ANNUAL INSPECTION'}, {'insp': '1966669', 'url': 'https://webapps1.chicago.gov/buildingrecords/inspectiondetails?addr=364923&insp=1966669', 'date': '02/27/2008', 'status': 'PARTIAL PASSED', 'description': 'PERMIT INSPECTION'}, {'insp': '1613902', 'url': 'https://webapps1.chicago.gov/buildingrecords/inspectiondetails?addr=364923&insp=1613902', 'date': '11/01/2007', 'status': 'PARTIAL PASSED', 'description': 'DOB NEW CONSTRUCTION INSP'}, {'insp': '1871104', 'url': 'https://webapps1.chicago.gov/buildingrecords/inspectiondetails?addr=364923&insp=1871104', 'date': '11/01/2007', 'status': 'PARTIAL PASSED', 'description': 'DOB NEW CONSTRUCTION INSP'}, {'insp': '1943916', 'url': 'https://webapps1.chicago.gov/buildingrecords/inspectiondetails?addr=364923&insp=1943916', 'date': '08/15/2007', 'status': 'PARTIAL PASSED', 'description': 'PERMIT INSPECTION'}, {'insp': '1973677', 'url': 'https://webapps1.chicago.gov/buildingrecords/inspectiondetails?addr=364923&insp=1973677', 'date': '07/31/2007', 'status': 'PARTIAL PASSED', 'description': 'CONSTRUCTION EQUIPMENT PERMIT'}, {'insp': '1951026', 'url': 'https://webapps1.chicago.gov/buildingrecords/inspectiondetails?addr=364923&insp=1951026', 'date': '07/31/2007', 'status': 'PARTIAL PASSED', 'description': 'CONSTRUCTION EQUIPMENT PERMIT'}, {'insp': '2008607', 'url': 'https://webapps1.chicago.gov/buildingrecords/inspectiondetails?addr=364923&insp=2008607', 'date': '07/31/2007', 'status': 'PARTIAL PASSED', 'description': 'CONSTRUCTION EQUIPMENT PERMIT'}, {'insp': '1937982', 'url': 'https://webapps1.chicago.gov/buildingrecords/inspectiondetails?addr=364923&insp=1937982', 'date': '07/13/2007', 'status': 'PARTIAL PASSED', 'description': 'CONSTRUCTION EQUIPMENT PERMIT'}, {'insp': '1957863', 'url': 'https://webapps1.chicago.gov/buildingrecords/inspectiondetails?addr=364923&insp=1957863', 'date': '07/13/2007', 'status': 'PASSED', 'description': 'CONSTRUCTION EQUIPMENT PERMIT'}, {'insp': '1768615', 'url': 'https://webapps1.chicago.gov/buildingrecords/inspectiondetails?addr=364923&insp=1768615', 'date': '06/21/2007', 'status': 'PASSED', 'description': 'CONSERVATION ANNUAL'}, {'insp': '1912893', 'url': 'https://webapps1.chicago.gov/buildingrecords/inspectiondetails?addr=364923&insp=1912893', 'date': '06/13/2007', 'status': 'PARTIAL PASSED', 'description': 'CONSTRUCTION EQUIPMENT PERMIT'}, {'insp': '1882042', 'url': 'https://webapps1.chicago.gov/buildingrecords/inspectiondetails?addr=364923&insp=1882042', 'date': '05/25/2007', 'status': 'PARTIAL PASSED', 'description': 'CONSTRUCTION EQUIPMENT PERMIT'}, {'insp': '1621186', 'url': 'https://webapps1.chicago.gov/buildingrecords/inspectiondetails?addr=364923&insp=1621186', 'date': '05/16/2007', 'status': 'PARTIAL PASSED', 'description': 'PERMIT INSPECTION'}, {'insp': '1613899', 'url': 'https://webapps1.chicago.gov/buildingrecords/inspectiondetails?addr=364923&insp=1613899', 'date': '05/10/2007', 'status': 'PARTIAL PASSED', 'description': 'DOB PLUMBING INSPECTION'}, {'insp': '1881043', 'url': 'https://webapps1.chicago.gov/buildingrecords/inspectiondetails?addr=364923&insp=1881043', 'date': '04/20/2007', 'status': 'PARTIAL PASSED', 'description': 'CONSTRUCTION EQUIPMENT PERMIT'}, {'insp': '1652466', 'url': 'https://webapps1.chicago.gov/buildingrecords/inspectiondetails?addr=364923&insp=1652466', 'date': '04/06/2007', 'status': 'PASSED', 'description': 'BOILER ANNUAL INSPECTION'}, {'insp': '1613909', 'url': 'https://webapps1.chicago.gov/buildingrecords/inspectiondetails?addr=364923&insp=1613909', 'date': '04/06/2007', 'status': 'PARTIAL PASSED', 'description': 'DOB NEW CONSTRUCTION INSP'}, {'insp': '1749666', 'url': 'https://webapps1.chicago.gov/buildingrecords/inspectiondetails?addr=364923&insp=1749666', 'date': '03/08/2007', 'status': 'PASSED', 'description': 'ANNUAL INSPECTION'}, {'insp': '1664779', 'url': 'https://webapps1.chicago.gov/buildingrecords/inspectiondetails?addr=364923&insp=1664779', 'date': '02/13/2007', 'status': 'PARTIAL PASSED', 'description': 'BLDG_PERM IRON PERMIT INSP'}, {'insp': '1664784', 'url': 'https://webapps1.chicago.gov/buildingrecords/inspectiondetails?addr=364923&insp=1664784', 'date': '02/13/2007', 'status': 'PARTIAL PASSED', 'description': 'BLDG_PERM IRON PERMIT INSP'}, {'insp': '1613903', 'url': 'https://webapps1.chicago.gov/buildingrecords/inspectiondetails?addr=364923&insp=1613903', 'date': '02/07/2007', 'status': 'PARTIAL PASSED', 'description': 'CONSTRUCTION EQUIPMENT PERMIT'}, {'insp': '1613910', 'url': 'https://webapps1.chicago.gov/buildingrecords/inspectiondetails?addr=364923&insp=1613910', 'date': '02/05/2007', 'status': 'PARTIAL PASSED', 'description': 'CONSTRUCTION EQUIPMENT PERMIT'}, {'insp': '1613898', 'url': 'https://webapps1.chicago.gov/buildingrecords/inspectiondetails?addr=364923&insp=1613898', 'date': '12/21/2006', 'status': 'PARTIAL PASSED', 'description': 'BLDG_PERM IRON PERMIT INSP'}, {'insp': '1613905', 'url': 'https://webapps1.chicago.gov/buildingrecords/inspectiondetails?addr=364923&insp=1613905', 'date': '12/21/2006', 'status': 'PARTIAL PASSED', 'description': 'BLDG_PERM IRON PERMIT INSP'}, {'insp': '1113224', 'url': 'https://webapps1.chicago.gov/buildingrecords/inspectiondetails?addr=364923&insp=1113224', 'date': '12/13/2006', 'status': 'PASSED', 'description': 'ANNUAL INSPECTION'}, {'insp': '1340193', 'url': 'https://webapps1.chicago.gov/buildingrecords/inspectiondetails?addr=364923&insp=1340193', 'date': '08/25/2006', 'status': 'PASSED', 'description': 'REFRIGERATION ANNUAL'}, {'insp': '1332657', 'url': 'https://webapps1.chicago.gov/buildingrecords/inspectiondetails?addr=364923&insp=1332657', 'date': '06/20/2006', 'status': 'PASSED', 'description': 'ANNUAL INSPECTION'}, {'insp': '1396179', 'url': 'https://webapps1.chicago.gov/buildingrecords/inspectiondetails?addr=364923&insp=1396179', 'date': '06/01/2006', 'status': 'PASSED', 'description': 'VENT ANNUAL'}, {'insp': '1242229', 'url': 'https://webapps1.chicago.gov/buildingrecords/inspectiondetails?addr=364923&insp=1242229', 'date': '03/10/2006', 'status': 'PASSED', 'description': 'BOILER ANNUAL INSPECTION'}, {'insp': '1064281', 'url': 'https://webapps1.chicago.gov/buildingrecords/inspectiondetails?addr=364923&insp=1064281', 'date': '07/14/2005', 'status': 'PASSED', 'description': 'ANNUAL INSPECTION'}, {'insp': '833206', 'url': 'https://webapps1.chicago.gov/buildingrecords/inspectiondetails?addr=364923&insp=833206', 'date': '06/29/2005', 'status': 'PASSED', 'description': 'REFRIGERATION ANNUAL'}, {'insp': '965745', 'url': 'https://webapps1.chicago.gov/buildingrecords/inspectiondetails?addr=364923&insp=965745', 'date': '06/25/2005', 'status': 'PASSED', 'description': 'ANNUAL INSPECTION'}, {'insp': '916641', 'url': 'https://webapps1.chicago.gov/buildingrecords/inspectiondetails?addr=364923&insp=916641', 'date': '06/17/2005', 'status': 'PASSED', 'description': 'CONSERVATION ANNUAL'}, {'insp': '951019', 'url': 'https://webapps1.chicago.gov/buildingrecords/inspectiondetails?addr=364923&insp=951019', 'date': '03/21/2005', 'status': 'PASSED', 'description': 'BOILER ANNUAL INSPECTION'}, {'insp': '745379', 'url': 'https://webapps1.chicago.gov/buildingrecords/inspectiondetails?addr=364923&insp=745379', 'date': '07/08/2004', 'status': 'PASSED', 'description': 'ANNUAL INSPECTION'}, {'insp': '779987', 'url': 'https://webapps1.chicago.gov/buildingrecords/inspectiondetails?addr=364923&insp=779987', 'date': '07/08/2004', 'status': 'PASSED', 'description': 'ANNUAL INSPECTION'}, {'insp': '734609', 'url': 'https://webapps1.chicago.gov/buildingrecords/inspectiondetails?addr=364923&insp=734609', 'date': '06/07/2004', 'status': 'PASSED', 'description': 'ANNUAL INSPECTION'}, {'insp': '577179', 'url': 'https://webapps1.chicago.gov/buildingrecords/inspectiondetails?addr=364923&insp=577179', 'date': '02/20/2004', 'status': 'PASSED', 'description': 'BOILER ANNUAL INSPECTION'}, {'insp': '495435', 'url': 'https://webapps1.chicago.gov/buildingrecords/inspectiondetails?addr=364923&insp=495435', 'date': '07/07/2003', 'status': 'PASSED', 'description': 'ANNUAL INSPECTION'}, {'insp': '251124', 'url': 'https://webapps1.chicago.gov/buildingrecords/inspectiondetails?addr=364923&insp=251124', 'date': '06/25/2003', 'status': 'PASSED', 'description': 'ANNUAL INSPECTION'}, {'insp': '465051', 'url': 'https://webapps1.chicago.gov/buildingrecords/inspectiondetails?addr=364923&insp=465051', 'date': '06/25/2003', 'status': 'PASSED', 'description': 'ANNUAL INSPECTION'}, {'insp': '417334', 'url': 'https://webapps1.chicago.gov/buildingrecords/inspectiondetails?addr=364923&insp=417334', 'date': '05/30/2003', 'status': 'PASSED', 'description': 'SIGN ANNUAL INSPECTION'}, {'insp': '458503', 'url': 'https://webapps1.chicago.gov/buildingrecords/inspectiondetails?addr=364923&insp=458503', 'date': '03/05/2003', 'status': 'FAILED', 'description': 'ANNUAL INSPECTION'}, {'insp': '440211', 'url': 'https://webapps1.chicago.gov/buildingrecords/inspectiondetails?addr=364923&insp=440211', 'date': '02/10/2003', 'status': 'PASSED', 'description': 'BOILER ANNUAL INSPECTION'}, {'insp': '200272', 'url': 'https://webapps1.chicago.gov/buildingrecords/inspectiondetails?addr=364923&insp=200272', 'date': '10/02/2002', 'status': 'PASSED', 'description': 'SIGN ANNUAL INSPECTION'}, {'insp': '707841', 'url': 'https://webapps1.chicago.gov/buildingrecords/inspectiondetails?addr=364923&insp=707841', 'date': '10/02/2002', 'status': 'CLOSED', 'description': 'SIGN ANNUAL INSPECTION'}, {'insp': '251273', 'url': 'https://webapps1.chicago.gov/buildingrecords/inspectiondetails?addr=364923&insp=251273', 'date': '07/11/2002', 'status': 'PASSED', 'description': 'ANNUAL INSPECTION'}, {'insp': '245364', 'url': 'https://webapps1.chicago.gov/buildingrecords/inspectiondetails?addr=364923&insp=245364', 'date': '07/10/2002', 'status': 'PASSED', 'description': 'ANNUAL INSPECTION'}, {'insp': '175477', 'url': 'https://webapps1.chicago.gov/buildingrecords/inspectiondetails?addr=364923&insp=175477', 'date': '02/16/2002', 'status': 'PASSED', 'description': 'BOILER ANNUAL INSPECTION'}, {'insp': '9639744', 'url': 'https://webapps1.chicago.gov/buildingrecords/inspectiondetails?addr=364923&insp=9639744', 'date': '12/22/2001', 'status': 'CLOSED', 'description': 'ANNUAL INSPECTION'}, {'insp': '130127', 'url': 'https://webapps1.chicago.gov/buildingrecords/inspectiondetails?addr=364923&insp=130127', 'date': '08/20/2001', 'status': 'CLOSED', 'description': 'FIRE PREVENTION PUMPS LEGACY'}, {'insp': '25836', 'url': 'https://webapps1.chicago.gov/buildingrecords/inspectiondetails?addr=364923&insp=25836', 'date': '07/09/2001', 'status': 'PASSED', 'description': 'SIGN ANNUAL INSPECTION'}, {'insp': '130126', 'url': 'https://webapps1.chicago.gov/buildingrecords/inspectiondetails?addr=364923&insp=130126', 'date': '05/09/1997', 'status': 'CLOSED', 'description': 'FIRE PREVENTION PUMPS LEGACY'}, {'insp': '9475223', 'url': 'https://webapps1.chicago.gov/buildingrecords/inspectiondetails?addr=364923&insp=9475223', 'date': '01/28/1997', 'status': 'CLOSED', 'description': 'ELEVATOR LEGACY INSPECTION'}, {'insp': '9457580', 'url': 'https://webapps1.chicago.gov/buildingrecords/inspectiondetails?addr=364923&insp=9457580', 'date': '01/21/1997', 'status': 'CLOSED', 'description': 'ELEVATOR LEGACY INSPECTION'}, {'insp': '130125', 'url': 'https://webapps1.chicago.gov/buildingrecords/inspectiondetails?addr=364923&insp=130125', 'date': '03/21/1996', 'status': 'CLOSED', 'description': 'FIRE PREVENTION PUMPS LEGACY'}]\n"
     ]
    }
   ],
   "source": [
    "items = driver.find_elements_by_tag_name(\"tr\")[37:193]\n",
    "\n",
    "rows = []\n",
    "for item in items:\n",
    "    tds = item.find_elements_by_tag_name(\"td\")\n",
    "    insp = tds[0]\n",
    "    url = tds[0].find_element_by_tag_name(\"a\").get_attribute('href')\n",
    "    date = tds[1]\n",
    "    status = tds[2]\n",
    "    descr = tds[3]\n",
    " \n",
    "        \n",
    "    row = {\n",
    "        'insp': insp.text, \n",
    "        'url': url,\n",
    "        'date': date.text, \n",
    "        'status': status.text, \n",
    "        \"description\": descr.text\n",
    "    }\n",
    "    \n",
    "    rows.append(row)\n",
    "print(rows)"
   ]
  },
  {
   "cell_type": "code",
   "execution_count": 10,
   "metadata": {},
   "outputs": [],
   "source": [
    "dob = pd.DataFrame(rows)\n",
    "dob.to_csv('Inspections - 400 E 41ST ST.csv', index = False)"
   ]
  },
  {
   "cell_type": "code",
   "execution_count": 11,
   "metadata": {},
   "outputs": [
    {
     "data": {
      "text/html": [
       "<div>\n",
       "<style scoped>\n",
       "    .dataframe tbody tr th:only-of-type {\n",
       "        vertical-align: middle;\n",
       "    }\n",
       "\n",
       "    .dataframe tbody tr th {\n",
       "        vertical-align: top;\n",
       "    }\n",
       "\n",
       "    .dataframe thead th {\n",
       "        text-align: right;\n",
       "    }\n",
       "</style>\n",
       "<table border=\"1\" class=\"dataframe\">\n",
       "  <thead>\n",
       "    <tr style=\"text-align: right;\">\n",
       "      <th></th>\n",
       "      <th>insp</th>\n",
       "      <th>url</th>\n",
       "      <th>date</th>\n",
       "      <th>status</th>\n",
       "      <th>description</th>\n",
       "    </tr>\n",
       "  </thead>\n",
       "  <tbody>\n",
       "    <tr>\n",
       "      <th>0</th>\n",
       "      <td>13175960</td>\n",
       "      <td>https://webapps1.chicago.gov/buildingrecords/i...</td>\n",
       "      <td>11/30/2020</td>\n",
       "      <td>FAILED</td>\n",
       "      <td>ANNUAL INSPECTION</td>\n",
       "    </tr>\n",
       "    <tr>\n",
       "      <th>1</th>\n",
       "      <td>12770690</td>\n",
       "      <td>https://webapps1.chicago.gov/buildingrecords/i...</td>\n",
       "      <td>05/30/2019</td>\n",
       "      <td>PASSED</td>\n",
       "      <td>BOILER ANNUAL INSPECTION</td>\n",
       "    </tr>\n",
       "    <tr>\n",
       "      <th>2</th>\n",
       "      <td>12670542</td>\n",
       "      <td>https://webapps1.chicago.gov/buildingrecords/i...</td>\n",
       "      <td>05/21/2019</td>\n",
       "      <td>FAILED</td>\n",
       "      <td>CONSERVATION ANNUAL</td>\n",
       "    </tr>\n",
       "    <tr>\n",
       "      <th>3</th>\n",
       "      <td>12277260</td>\n",
       "      <td>https://webapps1.chicago.gov/buildingrecords/i...</td>\n",
       "      <td>08/27/2018</td>\n",
       "      <td>FAILED</td>\n",
       "      <td>CONSERVATION ANNUAL</td>\n",
       "    </tr>\n",
       "    <tr>\n",
       "      <th>4</th>\n",
       "      <td>12418304</td>\n",
       "      <td>https://webapps1.chicago.gov/buildingrecords/i...</td>\n",
       "      <td>05/30/2018</td>\n",
       "      <td>PASSED</td>\n",
       "      <td>BOILER ANNUAL INSPECTION</td>\n",
       "    </tr>\n",
       "  </tbody>\n",
       "</table>\n",
       "</div>"
      ],
      "text/plain": [
       "       insp                                                url        date  \\\n",
       "0  13175960  https://webapps1.chicago.gov/buildingrecords/i...  11/30/2020   \n",
       "1  12770690  https://webapps1.chicago.gov/buildingrecords/i...  05/30/2019   \n",
       "2  12670542  https://webapps1.chicago.gov/buildingrecords/i...  05/21/2019   \n",
       "3  12277260  https://webapps1.chicago.gov/buildingrecords/i...  08/27/2018   \n",
       "4  12418304  https://webapps1.chicago.gov/buildingrecords/i...  05/30/2018   \n",
       "\n",
       "   status               description  \n",
       "0  FAILED         ANNUAL INSPECTION  \n",
       "1  PASSED  BOILER ANNUAL INSPECTION  \n",
       "2  FAILED       CONSERVATION ANNUAL  \n",
       "3  FAILED       CONSERVATION ANNUAL  \n",
       "4  PASSED  BOILER ANNUAL INSPECTION  "
      ]
     },
     "execution_count": 11,
     "metadata": {},
     "output_type": "execute_result"
    }
   ],
   "source": [
    "dob.head(5)"
   ]
  },
  {
   "cell_type": "markdown",
   "metadata": {},
   "source": [
    "### Loopity loops\n",
    "\n",
    "> If you used Selenium for the last question, copy the code and use it as a starting point for what we're about to do!\n",
    "\n",
    "If you click the inspection number, it'll open up a new window that shows you details of the violations from that visit. Count the number of violations for each visit and save it in a new column called **num_violations**.\n",
    "\n",
    "Save this file as `Inspections - 400 E 41ST ST - with counts.csv`.\n",
    "\n",
    "Since it opens in a new window, we have to say \"Hey Selenium, pay attention to that new window!\" We do that with `driver.switch_to.window(driver.window_handles[-1])` (each window gets a `window_handle`, and we're just asking the driver to switch to the last one.). A rough sketch of what your code will look like is here:\n",
    "\n",
    "```python\n",
    "# Click the link that opens the new window\n",
    "\n",
    "# Switch to the new window/tab\n",
    "driver.switch_to.window(driver.window_handles[-1])\n",
    "\n",
    "# Do your scraping in here\n",
    "\n",
    "# Close the new window/tab\n",
    "driver.close()\n",
    "\n",
    "# Switch back to the original window/tab\n",
    "driver.switch_to.window(driver.window_handles[0])\n",
    "```\n",
    "\n",
    "You'll want to play around with them individually before you try it with the whole set - the ones that pass are very different pages than the ones with violations! There are a few ways to get the number of violations, some easier than others."
   ]
  },
  {
   "cell_type": "code",
   "execution_count": 12,
   "metadata": {},
   "outputs": [],
   "source": [
    "## Chrome hates me and it doesn't let me do more than a couple at a time - so here it is for part of the list. \n",
    "## I can do more when I expand the list range! \n",
    "\n",
    "items = driver.find_elements_by_tag_name(\"tr\")[37:60]\n",
    "\n",
    "rows = []\n",
    "\n",
    "for item in items:\n",
    "    \n",
    "    tds = item.find_elements_by_tag_name(\"td\")\n",
    "    insp = tds[0]\n",
    "    url = tds[0].find_element_by_tag_name(\"a\").get_attribute('href')\n",
    "    date = tds[1]\n",
    "    status = tds[2]\n",
    "    descr = tds[3]\n",
    "\n",
    "    row = {\n",
    "        'insp': insp.text, \n",
    "        'url': url,\n",
    "        'date': date.text, \n",
    "        'status': status.text, \n",
    "        \"description\": descr.text\n",
    "    }\n",
    "    \n",
    "    if url is None: \n",
    "        continue  \n",
    "    \n",
    "    tds[0].click()\n",
    "    \n",
    "    time.sleep(0.5)\n",
    "    \n",
    "    driver.switch_to.window(driver.window_handles[-1])\n",
    "    \n",
    "    items_2 = driver.find_elements_by_tag_name(\"tr\")\n",
    "    \n",
    "    row['num_violations'] = len(items_2)\n",
    "    \n",
    "    driver.close()\n",
    "    driver.switch_to.window(driver.window_handles[0])\n",
    "\n",
    "    rows.append(row)"
   ]
  },
  {
   "cell_type": "code",
   "execution_count": 17,
   "metadata": {},
   "outputs": [],
   "source": [
    "new_dob = pd.DataFrame(rows)\n",
    "new_dob.to_csv('Inspections - 400 E 41ST ST - with counts.csv', index = False)"
   ]
  },
  {
   "cell_type": "code",
   "execution_count": null,
   "metadata": {},
   "outputs": [],
   "source": []
  },
  {
   "cell_type": "code",
   "execution_count": null,
   "metadata": {},
   "outputs": [],
   "source": []
  },
  {
   "cell_type": "code",
   "execution_count": null,
   "metadata": {},
   "outputs": [],
   "source": []
  }
 ],
 "metadata": {
  "kernelspec": {
   "display_name": "Python 3",
   "language": "python",
   "name": "python3"
  },
  "language_info": {
   "codemirror_mode": {
    "name": "ipython",
    "version": 3
   },
   "file_extension": ".py",
   "mimetype": "text/x-python",
   "name": "python",
   "nbconvert_exporter": "python",
   "pygments_lexer": "ipython3",
   "version": "3.8.2"
  }
 },
 "nbformat": 4,
 "nbformat_minor": 4
}
