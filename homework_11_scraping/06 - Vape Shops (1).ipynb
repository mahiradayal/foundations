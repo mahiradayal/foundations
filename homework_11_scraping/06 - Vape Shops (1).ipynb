{
 "cells": [
  {
   "cell_type": "markdown",
   "metadata": {},
   "source": [
    "# Scraping Maryland Business Licenses with Selenium\n",
    "\n",
    "Maryland has a [great portal](https://jportal.mdcourts.gov/license/pbPublicSearch.jsp) for searching business licenses, but the only problem is you have to check a box in order to get in.\n",
    "\n",
    "1. Try to visit [the public search page](https://jportal.mdcourts.gov/license/pbPublicSearch.jsp)\n",
    "2. Get redirected to a \"I agree to this\" page. Click that you've read the disclaimer, click Enter the Site.\n",
    "3. Click \"Search License Records\" down at the bottom of the page\n",
    "4. You're now on the search page! From the \"Jurisdiction\" dropdown, select \"Statewide\"\n",
    "5. In the \"Trade Name\" field, type \"Vap%\" to try to find vape shops\n",
    "6. Click \"Next\" in the bottom right-hand corner to go to the next page\n",
    "7. Click \"Click for detail\" to see the details for a specific business license.\n",
    "\n",
    "That's a lot of stuff! **Let's get to work.**"
   ]
  },
  {
   "cell_type": "markdown",
   "metadata": {},
   "source": [
    "## Import what you need"
   ]
  },
  {
   "cell_type": "code",
   "execution_count": 1,
   "metadata": {},
   "outputs": [
    {
     "name": "stderr",
     "output_type": "stream",
     "text": [
      "/Users/mahiradayal/.pyenv/versions/3.8.2/lib/python3.8/site-packages/pandas/compat/__init__.py:120: UserWarning: Could not import the lzma module. Your installed Python is incomplete. Attempting to use lzma compression will result in a RuntimeError.\n",
      "  warnings.warn(msg)\n"
     ]
    }
   ],
   "source": [
    "import pandas as pd\n",
    "import requests\n",
    "import time \n",
    "from bs4 import BeautifulSoup\n",
    "\n",
    "\n",
    "from selenium import webdriver\n",
    "from selenium.webdriver.common.keys import Keys\n",
    "from selenium.webdriver.support.ui import Select\n",
    "from selenium.webdriver.support.ui import WebDriverWait"
   ]
  },
  {
   "cell_type": "code",
   "execution_count": 2,
   "metadata": {},
   "outputs": [],
   "source": [
    "driver = webdriver.Chrome()"
   ]
  },
  {
   "cell_type": "markdown",
   "metadata": {},
   "source": [
    "## Preparation\n",
    "\n",
    "### When you search for a business license, what URL should Selenium try to visit first?"
   ]
  },
  {
   "cell_type": "code",
   "execution_count": 3,
   "metadata": {},
   "outputs": [],
   "source": [
    "# https://jportal.mdcourts.gov/license/pbIndex.jsp?ac=y"
   ]
  },
  {
   "cell_type": "code",
   "execution_count": 4,
   "metadata": {},
   "outputs": [],
   "source": [
    "driver.get(\"https://jportal.mdcourts.gov/license/index_disclaimer.jsp\")"
   ]
  },
  {
   "cell_type": "markdown",
   "metadata": {},
   "source": [
    "**It isn't going to work, though! It's going to redirect to that intro page.** You can use *Incognito mode* to go back through the \"Check the box, etc\" series of pages, or you can close and re-open Chrome.\n",
    "\n",
    "- Check the checkbox, then submit the form to accept their terms of service\n",
    "\n",
    "Selenium can submit forms by either\n",
    "\n",
    "- Selecting the form and using `.submit()`, or\n",
    "- Selecting the button and using `.click()`\n",
    "\n",
    "You only need to be able to get **one, not both.**\n",
    "\n",
    "- *TIP: if something doesn't have anything special about it, xpath might be your best bet*"
   ]
  },
  {
   "cell_type": "code",
   "execution_count": 5,
   "metadata": {},
   "outputs": [],
   "source": [
    "button = driver.find_element_by_id(\"checkbox\")\n",
    "button.click()\n",
    "enter = driver.find_elements_by_tag_name(\"tr\")[6].find_elements_by_tag_name(\"input\")[1]\n",
    "enter.click()"
   ]
  },
  {
   "cell_type": "markdown",
   "metadata": {},
   "source": [
    "Now click the **Search License Records** link up top in the navigation to get to the search page.\n",
    "\n",
    "- *TIP: Honestly you could also just visit the URL directly now since you filled out that terms of service thing*"
   ]
  },
  {
   "cell_type": "code",
   "execution_count": 6,
   "metadata": {},
   "outputs": [],
   "source": [
    "driver.get(\"https://jportal.mdcourts.gov/license/pbPublicSearch.jsp\")"
   ]
  },
  {
   "cell_type": "markdown",
   "metadata": {},
   "source": [
    "### Perform your search\n",
    "\n",
    "Pick \"Statewide\" for the jurisdiction dropdown, and `VAP%` into the Trade Name field. The `%` is a wildcard.\n",
    "\n",
    "*TIP: I wish I could put this on CourseWorks, but it looks too ugly: [Selenium snippets](http://jonathansoma.com/lede/foundations-2018/classes/selenium/selenium-snippets/) will help you with the dropdown*"
   ]
  },
  {
   "cell_type": "code",
   "execution_count": 7,
   "metadata": {},
   "outputs": [],
   "source": [
    "from selenium.webdriver.support.ui import Select\n",
    "select = Select(driver.find_element_by_id('slcJurisdiction'))\n",
    "select.select_by_visible_text('Statewide')\n",
    "\n",
    "trade_name = driver.find_element_by_id(\"txtTradeName\")\n",
    "trade_name.send_keys(\"VAP%\")"
   ]
  },
  {
   "cell_type": "markdown",
   "metadata": {},
   "source": [
    "And now, of course, **submit the form**.\n",
    "\n",
    "- *TIP: Since scrolling to buttons can be a pain, sometimes it's easier to select the form and use `.submit()` instead of `.click()`ing the button*"
   ]
  },
  {
   "cell_type": "code",
   "execution_count": 8,
   "metadata": {},
   "outputs": [],
   "source": [
    "driver.find_element_by_name('searchForm').submit()"
   ]
  },
  {
   "cell_type": "markdown",
   "metadata": {},
   "source": [
    "## (Try to) scrape the results\n",
    "\n",
    "Let's start by just **printing this stuff**. We'll save it as a dataframe later on.\n",
    "\n",
    "For now, just scrape **each store's name**, then cry a little. Fact: this is an impossible and miserable page. "
   ]
  },
  {
   "cell_type": "code",
   "execution_count": 9,
   "metadata": {},
   "outputs": [
    {
     "name": "stdout",
     "output_type": "stream",
     "text": [
      "VAPE IT STORE I\n",
      "VAPE IT STORE II\n",
      "VAPEPAD THE\n",
      "VAPE LOFT THE\n",
      "VAPE N CIGAR\n"
     ]
    }
   ],
   "source": [
    "stores = driver.find_elements_by_class_name(\"searchfieldtitle\")\n",
    "\n",
    "for store in stores: \n",
    "    name = store.find_element_by_class_name(\"copybold\").text.strip()\n",
    "    print(name)"
   ]
  },
  {
   "cell_type": "markdown",
   "metadata": {},
   "source": [
    "To avoid struggling with the search results page, we're going to use the **detail page** instead. Try to figure out how to select it and click it inside of your `for` loop.\n",
    "\n",
    "- *TIP: Instead of just looking for an `a` or an `img`, you might want to look for one of its parents first, then click. This might affect the way you print out the shop's name, too*\n",
    "- *TIP: Not all of them have links! You can wrap in try/except to skip it, or you can check to see if the shop's status is Pending.*"
   ]
  },
  {
   "cell_type": "code",
   "execution_count": 10,
   "metadata": {},
   "outputs": [
    {
     "name": "stdout",
     "output_type": "stream",
     "text": [
      "VAPE IT STORE I\n",
      "VAPE IT STORE II\n",
      "https://jportal.mdcourts.gov/license/pbLicenseDetail.jsp?owi=Lf3whQqbBkY%3D\n",
      "https://jportal.mdcourts.gov/license/pbLicenseDetail.jsp?owi=19QOODA54Ss%3D\n",
      "https://jportal.mdcourts.gov/license/pbLicenseDetail.jsp?owi=4%2FLmFatEqNM%3D\n"
     ]
    }
   ],
   "source": [
    "stores = driver.find_elements_by_class_name(\"searchfieldtitle\")\n",
    "\n",
    "name_url = []\n",
    "\n",
    "for store in stores: \n",
    "    \n",
    "    name = store.find_element_by_class_name(\"copybold\").text.strip()\n",
    "    \n",
    "    try: \n",
    "        details = store.find_elements_by_tag_name(\"td\")[2].find_element_by_tag_name(\"a\").get_attribute('href')\n",
    "        print(details)\n",
    "        \n",
    "        driver.execute_script(\"window.open('');\")\n",
    "        driver.switch_to.window(driver.window_handles[1])\n",
    "        driver.get(details)\n",
    "        \n",
    "#         Just to make sure this is actually doing something. \n",
    "#         random = driver.find_elements_by_tag_name('td')[3]\n",
    "#         print(random)\n",
    "        \n",
    "        driver.close()\n",
    "        driver.switch_to.window(driver.window_handles[0])\n",
    "        \n",
    "    except: \n",
    "        \n",
    "        details = \"No URL\"\n",
    "        print(name)\n",
    "    \n",
    "    name_url_dict = {\n",
    "        'name': name, \n",
    "        'url': details\n",
    "    }\n",
    "    \n",
    "    name_url.append(name_url_dict)"
   ]
  },
  {
   "cell_type": "markdown",
   "metadata": {
    "collapsed": true
   },
   "source": [
    "Okay, now let's get to action. For each result, **click the link to the detail page** and print out the following information:\n",
    "\n",
    "- Mailing address\n",
    "- Location address\n",
    "- License information (you can keep it as one field)\n",
    "- Total amount paid\n",
    "- Issued by\n",
    "- If you're feeling crazy, get the licenses, too.\n",
    "\n",
    "If it doesn't have a detail page, just print out the name and that's all we need.\n",
    "\n",
    "- *TIP: `try`/`except` is probably going to be your friend. What's it do?\n",
    "- *TIP: When you're done getting the information, you probably want to click back to the search results*\n",
    "- *TIP: You might enjoy `find_element_by_partial_link_text` to do that*\n",
    "- *TIP: Licenses can be acquired by doing some really odd list slicing - think about where it starts and where it ends, relative to the beginning and end of everything.*\n",
    "\n",
    "> **IMPORTANT NOTE:** This is doomed!!!! It's useful to do, but your current process is doomed. Once you get a `stale element reference` error move on to the next cell."
   ]
  },
  {
   "cell_type": "code",
   "execution_count": 11,
   "metadata": {},
   "outputs": [
    {
     "name": "stdout",
     "output_type": "stream",
     "text": [
      "NA\n",
      "NA\n"
     ]
    },
    {
     "data": {
      "text/plain": [
       "[{'name': 'VAPEPAD THE',\n",
       "  'url': 'https://jportal.mdcourts.gov/license/pbLicenseDetail.jsp?owi=Lf3whQqbBkY%3D',\n",
       "  'mailing': 'ANJ DISTRIBUTIONS LLC\\n2504 ORCHARD KNOLL WAY\\nODENTON, MD 21113',\n",
       "  'location': 'VAPEPAD THE\\n2299 JOHNS HOPKINS ROAD\\nGAMBRILLS, MD 21054',\n",
       "  'license_info': 'License Status: Issued\\nLicense No.: 02604406\\nControl No.: 02685930\\nDate of Issue: 5/01/2020\\nMonths Paid: 12\\nExp. Date: 4/30/2021\\nSubdivision: 02 Anne Arundel County',\n",
       "  'pay': '$ 94.00',\n",
       "  'issued': 'SCOTT A. POYER, CLERK OF CIRCUIT COURT\\n8 CHURCH CIRCLE, ROOM H-101\\nANNAPOLIS, MARYLAND 21401'},\n",
       " {'name': 'VAPE LOFT THE',\n",
       "  'url': 'https://jportal.mdcourts.gov/license/pbLicenseDetail.jsp?owi=19QOODA54Ss%3D',\n",
       "  'mailing': 'DISBROW II EMERSON HARRINGTON',\n",
       "  'location': 'VAPE LOFT THE\\n167 MITCHELLS CHANCE ROAD\\nEDGEWATER, MD 21037',\n",
       "  'license_info': 'License Status: Issued\\nLicense No.: 02610340\\nControl No.: 02686069\\nDate of Issue: 4/09/2020\\nMonths Paid: 12\\nExp. Date: 4/30/2021\\nSubdivision: 02 Anne Arundel County',\n",
       "  'pay': '$ 154.00',\n",
       "  'issued': 'SCOTT A. POYER, CLERK OF CIRCUIT COURT\\n8 CHURCH CIRCLE, ROOM H-101\\nANNAPOLIS, MARYLAND 21401'},\n",
       " {'name': 'VAPE N CIGAR',\n",
       "  'url': 'https://jportal.mdcourts.gov/license/pbLicenseDetail.jsp?owi=4%2FLmFatEqNM%3D',\n",
       "  'mailing': 'DISCOUNT TOBACCO EDGEWATER INC',\n",
       "  'location': 'VAPE N CIGAR\\n12 MAYO ROAD\\nEDGEWATER, MD 21037',\n",
       "  'license_info': 'License Status: Issued\\nLicense No.: 02611281\\nControl No.: 02611281\\nDate of Issue: 5/05/2020\\nMonths Paid: 12\\nExp. Date: 4/30/2021\\nSubdivision: 02 Anne Arundel County',\n",
       "  'pay': '8.00',\n",
       "  'issued': 'Total:'}]"
      ]
     },
     "execution_count": 11,
     "metadata": {},
     "output_type": "execute_result"
    }
   ],
   "source": [
    "stores = driver.find_elements_by_class_name(\"searchfieldtitle\")\n",
    "\n",
    "truck_details = []\n",
    "\n",
    "for store in stores: \n",
    "    \n",
    "    name = store.find_element_by_class_name(\"copybold\").text.strip()\n",
    "    \n",
    "    try: \n",
    "        details = store.find_elements_by_tag_name(\"td\")[2].find_element_by_tag_name(\"a\").get_attribute('href')\n",
    "        \n",
    "        driver.execute_script(\"window.open('');\")\n",
    "        driver.switch_to.window(driver.window_handles[1])\n",
    "        driver.get(details)\n",
    "        \n",
    "        mailing = driver.find_element_by_class_name('tablecelltext').find_element_by_tag_name(\"td\").text.strip()\n",
    "\n",
    "        location = driver.find_elements_by_class_name('tablecelltext')[1].find_element_by_tag_name(\"td\").text.strip()\n",
    "        \n",
    "        license_info = driver.find_element_by_class_name('tablecelltext').find_elements_by_tag_name(\"td\")[1].text.strip()\n",
    "        \n",
    "        paid = driver.find_elements_by_class_name('tablecelltext')[6].find_elements_by_class_name('rt')[1].text.strip()\n",
    "        \n",
    "        issued = driver.find_elements_by_class_name('tablecelltext')[7].find_element_by_tag_name(\"td\").text.strip()\n",
    "        \n",
    "        driver.close()\n",
    "        driver.switch_to.window(driver.window_handles[0])\n",
    "   \n",
    "    except: \n",
    "        \n",
    "        details = \"NA\"\n",
    "        print(details)\n",
    "        continue \n",
    "       \n",
    "    truck_dict = {\n",
    "        'name': name, \n",
    "        'url': details, \n",
    "        'mailing': mailing, \n",
    "        'location': location, \n",
    "        'license_info': license_info,\n",
    "        'pay': paid, \n",
    "        'issued': issued\n",
    "    }\n",
    "    \n",
    "    truck_details.append(truck_dict)\n",
    "    \n",
    "truck_details\n",
    "    "
   ]
  },
  {
   "cell_type": "markdown",
   "metadata": {},
   "source": [
    "### Stale message reference\n",
    "\n",
    "Once you navigate away from a page, and you go back to it, you (sometimes, usually) can't use the variables from the first time you were on the page. So, we got a list of results when we first visited, clicked to the details page, clicked back, and now our original list is \"stale.\"\n",
    "\n",
    "This is sad.\n",
    "\n",
    "Let's try this again: loop through the results and create a dataframe with `name` and `url` columns. And yes, some of them won't have URLs. No clicking links, just saving URLs."
   ]
  },
  {
   "cell_type": "code",
   "execution_count": 12,
   "metadata": {},
   "outputs": [
    {
     "data": {
      "text/html": [
       "<div>\n",
       "<style scoped>\n",
       "    .dataframe tbody tr th:only-of-type {\n",
       "        vertical-align: middle;\n",
       "    }\n",
       "\n",
       "    .dataframe tbody tr th {\n",
       "        vertical-align: top;\n",
       "    }\n",
       "\n",
       "    .dataframe thead th {\n",
       "        text-align: right;\n",
       "    }\n",
       "</style>\n",
       "<table border=\"1\" class=\"dataframe\">\n",
       "  <thead>\n",
       "    <tr style=\"text-align: right;\">\n",
       "      <th></th>\n",
       "      <th>name</th>\n",
       "      <th>url</th>\n",
       "    </tr>\n",
       "  </thead>\n",
       "  <tbody>\n",
       "    <tr>\n",
       "      <th>0</th>\n",
       "      <td>VAPE IT STORE I</td>\n",
       "      <td>No URL</td>\n",
       "    </tr>\n",
       "    <tr>\n",
       "      <th>1</th>\n",
       "      <td>VAPE IT STORE II</td>\n",
       "      <td>No URL</td>\n",
       "    </tr>\n",
       "    <tr>\n",
       "      <th>2</th>\n",
       "      <td>VAPEPAD THE</td>\n",
       "      <td>https://jportal.mdcourts.gov/license/pbLicense...</td>\n",
       "    </tr>\n",
       "    <tr>\n",
       "      <th>3</th>\n",
       "      <td>VAPE LOFT THE</td>\n",
       "      <td>https://jportal.mdcourts.gov/license/pbLicense...</td>\n",
       "    </tr>\n",
       "    <tr>\n",
       "      <th>4</th>\n",
       "      <td>VAPE N CIGAR</td>\n",
       "      <td>https://jportal.mdcourts.gov/license/pbLicense...</td>\n",
       "    </tr>\n",
       "  </tbody>\n",
       "</table>\n",
       "</div>"
      ],
      "text/plain": [
       "               name                                                url\n",
       "0   VAPE IT STORE I                                             No URL\n",
       "1  VAPE IT STORE II                                             No URL\n",
       "2       VAPEPAD THE  https://jportal.mdcourts.gov/license/pbLicense...\n",
       "3     VAPE LOFT THE  https://jportal.mdcourts.gov/license/pbLicense...\n",
       "4      VAPE N CIGAR  https://jportal.mdcourts.gov/license/pbLicense..."
      ]
     },
     "execution_count": 12,
     "metadata": {},
     "output_type": "execute_result"
    }
   ],
   "source": [
    "# name_url\n",
    "# Made this above because it was quicker. \n",
    "\n",
    "df = pd.DataFrame(name_url) \n",
    "df"
   ]
  },
  {
   "cell_type": "markdown",
   "metadata": {},
   "source": [
    "### Getting all of the results\n",
    "\n",
    "After you've looped through the results on one page, we're going to want to go to the next page! Add a line to make it click the 'Next' button down at the bottom\n",
    "\n",
    "- *TIP: `find_element_by_partial_link_text` will be your friend*\n",
    "- *TIP: You might need to do the scrolling thing to get it onto the screen (and by that I mean, you WILL need to, so you should)*\n",
    "\n",
    "Confirm that it moves to the next page (it doesn't need to scrape anything yet)"
   ]
  },
  {
   "cell_type": "code",
   "execution_count": 13,
   "metadata": {},
   "outputs": [
    {
     "name": "stdout",
     "output_type": "stream",
     "text": [
      "NA\n",
      "NA\n"
     ]
    },
    {
     "data": {
      "text/plain": [
       "[{'name': 'VAPEPAD THE',\n",
       "  'url': 'https://jportal.mdcourts.gov/license/pbLicenseDetail.jsp?owi=Lf3whQqbBkY%3D',\n",
       "  'mailing': 'ANJ DISTRIBUTIONS LLC\\n2504 ORCHARD KNOLL WAY\\nODENTON, MD 21113',\n",
       "  'location': 'VAPEPAD THE\\n2299 JOHNS HOPKINS ROAD\\nGAMBRILLS, MD 21054',\n",
       "  'license_info': 'License Status: Issued\\nLicense No.: 02604406\\nControl No.: 02685930\\nDate of Issue: 5/01/2020\\nMonths Paid: 12\\nExp. Date: 4/30/2021\\nSubdivision: 02 Anne Arundel County',\n",
       "  'pay': '$ 94.00',\n",
       "  'issued': 'SCOTT A. POYER, CLERK OF CIRCUIT COURT\\n8 CHURCH CIRCLE, ROOM H-101\\nANNAPOLIS, MARYLAND 21401'},\n",
       " {'name': 'VAPE LOFT THE',\n",
       "  'url': 'https://jportal.mdcourts.gov/license/pbLicenseDetail.jsp?owi=19QOODA54Ss%3D',\n",
       "  'mailing': 'DISBROW II EMERSON HARRINGTON',\n",
       "  'location': 'VAPE LOFT THE\\n167 MITCHELLS CHANCE ROAD\\nEDGEWATER, MD 21037',\n",
       "  'license_info': 'License Status: Issued\\nLicense No.: 02610340\\nControl No.: 02686069\\nDate of Issue: 4/09/2020\\nMonths Paid: 12\\nExp. Date: 4/30/2021\\nSubdivision: 02 Anne Arundel County',\n",
       "  'pay': '$ 154.00',\n",
       "  'issued': 'SCOTT A. POYER, CLERK OF CIRCUIT COURT\\n8 CHURCH CIRCLE, ROOM H-101\\nANNAPOLIS, MARYLAND 21401'},\n",
       " {'name': 'VAPE N CIGAR',\n",
       "  'url': 'https://jportal.mdcourts.gov/license/pbLicenseDetail.jsp?owi=4%2FLmFatEqNM%3D',\n",
       "  'mailing': 'DISCOUNT TOBACCO EDGEWATER INC',\n",
       "  'location': 'VAPE N CIGAR\\n12 MAYO ROAD\\nEDGEWATER, MD 21037',\n",
       "  'license_info': 'License Status: Issued\\nLicense No.: 02611281\\nControl No.: 02611281\\nDate of Issue: 5/05/2020\\nMonths Paid: 12\\nExp. Date: 4/30/2021\\nSubdivision: 02 Anne Arundel County',\n",
       "  'pay': '8.00',\n",
       "  'issued': 'Total:'}]"
      ]
     },
     "execution_count": 13,
     "metadata": {},
     "output_type": "execute_result"
    }
   ],
   "source": [
    "stores = driver.find_elements_by_class_name(\"searchfieldtitle\")\n",
    "\n",
    "truck_details = []\n",
    "\n",
    "for store in stores: \n",
    "    \n",
    "    name = store.find_element_by_class_name(\"copybold\").text.strip()\n",
    "    \n",
    "    try: \n",
    "        details = store.find_elements_by_tag_name(\"td\")[2].find_element_by_tag_name(\"a\").get_attribute('href')\n",
    "        \n",
    "        driver.execute_script(\"window.open('');\")\n",
    "        driver.switch_to.window(driver.window_handles[1])\n",
    "        driver.get(details)\n",
    "        \n",
    "        mailing = driver.find_element_by_class_name('tablecelltext').find_element_by_tag_name(\"td\").text.strip()\n",
    "\n",
    "        location = driver.find_elements_by_class_name('tablecelltext')[1].find_element_by_tag_name(\"td\").text.strip()\n",
    "        \n",
    "        license_info = driver.find_element_by_class_name('tablecelltext').find_elements_by_tag_name(\"td\")[1].text.strip()\n",
    "        \n",
    "        paid = driver.find_elements_by_class_name('tablecelltext')[6].find_elements_by_class_name('rt')[1].text.strip()\n",
    "        \n",
    "        issued = driver.find_elements_by_class_name('tablecelltext')[7].find_element_by_tag_name(\"td\").text.strip()\n",
    "        \n",
    "        driver.close()\n",
    "        driver.switch_to.window(driver.window_handles[0])\n",
    "           \n",
    "    except: \n",
    "        \n",
    "        details = \"NA\"\n",
    "        print(details)\n",
    "        continue \n",
    "       \n",
    "    truck_dict = {\n",
    "        'name': name, \n",
    "        'url': details, \n",
    "        'mailing': mailing, \n",
    "        'location': location, \n",
    "        'license_info': license_info,\n",
    "        'pay': paid, \n",
    "        'issued': issued\n",
    "    }\n",
    "    \n",
    "    truck_details.append(truck_dict)\n",
    "    \n",
    "next_button = driver.find_element_by_xpath('/html/body/table[2]/tbody/tr[4]/td[2]/table[2]/tbody/tr/td[3]/a')\n",
    "next_button.click()\n",
    "    \n",
    "truck_details\n",
    "\n",
    "\n",
    "    "
   ]
  },
  {
   "cell_type": "markdown",
   "metadata": {},
   "source": [
    "### Wrapping with `while`\n",
    "\n",
    "> Go back to the first page of results before you try to run this\n",
    "\n",
    "You have a bunch of scraping code. It clicks the next button, then it stops. But you'd like it to go back up to the top! You can make that happen with a special `while` loop.\n",
    "\n",
    "```python\n",
    "while True:\n",
    "    # Scrape your stuff\n",
    "    # Click next button\n",
    "```\n",
    "\n",
    "This will go on FOREVER AND EVER until there is an error (when it can't find the Next button on the last page of results, you'll get a `NoSuchElement` error when it tries to find the next button).\n",
    "\n",
    "- *Tip: Print out \"Scraping a new page\" every time you visit a new page, just to check that it's working*"
   ]
  },
  {
   "cell_type": "code",
   "execution_count": 14,
   "metadata": {},
   "outputs": [],
   "source": [
    "from selenium.webdriver.common.by import By\n",
    "from selenium.webdriver.support.ui import WebDriverWait\n",
    "from selenium.webdriver.support import expected_conditions as EC"
   ]
  },
  {
   "cell_type": "code",
   "execution_count": 15,
   "metadata": {},
   "outputs": [],
   "source": [
    "# next_button = driver.find_element_by_xpath('/html/body/table[2]/tbody/tr[4]/td[2]/table[2]/tbody/tr/td[3]/a')\n",
    "\n",
    "# while next_button not None:\n",
    "#     next_button.click()\n",
    "    \n",
    "#     next_button = driver.find_element_by_xpath('/html/body/table[2]/tbody/tr[4]/td[2]/table[2]/tbody/tr/td[3]/a')\n",
    "\n",
    "\n",
    "#     # 1. Scrape all the stuff. \n",
    "#     # 2. Hit next -- find next, click on it \n",
    "#     # If the next button exists, then click on it. "
   ]
  },
  {
   "cell_type": "code",
   "execution_count": 28,
   "metadata": {},
   "outputs": [
    {
     "name": "stdout",
     "output_type": "stream",
     "text": [
      "---------------------------\n",
      "1 VAPE IT STORE I\n",
      "---------------------------\n",
      "2 VAPE IT STORE II\n",
      "---------------------------\n",
      "3 VAPEPAD THE\n",
      "---------------------------\n",
      "4 VAPE LOFT THE\n",
      "---------------------------\n",
      "5 VAPE N CIGAR\n",
      "---------------------------\n",
      "6 VAPE N CIGAR\n",
      "---------------------------\n",
      "7 VAPE DOJO\n",
      "---------------------------\n",
      "8 VAPE BIRD II\n",
      "---------------------------\n",
      "9 VAPE BIRD\n",
      "---------------------------\n",
      "10 VAPORFI SOUTHSIDE\n",
      "---------------------------\n",
      "11 VAPE DO JO\n",
      "---------------------------\n",
      "12 VAPE PLANET\n",
      "---------------------------\n",
      "13 VAPE PLUS\n",
      "---------------------------\n",
      "14 VAPE JUNGLE\n",
      "---------------------------\n",
      "15 VAPE JUNGLE 4\n",
      "---------------------------\n",
      "16 VAPE SOCIAL\n",
      "---------------------------\n",
      "17 VAPE SWITCH\n",
      "---------------------------\n",
      "18 VAPEWERKS\n",
      "---------------------------\n",
      "19 VAPIST MD\n",
      "---------------------------\n",
      "20 VAPOR EMPORIUM\n",
      "---------------------------\n",
      "21 VAPOR VILLA\n",
      "---------------------------\n",
      "22 VAPOR VILLA\n",
      "---------------------------\n",
      "23 VAPORS LOUNGE\n",
      "---------------------------\n",
      "24 VAPERS RING THE\n"
     ]
    },
    {
     "ename": "NoSuchElementException",
     "evalue": "Message: no such element: Unable to locate element: {\"method\":\"xpath\",\"selector\":\"/html/body/table[2]/tbody/tr[4]/td[2]/table[2]/tbody/tr/td[3]/a\"}\n  (Session info: chrome=87.0.4280.88)\n",
     "output_type": "error",
     "traceback": [
      "\u001b[0;31m---------------------------------------------------------------------------\u001b[0m",
      "\u001b[0;31mNoSuchElementException\u001b[0m                    Traceback (most recent call last)",
      "\u001b[0;32m<ipython-input-28-9a167a493fa6>\u001b[0m in \u001b[0;36m<module>\u001b[0;34m\u001b[0m\n\u001b[1;32m     47\u001b[0m         }\n\u001b[1;32m     48\u001b[0m         \u001b[0mtruck_details\u001b[0m\u001b[0;34m.\u001b[0m\u001b[0mappend\u001b[0m\u001b[0;34m(\u001b[0m\u001b[0mtruck_dict\u001b[0m\u001b[0;34m)\u001b[0m\u001b[0;34m\u001b[0m\u001b[0;34m\u001b[0m\u001b[0m\n\u001b[0;32m---> 49\u001b[0;31m     \u001b[0mnext_button\u001b[0m \u001b[0;34m=\u001b[0m \u001b[0mdriver\u001b[0m\u001b[0;34m.\u001b[0m\u001b[0mfind_element_by_xpath\u001b[0m\u001b[0;34m(\u001b[0m\u001b[0;34m'/html/body/table[2]/tbody/tr[4]/td[2]/table[2]/tbody/tr/td[3]/a'\u001b[0m\u001b[0;34m)\u001b[0m\u001b[0;34m\u001b[0m\u001b[0;34m\u001b[0m\u001b[0m\n\u001b[0m\u001b[1;32m     50\u001b[0m     \u001b[0mdriver\u001b[0m\u001b[0;34m.\u001b[0m\u001b[0mexecute_script\u001b[0m\u001b[0;34m(\u001b[0m\u001b[0;34m\"arguments[0].scrollIntoView(true)\"\u001b[0m\u001b[0;34m,\u001b[0m \u001b[0mnext_button\u001b[0m\u001b[0;34m)\u001b[0m\u001b[0;34m\u001b[0m\u001b[0;34m\u001b[0m\u001b[0m\n\u001b[1;32m     51\u001b[0m     \u001b[0mnext_button\u001b[0m\u001b[0;34m.\u001b[0m\u001b[0mclick\u001b[0m\u001b[0;34m(\u001b[0m\u001b[0;34m)\u001b[0m\u001b[0;34m\u001b[0m\u001b[0;34m\u001b[0m\u001b[0m\n",
      "\u001b[0;32m~/.pyenv/versions/3.8.2/lib/python3.8/site-packages/selenium/webdriver/remote/webdriver.py\u001b[0m in \u001b[0;36mfind_element_by_xpath\u001b[0;34m(self, xpath)\u001b[0m\n\u001b[1;32m    392\u001b[0m             \u001b[0melement\u001b[0m \u001b[0;34m=\u001b[0m \u001b[0mdriver\u001b[0m\u001b[0;34m.\u001b[0m\u001b[0mfind_element_by_xpath\u001b[0m\u001b[0;34m(\u001b[0m\u001b[0;34m'//div/td[1]'\u001b[0m\u001b[0;34m)\u001b[0m\u001b[0;34m\u001b[0m\u001b[0;34m\u001b[0m\u001b[0m\n\u001b[1;32m    393\u001b[0m         \"\"\"\n\u001b[0;32m--> 394\u001b[0;31m         \u001b[0;32mreturn\u001b[0m \u001b[0mself\u001b[0m\u001b[0;34m.\u001b[0m\u001b[0mfind_element\u001b[0m\u001b[0;34m(\u001b[0m\u001b[0mby\u001b[0m\u001b[0;34m=\u001b[0m\u001b[0mBy\u001b[0m\u001b[0;34m.\u001b[0m\u001b[0mXPATH\u001b[0m\u001b[0;34m,\u001b[0m \u001b[0mvalue\u001b[0m\u001b[0;34m=\u001b[0m\u001b[0mxpath\u001b[0m\u001b[0;34m)\u001b[0m\u001b[0;34m\u001b[0m\u001b[0;34m\u001b[0m\u001b[0m\n\u001b[0m\u001b[1;32m    395\u001b[0m \u001b[0;34m\u001b[0m\u001b[0m\n\u001b[1;32m    396\u001b[0m     \u001b[0;32mdef\u001b[0m \u001b[0mfind_elements_by_xpath\u001b[0m\u001b[0;34m(\u001b[0m\u001b[0mself\u001b[0m\u001b[0;34m,\u001b[0m \u001b[0mxpath\u001b[0m\u001b[0;34m)\u001b[0m\u001b[0;34m:\u001b[0m\u001b[0;34m\u001b[0m\u001b[0;34m\u001b[0m\u001b[0m\n",
      "\u001b[0;32m~/.pyenv/versions/3.8.2/lib/python3.8/site-packages/selenium/webdriver/remote/webdriver.py\u001b[0m in \u001b[0;36mfind_element\u001b[0;34m(self, by, value)\u001b[0m\n\u001b[1;32m    974\u001b[0m                 \u001b[0mby\u001b[0m \u001b[0;34m=\u001b[0m \u001b[0mBy\u001b[0m\u001b[0;34m.\u001b[0m\u001b[0mCSS_SELECTOR\u001b[0m\u001b[0;34m\u001b[0m\u001b[0;34m\u001b[0m\u001b[0m\n\u001b[1;32m    975\u001b[0m                 \u001b[0mvalue\u001b[0m \u001b[0;34m=\u001b[0m \u001b[0;34m'[name=\"%s\"]'\u001b[0m \u001b[0;34m%\u001b[0m \u001b[0mvalue\u001b[0m\u001b[0;34m\u001b[0m\u001b[0;34m\u001b[0m\u001b[0m\n\u001b[0;32m--> 976\u001b[0;31m         return self.execute(Command.FIND_ELEMENT, {\n\u001b[0m\u001b[1;32m    977\u001b[0m             \u001b[0;34m'using'\u001b[0m\u001b[0;34m:\u001b[0m \u001b[0mby\u001b[0m\u001b[0;34m,\u001b[0m\u001b[0;34m\u001b[0m\u001b[0;34m\u001b[0m\u001b[0m\n\u001b[1;32m    978\u001b[0m             'value': value})['value']\n",
      "\u001b[0;32m~/.pyenv/versions/3.8.2/lib/python3.8/site-packages/selenium/webdriver/remote/webdriver.py\u001b[0m in \u001b[0;36mexecute\u001b[0;34m(self, driver_command, params)\u001b[0m\n\u001b[1;32m    319\u001b[0m         \u001b[0mresponse\u001b[0m \u001b[0;34m=\u001b[0m \u001b[0mself\u001b[0m\u001b[0;34m.\u001b[0m\u001b[0mcommand_executor\u001b[0m\u001b[0;34m.\u001b[0m\u001b[0mexecute\u001b[0m\u001b[0;34m(\u001b[0m\u001b[0mdriver_command\u001b[0m\u001b[0;34m,\u001b[0m \u001b[0mparams\u001b[0m\u001b[0;34m)\u001b[0m\u001b[0;34m\u001b[0m\u001b[0;34m\u001b[0m\u001b[0m\n\u001b[1;32m    320\u001b[0m         \u001b[0;32mif\u001b[0m \u001b[0mresponse\u001b[0m\u001b[0;34m:\u001b[0m\u001b[0;34m\u001b[0m\u001b[0;34m\u001b[0m\u001b[0m\n\u001b[0;32m--> 321\u001b[0;31m             \u001b[0mself\u001b[0m\u001b[0;34m.\u001b[0m\u001b[0merror_handler\u001b[0m\u001b[0;34m.\u001b[0m\u001b[0mcheck_response\u001b[0m\u001b[0;34m(\u001b[0m\u001b[0mresponse\u001b[0m\u001b[0;34m)\u001b[0m\u001b[0;34m\u001b[0m\u001b[0;34m\u001b[0m\u001b[0m\n\u001b[0m\u001b[1;32m    322\u001b[0m             response['value'] = self._unwrap_value(\n\u001b[1;32m    323\u001b[0m                 response.get('value', None))\n",
      "\u001b[0;32m~/.pyenv/versions/3.8.2/lib/python3.8/site-packages/selenium/webdriver/remote/errorhandler.py\u001b[0m in \u001b[0;36mcheck_response\u001b[0;34m(self, response)\u001b[0m\n\u001b[1;32m    240\u001b[0m                 \u001b[0malert_text\u001b[0m \u001b[0;34m=\u001b[0m \u001b[0mvalue\u001b[0m\u001b[0;34m[\u001b[0m\u001b[0;34m'alert'\u001b[0m\u001b[0;34m]\u001b[0m\u001b[0;34m.\u001b[0m\u001b[0mget\u001b[0m\u001b[0;34m(\u001b[0m\u001b[0;34m'text'\u001b[0m\u001b[0;34m)\u001b[0m\u001b[0;34m\u001b[0m\u001b[0;34m\u001b[0m\u001b[0m\n\u001b[1;32m    241\u001b[0m             \u001b[0;32mraise\u001b[0m \u001b[0mexception_class\u001b[0m\u001b[0;34m(\u001b[0m\u001b[0mmessage\u001b[0m\u001b[0;34m,\u001b[0m \u001b[0mscreen\u001b[0m\u001b[0;34m,\u001b[0m \u001b[0mstacktrace\u001b[0m\u001b[0;34m,\u001b[0m \u001b[0malert_text\u001b[0m\u001b[0;34m)\u001b[0m\u001b[0;34m\u001b[0m\u001b[0;34m\u001b[0m\u001b[0m\n\u001b[0;32m--> 242\u001b[0;31m         \u001b[0;32mraise\u001b[0m \u001b[0mexception_class\u001b[0m\u001b[0;34m(\u001b[0m\u001b[0mmessage\u001b[0m\u001b[0;34m,\u001b[0m \u001b[0mscreen\u001b[0m\u001b[0;34m,\u001b[0m \u001b[0mstacktrace\u001b[0m\u001b[0;34m)\u001b[0m\u001b[0;34m\u001b[0m\u001b[0;34m\u001b[0m\u001b[0m\n\u001b[0m\u001b[1;32m    243\u001b[0m \u001b[0;34m\u001b[0m\u001b[0m\n\u001b[1;32m    244\u001b[0m     \u001b[0;32mdef\u001b[0m \u001b[0m_value_or_default\u001b[0m\u001b[0;34m(\u001b[0m\u001b[0mself\u001b[0m\u001b[0;34m,\u001b[0m \u001b[0mobj\u001b[0m\u001b[0;34m,\u001b[0m \u001b[0mkey\u001b[0m\u001b[0;34m,\u001b[0m \u001b[0mdefault\u001b[0m\u001b[0;34m)\u001b[0m\u001b[0;34m:\u001b[0m\u001b[0;34m\u001b[0m\u001b[0;34m\u001b[0m\u001b[0m\n",
      "\u001b[0;31mNoSuchElementException\u001b[0m: Message: no such element: Unable to locate element: {\"method\":\"xpath\",\"selector\":\"/html/body/table[2]/tbody/tr[4]/td[2]/table[2]/tbody/tr/td[3]/a\"}\n  (Session info: chrome=87.0.4280.88)\n"
     ]
    }
   ],
   "source": [
    "truck_details = []\n",
    "i = 1\n",
    "# next_button = driver.find_element_by_xpath('/html/body/table[2]/tbody/tr[4]/td[2]/table[2]/tbody/tr/td[3]/a')\n",
    "# while next_button is not None:\n",
    "while True: \n",
    "    stores = driver.find_elements_by_class_name(\"searchfieldtitle\")\n",
    "    for store in stores: \n",
    "        name = store.find_element_by_class_name(\"copybold\").text.strip()\n",
    "        print('---------------------------')\n",
    "        print(i, name)\n",
    "        i+=1\n",
    "        try: \n",
    "            details = store.find_elements_by_tag_name(\"td\")[2].find_element_by_tag_name(\"a\").get_attribute('href')\n",
    "            #print(details)\n",
    "        except: \n",
    "            continue \n",
    "        try: \n",
    "            driver.execute_script(\"window.open('');\")\n",
    "            driver.switch_to.window(driver.window_handles[1])\n",
    "            driver.get(details)\n",
    "            mailing = driver.find_element_by_class_name('tablecelltext').find_element_by_tag_name(\"td\").text.strip()\n",
    "            #print(mailing)\n",
    "            location = driver.find_elements_by_class_name('tablecelltext')[1].find_element_by_tag_name(\"td\").text.strip()\n",
    "            #print(location)\n",
    "            license_info = driver.find_element_by_class_name('tablecelltext').find_elements_by_tag_name(\"td\")[1].text.strip()\n",
    "            #print(license_info)\n",
    "            paid = driver.find_elements_by_class_name('tablecelltext')[6].find_elements_by_class_name('rt')[1].text.strip()\n",
    "            #print('hi')\n",
    "            issued = driver.find_elements_by_class_name('tablecelltext')[7].find_element_by_tag_name(\"td\").text.strip()\n",
    "            #print(issued)\n",
    "            driver.close()\n",
    "            driver.switch_to.window(driver.window_handles[0])\n",
    "        except: \n",
    "            details = \"NA\"\n",
    "            #print(details)\n",
    "            driver.close()\n",
    "            driver.switch_to.window(driver.window_handles[0])\n",
    "            continue \n",
    "        truck_dict = {\n",
    "            'name': name, \n",
    "            'url': details, \n",
    "            'mailing': mailing, \n",
    "            'location': location, \n",
    "            'license_info': license_info,\n",
    "            'pay': paid, \n",
    "            'issued': issued\n",
    "        }\n",
    "        truck_details.append(truck_dict)\n",
    "    next_button = driver.find_element_by_xpath('/html/body/table[2]/tbody/tr[4]/td[2]/table[2]/tbody/tr/td[3]/a')\n",
    "    driver.execute_script(\"arguments[0].scrollIntoView(true)\", next_button)\n",
    "    next_button.click()\n",
    "truck_details"
   ]
  },
  {
   "cell_type": "code",
   "execution_count": 29,
   "metadata": {},
   "outputs": [
    {
     "data": {
      "text/plain": [
       "[{'name': 'VAPEPAD THE',\n",
       "  'url': 'https://jportal.mdcourts.gov/license/pbLicenseDetail.jsp?owi=Lf3whQqbBkY%3D',\n",
       "  'mailing': 'ANJ DISTRIBUTIONS LLC\\n2504 ORCHARD KNOLL WAY\\nODENTON, MD 21113',\n",
       "  'location': 'VAPEPAD THE\\n2299 JOHNS HOPKINS ROAD\\nGAMBRILLS, MD 21054',\n",
       "  'license_info': 'License Status: Issued\\nLicense No.: 02604406\\nControl No.: 02685930\\nDate of Issue: 5/01/2020\\nMonths Paid: 12\\nExp. Date: 4/30/2021\\nSubdivision: 02 Anne Arundel County',\n",
       "  'pay': '$ 94.00',\n",
       "  'issued': 'SCOTT A. POYER, CLERK OF CIRCUIT COURT\\n8 CHURCH CIRCLE, ROOM H-101\\nANNAPOLIS, MARYLAND 21401'},\n",
       " {'name': 'VAPE LOFT THE',\n",
       "  'url': 'https://jportal.mdcourts.gov/license/pbLicenseDetail.jsp?owi=19QOODA54Ss%3D',\n",
       "  'mailing': 'DISBROW II EMERSON HARRINGTON',\n",
       "  'location': 'VAPE LOFT THE\\n167 MITCHELLS CHANCE ROAD\\nEDGEWATER, MD 21037',\n",
       "  'license_info': 'License Status: Issued\\nLicense No.: 02610340\\nControl No.: 02686069\\nDate of Issue: 4/09/2020\\nMonths Paid: 12\\nExp. Date: 4/30/2021\\nSubdivision: 02 Anne Arundel County',\n",
       "  'pay': '$ 154.00',\n",
       "  'issued': 'SCOTT A. POYER, CLERK OF CIRCUIT COURT\\n8 CHURCH CIRCLE, ROOM H-101\\nANNAPOLIS, MARYLAND 21401'},\n",
       " {'name': 'VAPE N CIGAR',\n",
       "  'url': 'https://jportal.mdcourts.gov/license/pbLicenseDetail.jsp?owi=4%2FLmFatEqNM%3D',\n",
       "  'mailing': 'DISCOUNT TOBACCO EDGEWATER INC',\n",
       "  'location': 'VAPE N CIGAR\\n12 MAYO ROAD\\nEDGEWATER, MD 21037',\n",
       "  'license_info': 'License Status: Issued\\nLicense No.: 02611281\\nControl No.: 02611281\\nDate of Issue: 5/05/2020\\nMonths Paid: 12\\nExp. Date: 4/30/2021\\nSubdivision: 02 Anne Arundel County',\n",
       "  'pay': '8.00',\n",
       "  'issued': 'Total:'},\n",
       " {'name': 'VAPE BIRD II',\n",
       "  'url': 'https://jportal.mdcourts.gov/license/pbLicenseDetail.jsp?owi=LDK4mkzHlx0%3D',\n",
       "  'mailing': 'HEALTHIER CHOICES LLC\\n356 ROMANCOKE ROAD\\nSUITE 1\\nSTEVENSVILLE, MD 21666',\n",
       "  'location': 'VAPE BIRD II\\n2640 CENTREVILLE ROAD\\nCENTREVILLE, MD 21617',\n",
       "  'license_info': 'License Status: Issued\\nLicense No.: 17665504\\nControl No.: 17368880\\nDate of Issue: 7/09/2020\\nMonths Paid: 12\\nExp. Date: 4/30/2021\\nSubdivision: 17 Centreville',\n",
       "  'pay': '$ 54.00',\n",
       "  'issued': 'KATHERINE B. HAGER, CLERK OF CIRCUIT COURT\\n200 N. COMMERCE STREET\\nCENTREVILLE, MARYLAND 21617'},\n",
       " {'name': 'VAPE BIRD',\n",
       "  'url': 'https://jportal.mdcourts.gov/license/pbLicenseDetail.jsp?owi=jYPk%2F5Ln6%2Fg%3D',\n",
       "  'mailing': 'HUTCH VAPES LLC',\n",
       "  'location': 'VAPE BIRD\\n356 ROMANCOKE ROAD SUITE 1\\nSTEVENSVILLE, MD 21666',\n",
       "  'license_info': \"License Status: Issued\\nLicense No.: 17665514\\nControl No.: 17980116\\nDate of Issue: 7/21/2020\\nMonths Paid: 12\\nExp. Date: 4/30/2021\\nSubdivision: 17 Queen Anne's County\",\n",
       "  'pay': '$ 59.00',\n",
       "  'issued': 'KATHERINE B. HAGER, CLERK OF CIRCUIT COURT\\n200 N. COMMERCE STREET\\nCENTREVILLE, MARYLAND 21617'},\n",
       " {'name': 'VAPORFI SOUTHSIDE',\n",
       "  'url': 'https://jportal.mdcourts.gov/license/pbLicenseDetail.jsp?owi=e0yf4Q3RFmQ%3D',\n",
       "  'mailing': 'JEN S VAPOR LLC',\n",
       "  'location': 'VAPORFI SOUTHSIDE\\n853 EAST FORT AVE\\nBALTIMORE, MD 21230',\n",
       "  'license_info': 'License Status: Issued\\nLicense No.: 30680742\\nControl No.: 30190160\\nDate of Issue: 5/15/2020\\nMonths Paid: 12\\nExp. Date: 4/30/2021\\nSubdivision: 30 Baltimore City',\n",
       "  'pay': '$ 189.00',\n",
       "  'issued': 'MARILYN BENTLEY, CLERK CIRCUIT COURT\\n100 N. CALVERT STREET, ROOM 627\\nBALTIMORE, MARYLAND 21202'},\n",
       " {'name': 'VAPE PLANET',\n",
       "  'url': 'https://jportal.mdcourts.gov/license/pbLicenseDetail.jsp?owi=xyoyK72Ggb0%3D',\n",
       "  'mailing': 'RNS LLC',\n",
       "  'location': 'VAPE PLANET\\n21632 GREAT MILLS ROAD\\nLEXINGTON PARK, MD 20653',\n",
       "  'license_info': \"License Status: Issued\\nLicense No.: 18667704\\nControl No.: 18667704\\nDate of Issue: 7/14/2020\\nMonths Paid: 10\\nExp. Date: 4/30/2021\\nSubdivision: 18 St. Mary's County\",\n",
       "  'pay': '8.00',\n",
       "  'issued': 'Total:'},\n",
       " {'name': 'VAPE JUNGLE',\n",
       "  'url': 'https://jportal.mdcourts.gov/license/pbLicenseDetail.jsp?owi=gN43UZRjHxY%3D',\n",
       "  'mailing': 'VAPE JUNGLE LLC\\n63 E CHESAPEAKE BEACH ROAD\\nOWINGS, MD 20736',\n",
       "  'location': 'VAPE JUNGLE\\n2070 CRAIN HIGHWAY UNIT F\\nWALDORF, MD 20601',\n",
       "  'license_info': 'License Status: Issued\\nLicense No.: 08630779\\nControl No.: 08844059\\nDate of Issue: 6/10/2020\\nMonths Paid: 12\\nExp. Date: 4/30/2021\\nSubdivision: 08 Charles County',\n",
       "  'pay': '180.00',\n",
       "  'issued': 'Amount Paid:'},\n",
       " {'name': 'VAPE JUNGLE 4',\n",
       "  'url': 'https://jportal.mdcourts.gov/license/pbLicenseDetail.jsp?owi=FLKjxX8Uck8%3D',\n",
       "  'mailing': 'VAPE JUNGLE LLC\\n63 E CHESAPEAKE BEACH RD\\nOWINGS, MD 20736',\n",
       "  'location': 'VAPE JUNGLE 4\\n5486 SOUTHERN MD BLVD\\nLOTHIAN, MD 20711',\n",
       "  'license_info': 'License Status: Issued\\nLicense No.: 02611618\\nControl No.: 02611618\\nDate of Issue: 10/14/2020\\nMonths Paid: 7\\nExp. Date: 4/30/2021\\nSubdivision: 02 Anne Arundel County',\n",
       "  'pay': '93.75',\n",
       "  'issued': 'Amount Paid:'},\n",
       " {'name': 'VAPE SOCIAL',\n",
       "  'url': 'https://jportal.mdcourts.gov/license/pbLicenseDetail.jsp?owi=xeQdAKDL4WE%3D',\n",
       "  'mailing': 'VAPE SOCIAL LLC',\n",
       "  'location': 'VAPE SOCIAL\\n16521 S FREDERICK AVE\\nGAITHERSBURG, MD 20877',\n",
       "  'license_info': 'License Status: Issued\\nLicense No.: 15653996\\nControl No.: 15728050\\nDate of Issue: 7/28/2020\\nMonths Paid: 12\\nExp. Date: 4/30/2021\\nSubdivision: 15 Gaithersburg',\n",
       "  'pay': '$ 59.00',\n",
       "  'issued': 'BARBARA H. MEIKLEJOHN, CLERK OF CIRCUIT COURT\\n50 MARYLAND AVENUE, ROOM 1300\\nROCKVILLE, MARYLAND 20850'},\n",
       " {'name': 'VAPIST MD',\n",
       "  'url': 'https://jportal.mdcourts.gov/license/pbLicenseDetail.jsp?owi=7phpD8nzhAg%3D',\n",
       "  'mailing': 'VAPIST MD LLC\\n2119 CREEKS EDGE LANE\\nWALDORF, MD 20601',\n",
       "  'location': 'VAPIST MD\\n6321 OLD BRANCH AVE\\nCAMP SPRINGS, MD 20748',\n",
       "  'license_info': \"License Status: Issued\\nLicense No.: 16664255\\nControl No.: 16166805\\nDate of Issue: 8/26/2020\\nMonths Paid: 12\\nExp. Date: 4/30/2021\\nSubdivision: 16 Prince George's County\",\n",
       "  'pay': '$ 329.00',\n",
       "  'issued': 'MAHASIN EL AMIN, CLERK OF CIRCUIT COURT\\n14735 MAIN STREET\\nUPPER MARLBORO, MARYLAND 20772-9987'},\n",
       " {'name': 'VAPOR EMPORIUM',\n",
       "  'url': 'https://jportal.mdcourts.gov/license/pbLicenseDetail.jsp?owi=7U4tJXJ9UqY%3D',\n",
       "  'mailing': 'VAPOR EMPORIUM MD LLC',\n",
       "  'location': 'VAPOR EMPORIUM\\n11717 OLD NATIONAL PIKE\\nUNIT 3B\\nNEW MARKET, MD 21774',\n",
       "  'license_info': 'License Status: Issued\\nLicense No.: 10634794\\nControl No.: 10954003\\nDate of Issue: 4/24/2020\\nMonths Paid: 12\\nExp. Date: 4/30/2021\\nSubdivision: 10 Frederick County',\n",
       "  'pay': '$ 154.00',\n",
       "  'issued': 'SANDRA DALTON, CLERK OF CIRCUIT COURT\\n100 WEST PATRICK STREET\\nFREDERICK, MARYLAND 21701'},\n",
       " {'name': 'VAPOR VILLA',\n",
       "  'url': 'https://jportal.mdcourts.gov/license/pbLicenseDetail.jsp?owi=YDtnXnNSJBI%3D',\n",
       "  'mailing': 'VAPOR VILLA CORP',\n",
       "  'location': 'VAPOR VILLA\\n730 FREDERICK ROAD\\nSUITE 202\\nCATONSVILLE, MD 21228',\n",
       "  'license_info': 'License Status: Issued\\nLicense No.: 03622173\\nControl No.: 03696931\\nDate of Issue: 5/06/2020\\nMonths Paid: 12\\nExp. Date: 4/30/2021\\nSubdivision: 03 Baltimore County',\n",
       "  'pay': '77.00',\n",
       "  'issued': 'Amount Paid:'},\n",
       " {'name': 'VAPOR VILLA',\n",
       "  'url': 'https://jportal.mdcourts.gov/license/pbLicenseDetail.jsp?owi=rdobMNZ%2BZpk%3D',\n",
       "  'mailing': 'VAPOR VILLA CORP',\n",
       "  'location': 'VAPOR VILLA\\n1913 LANSDOWNE ROAD\\nSUITE E\\nBALTIMORE, MD 21227',\n",
       "  'license_info': 'License Status: Issued\\nLicense No.: 03622172\\nControl No.: 03696574\\nDate of Issue: 5/06/2020\\nMonths Paid: 12\\nExp. Date: 4/30/2021\\nSubdivision: 03 Baltimore County',\n",
       "  'pay': '77.00',\n",
       "  'issued': 'Amount Paid:'},\n",
       " {'name': 'VAPORS LOUNGE',\n",
       "  'url': 'https://jportal.mdcourts.gov/license/pbLicenseDetail.jsp?owi=AnN7dBtXpWE%3D',\n",
       "  'mailing': 'VAPORS LOUNGE LLC',\n",
       "  'location': 'VAPORS LOUNGE\\n28943 THREE NOTCH ROAD\\nMECHANICSVILLE, MD 20659',\n",
       "  'license_info': \"License Status: Issued\\nLicense No.: 18667461\\nControl No.: 18877819\\nDate of Issue: 5/26/2020\\nMonths Paid: 12\\nExp. Date: 4/30/2021\\nSubdivision: 18 St. Mary's County\",\n",
       "  'pay': '$ 94.00',\n",
       "  'issued': 'DEBRA J. BURCH CLERK OF CIRCUIT COURT\\n41605 COURTHOUSE DRIVE, PO BOX 676\\nLEONARDTOWN, MARYLAND 20650'},\n",
       " {'name': 'VAPERS RING THE',\n",
       "  'url': 'https://jportal.mdcourts.gov/license/pbLicenseDetail.jsp?owi=v9nP%2BUejwmY%3D',\n",
       "  'mailing': 'YEAGER ONE INC\\n545 HIGGINS DR\\nODENTON, MD 21113',\n",
       "  'location': 'VAPERS RING THE\\n1159 ANNAPOLIS RD\\nSUITE A\\nODENTON, MD 21113',\n",
       "  'license_info': 'License Status: Issued\\nLicense No.: 02610667\\nControl No.: 02931736\\nDate of Issue: 5/26/2020\\nMonths Paid: 12\\nExp. Date: 4/30/2021\\nSubdivision: 02 Anne Arundel County',\n",
       "  'pay': '$ 154.00',\n",
       "  'issued': 'SCOTT A. POYER, CLERK OF CIRCUIT COURT\\n8 CHURCH CIRCLE, ROOM H-101\\nANNAPOLIS, MARYLAND 21401'}]"
      ]
     },
     "execution_count": 29,
     "metadata": {},
     "output_type": "execute_result"
    }
   ],
   "source": [
    "truck_details"
   ]
  },
  {
   "cell_type": "markdown",
   "metadata": {},
   "source": [
    "### Making it perfect\n",
    "\n",
    "> Go back to the first page of results before you try to run this\n",
    "\n",
    "Wrap all of your code in a `try`/`except` so that it doesn't finish with an error and you'll be good to go.\n",
    "\n",
    "**Confirm your list has all of the vape shops in it.** If not, check where you are creating your empty list (`[]`) - if you do it in the wrong spot, it will overwrite your list every time you visit a page."
   ]
  },
  {
   "cell_type": "code",
   "execution_count": null,
   "metadata": {},
   "outputs": [],
   "source": [
    "# did this before with 2 try and excepts. "
   ]
  },
  {
   "cell_type": "markdown",
   "metadata": {},
   "source": [
    "### Save this data as a csv\n",
    "\n",
    "The filename should be `vape-shops-basic.csv`. You should have 24 rows."
   ]
  },
  {
   "cell_type": "code",
   "execution_count": 30,
   "metadata": {},
   "outputs": [],
   "source": [
    "df = pd.DataFrame(truck_details) "
   ]
  },
  {
   "cell_type": "code",
   "execution_count": 27,
   "metadata": {},
   "outputs": [
    {
     "data": {
      "text/html": [
       "<div>\n",
       "<style scoped>\n",
       "    .dataframe tbody tr th:only-of-type {\n",
       "        vertical-align: middle;\n",
       "    }\n",
       "\n",
       "    .dataframe tbody tr th {\n",
       "        vertical-align: top;\n",
       "    }\n",
       "\n",
       "    .dataframe thead th {\n",
       "        text-align: right;\n",
       "    }\n",
       "</style>\n",
       "<table border=\"1\" class=\"dataframe\">\n",
       "  <thead>\n",
       "    <tr style=\"text-align: right;\">\n",
       "      <th></th>\n",
       "      <th>name</th>\n",
       "      <th>url</th>\n",
       "      <th>mailing</th>\n",
       "      <th>location</th>\n",
       "      <th>license_info</th>\n",
       "      <th>pay</th>\n",
       "      <th>issued</th>\n",
       "    </tr>\n",
       "  </thead>\n",
       "  <tbody>\n",
       "    <tr>\n",
       "      <th>0</th>\n",
       "      <td>VAPEPAD THE</td>\n",
       "      <td>https://jportal.mdcourts.gov/license/pbLicense...</td>\n",
       "      <td>ANJ DISTRIBUTIONS LLC\\n2504 ORCHARD KNOLL WAY\\...</td>\n",
       "      <td>VAPEPAD THE\\n2299 JOHNS HOPKINS ROAD\\nGAMBRILL...</td>\n",
       "      <td>License Status: Issued\\nLicense No.: 02604406\\...</td>\n",
       "      <td>$ 94.00</td>\n",
       "      <td>SCOTT A. POYER, CLERK OF CIRCUIT COURT\\n8 CHUR...</td>\n",
       "    </tr>\n",
       "    <tr>\n",
       "      <th>1</th>\n",
       "      <td>VAPE LOFT THE</td>\n",
       "      <td>https://jportal.mdcourts.gov/license/pbLicense...</td>\n",
       "      <td>DISBROW II EMERSON HARRINGTON</td>\n",
       "      <td>VAPE LOFT THE\\n167 MITCHELLS CHANCE ROAD\\nEDGE...</td>\n",
       "      <td>License Status: Issued\\nLicense No.: 02610340\\...</td>\n",
       "      <td>$ 154.00</td>\n",
       "      <td>SCOTT A. POYER, CLERK OF CIRCUIT COURT\\n8 CHUR...</td>\n",
       "    </tr>\n",
       "    <tr>\n",
       "      <th>2</th>\n",
       "      <td>VAPE N CIGAR</td>\n",
       "      <td>https://jportal.mdcourts.gov/license/pbLicense...</td>\n",
       "      <td>DISCOUNT TOBACCO EDGEWATER INC</td>\n",
       "      <td>VAPE N CIGAR\\n12 MAYO ROAD\\nEDGEWATER, MD 21037</td>\n",
       "      <td>License Status: Issued\\nLicense No.: 02611281\\...</td>\n",
       "      <td>8.00</td>\n",
       "      <td>Total:</td>\n",
       "    </tr>\n",
       "    <tr>\n",
       "      <th>3</th>\n",
       "      <td>VAPE BIRD II</td>\n",
       "      <td>https://jportal.mdcourts.gov/license/pbLicense...</td>\n",
       "      <td>HEALTHIER CHOICES LLC\\n356 ROMANCOKE ROAD\\nSUI...</td>\n",
       "      <td>VAPE BIRD II\\n2640 CENTREVILLE ROAD\\nCENTREVIL...</td>\n",
       "      <td>License Status: Issued\\nLicense No.: 17665504\\...</td>\n",
       "      <td>$ 54.00</td>\n",
       "      <td>KATHERINE B. HAGER, CLERK OF CIRCUIT COURT\\n20...</td>\n",
       "    </tr>\n",
       "    <tr>\n",
       "      <th>4</th>\n",
       "      <td>VAPE BIRD</td>\n",
       "      <td>https://jportal.mdcourts.gov/license/pbLicense...</td>\n",
       "      <td>HUTCH VAPES LLC</td>\n",
       "      <td>VAPE BIRD\\n356 ROMANCOKE ROAD SUITE 1\\nSTEVENS...</td>\n",
       "      <td>License Status: Issued\\nLicense No.: 17665514\\...</td>\n",
       "      <td>$ 59.00</td>\n",
       "      <td>KATHERINE B. HAGER, CLERK OF CIRCUIT COURT\\n20...</td>\n",
       "    </tr>\n",
       "    <tr>\n",
       "      <th>5</th>\n",
       "      <td>VAPORFI SOUTHSIDE</td>\n",
       "      <td>https://jportal.mdcourts.gov/license/pbLicense...</td>\n",
       "      <td>JEN S VAPOR LLC</td>\n",
       "      <td>VAPORFI SOUTHSIDE\\n853 EAST FORT AVE\\nBALTIMOR...</td>\n",
       "      <td>License Status: Issued\\nLicense No.: 30680742\\...</td>\n",
       "      <td>$ 189.00</td>\n",
       "      <td>MARILYN BENTLEY, CLERK CIRCUIT COURT\\n100 N. C...</td>\n",
       "    </tr>\n",
       "    <tr>\n",
       "      <th>6</th>\n",
       "      <td>VAPE PLANET</td>\n",
       "      <td>https://jportal.mdcourts.gov/license/pbLicense...</td>\n",
       "      <td>RNS LLC</td>\n",
       "      <td>VAPE PLANET\\n21632 GREAT MILLS ROAD\\nLEXINGTON...</td>\n",
       "      <td>License Status: Issued\\nLicense No.: 18667704\\...</td>\n",
       "      <td>8.00</td>\n",
       "      <td>Total:</td>\n",
       "    </tr>\n",
       "    <tr>\n",
       "      <th>7</th>\n",
       "      <td>VAPE JUNGLE</td>\n",
       "      <td>https://jportal.mdcourts.gov/license/pbLicense...</td>\n",
       "      <td>VAPE JUNGLE LLC\\n63 E CHESAPEAKE BEACH ROAD\\nO...</td>\n",
       "      <td>VAPE JUNGLE\\n2070 CRAIN HIGHWAY UNIT F\\nWALDOR...</td>\n",
       "      <td>License Status: Issued\\nLicense No.: 08630779\\...</td>\n",
       "      <td>180.00</td>\n",
       "      <td>Amount Paid:</td>\n",
       "    </tr>\n",
       "    <tr>\n",
       "      <th>8</th>\n",
       "      <td>VAPE JUNGLE 4</td>\n",
       "      <td>https://jportal.mdcourts.gov/license/pbLicense...</td>\n",
       "      <td>VAPE JUNGLE LLC\\n63 E CHESAPEAKE BEACH RD\\nOWI...</td>\n",
       "      <td>VAPE JUNGLE 4\\n5486 SOUTHERN MD BLVD\\nLOTHIAN,...</td>\n",
       "      <td>License Status: Issued\\nLicense No.: 02611618\\...</td>\n",
       "      <td>93.75</td>\n",
       "      <td>Amount Paid:</td>\n",
       "    </tr>\n",
       "    <tr>\n",
       "      <th>9</th>\n",
       "      <td>VAPE SOCIAL</td>\n",
       "      <td>https://jportal.mdcourts.gov/license/pbLicense...</td>\n",
       "      <td>VAPE SOCIAL LLC</td>\n",
       "      <td>VAPE SOCIAL\\n16521 S FREDERICK AVE\\nGAITHERSBU...</td>\n",
       "      <td>License Status: Issued\\nLicense No.: 15653996\\...</td>\n",
       "      <td>$ 59.00</td>\n",
       "      <td>BARBARA H. MEIKLEJOHN, CLERK OF CIRCUIT COURT\\...</td>\n",
       "    </tr>\n",
       "    <tr>\n",
       "      <th>10</th>\n",
       "      <td>VAPIST MD</td>\n",
       "      <td>https://jportal.mdcourts.gov/license/pbLicense...</td>\n",
       "      <td>VAPIST MD LLC\\n2119 CREEKS EDGE LANE\\nWALDORF,...</td>\n",
       "      <td>VAPIST MD\\n6321 OLD BRANCH AVE\\nCAMP SPRINGS, ...</td>\n",
       "      <td>License Status: Issued\\nLicense No.: 16664255\\...</td>\n",
       "      <td>$ 329.00</td>\n",
       "      <td>MAHASIN EL AMIN, CLERK OF CIRCUIT COURT\\n14735...</td>\n",
       "    </tr>\n",
       "    <tr>\n",
       "      <th>11</th>\n",
       "      <td>VAPOR EMPORIUM</td>\n",
       "      <td>https://jportal.mdcourts.gov/license/pbLicense...</td>\n",
       "      <td>VAPOR EMPORIUM MD LLC</td>\n",
       "      <td>VAPOR EMPORIUM\\n11717 OLD NATIONAL PIKE\\nUNIT ...</td>\n",
       "      <td>License Status: Issued\\nLicense No.: 10634794\\...</td>\n",
       "      <td>$ 154.00</td>\n",
       "      <td>SANDRA DALTON, CLERK OF CIRCUIT COURT\\n100 WES...</td>\n",
       "    </tr>\n",
       "    <tr>\n",
       "      <th>12</th>\n",
       "      <td>VAPOR VILLA</td>\n",
       "      <td>https://jportal.mdcourts.gov/license/pbLicense...</td>\n",
       "      <td>VAPOR VILLA CORP</td>\n",
       "      <td>VAPOR VILLA\\n730 FREDERICK ROAD\\nSUITE 202\\nCA...</td>\n",
       "      <td>License Status: Issued\\nLicense No.: 03622173\\...</td>\n",
       "      <td>77.00</td>\n",
       "      <td>Amount Paid:</td>\n",
       "    </tr>\n",
       "    <tr>\n",
       "      <th>13</th>\n",
       "      <td>VAPOR VILLA</td>\n",
       "      <td>https://jportal.mdcourts.gov/license/pbLicense...</td>\n",
       "      <td>VAPOR VILLA CORP</td>\n",
       "      <td>VAPOR VILLA\\n1913 LANSDOWNE ROAD\\nSUITE E\\nBAL...</td>\n",
       "      <td>License Status: Issued\\nLicense No.: 03622172\\...</td>\n",
       "      <td>77.00</td>\n",
       "      <td>Amount Paid:</td>\n",
       "    </tr>\n",
       "    <tr>\n",
       "      <th>14</th>\n",
       "      <td>VAPORS LOUNGE</td>\n",
       "      <td>https://jportal.mdcourts.gov/license/pbLicense...</td>\n",
       "      <td>VAPORS LOUNGE LLC</td>\n",
       "      <td>VAPORS LOUNGE\\n28943 THREE NOTCH ROAD\\nMECHANI...</td>\n",
       "      <td>License Status: Issued\\nLicense No.: 18667461\\...</td>\n",
       "      <td>$ 94.00</td>\n",
       "      <td>DEBRA J. BURCH CLERK OF CIRCUIT COURT\\n41605 C...</td>\n",
       "    </tr>\n",
       "    <tr>\n",
       "      <th>15</th>\n",
       "      <td>VAPERS RING THE</td>\n",
       "      <td>https://jportal.mdcourts.gov/license/pbLicense...</td>\n",
       "      <td>YEAGER ONE INC\\n545 HIGGINS DR\\nODENTON, MD 21113</td>\n",
       "      <td>VAPERS RING THE\\n1159 ANNAPOLIS RD\\nSUITE A\\nO...</td>\n",
       "      <td>License Status: Issued\\nLicense No.: 02610667\\...</td>\n",
       "      <td>$ 154.00</td>\n",
       "      <td>SCOTT A. POYER, CLERK OF CIRCUIT COURT\\n8 CHUR...</td>\n",
       "    </tr>\n",
       "  </tbody>\n",
       "</table>\n",
       "</div>"
      ],
      "text/plain": [
       "                 name                                                url  \\\n",
       "0         VAPEPAD THE  https://jportal.mdcourts.gov/license/pbLicense...   \n",
       "1       VAPE LOFT THE  https://jportal.mdcourts.gov/license/pbLicense...   \n",
       "2        VAPE N CIGAR  https://jportal.mdcourts.gov/license/pbLicense...   \n",
       "3        VAPE BIRD II  https://jportal.mdcourts.gov/license/pbLicense...   \n",
       "4           VAPE BIRD  https://jportal.mdcourts.gov/license/pbLicense...   \n",
       "5   VAPORFI SOUTHSIDE  https://jportal.mdcourts.gov/license/pbLicense...   \n",
       "6         VAPE PLANET  https://jportal.mdcourts.gov/license/pbLicense...   \n",
       "7         VAPE JUNGLE  https://jportal.mdcourts.gov/license/pbLicense...   \n",
       "8       VAPE JUNGLE 4  https://jportal.mdcourts.gov/license/pbLicense...   \n",
       "9         VAPE SOCIAL  https://jportal.mdcourts.gov/license/pbLicense...   \n",
       "10          VAPIST MD  https://jportal.mdcourts.gov/license/pbLicense...   \n",
       "11     VAPOR EMPORIUM  https://jportal.mdcourts.gov/license/pbLicense...   \n",
       "12        VAPOR VILLA  https://jportal.mdcourts.gov/license/pbLicense...   \n",
       "13        VAPOR VILLA  https://jportal.mdcourts.gov/license/pbLicense...   \n",
       "14      VAPORS LOUNGE  https://jportal.mdcourts.gov/license/pbLicense...   \n",
       "15    VAPERS RING THE  https://jportal.mdcourts.gov/license/pbLicense...   \n",
       "\n",
       "                                              mailing  \\\n",
       "0   ANJ DISTRIBUTIONS LLC\\n2504 ORCHARD KNOLL WAY\\...   \n",
       "1                       DISBROW II EMERSON HARRINGTON   \n",
       "2                      DISCOUNT TOBACCO EDGEWATER INC   \n",
       "3   HEALTHIER CHOICES LLC\\n356 ROMANCOKE ROAD\\nSUI...   \n",
       "4                                     HUTCH VAPES LLC   \n",
       "5                                     JEN S VAPOR LLC   \n",
       "6                                             RNS LLC   \n",
       "7   VAPE JUNGLE LLC\\n63 E CHESAPEAKE BEACH ROAD\\nO...   \n",
       "8   VAPE JUNGLE LLC\\n63 E CHESAPEAKE BEACH RD\\nOWI...   \n",
       "9                                     VAPE SOCIAL LLC   \n",
       "10  VAPIST MD LLC\\n2119 CREEKS EDGE LANE\\nWALDORF,...   \n",
       "11                              VAPOR EMPORIUM MD LLC   \n",
       "12                                   VAPOR VILLA CORP   \n",
       "13                                   VAPOR VILLA CORP   \n",
       "14                                  VAPORS LOUNGE LLC   \n",
       "15  YEAGER ONE INC\\n545 HIGGINS DR\\nODENTON, MD 21113   \n",
       "\n",
       "                                             location  \\\n",
       "0   VAPEPAD THE\\n2299 JOHNS HOPKINS ROAD\\nGAMBRILL...   \n",
       "1   VAPE LOFT THE\\n167 MITCHELLS CHANCE ROAD\\nEDGE...   \n",
       "2     VAPE N CIGAR\\n12 MAYO ROAD\\nEDGEWATER, MD 21037   \n",
       "3   VAPE BIRD II\\n2640 CENTREVILLE ROAD\\nCENTREVIL...   \n",
       "4   VAPE BIRD\\n356 ROMANCOKE ROAD SUITE 1\\nSTEVENS...   \n",
       "5   VAPORFI SOUTHSIDE\\n853 EAST FORT AVE\\nBALTIMOR...   \n",
       "6   VAPE PLANET\\n21632 GREAT MILLS ROAD\\nLEXINGTON...   \n",
       "7   VAPE JUNGLE\\n2070 CRAIN HIGHWAY UNIT F\\nWALDOR...   \n",
       "8   VAPE JUNGLE 4\\n5486 SOUTHERN MD BLVD\\nLOTHIAN,...   \n",
       "9   VAPE SOCIAL\\n16521 S FREDERICK AVE\\nGAITHERSBU...   \n",
       "10  VAPIST MD\\n6321 OLD BRANCH AVE\\nCAMP SPRINGS, ...   \n",
       "11  VAPOR EMPORIUM\\n11717 OLD NATIONAL PIKE\\nUNIT ...   \n",
       "12  VAPOR VILLA\\n730 FREDERICK ROAD\\nSUITE 202\\nCA...   \n",
       "13  VAPOR VILLA\\n1913 LANSDOWNE ROAD\\nSUITE E\\nBAL...   \n",
       "14  VAPORS LOUNGE\\n28943 THREE NOTCH ROAD\\nMECHANI...   \n",
       "15  VAPERS RING THE\\n1159 ANNAPOLIS RD\\nSUITE A\\nO...   \n",
       "\n",
       "                                         license_info       pay  \\\n",
       "0   License Status: Issued\\nLicense No.: 02604406\\...   $ 94.00   \n",
       "1   License Status: Issued\\nLicense No.: 02610340\\...  $ 154.00   \n",
       "2   License Status: Issued\\nLicense No.: 02611281\\...      8.00   \n",
       "3   License Status: Issued\\nLicense No.: 17665504\\...   $ 54.00   \n",
       "4   License Status: Issued\\nLicense No.: 17665514\\...   $ 59.00   \n",
       "5   License Status: Issued\\nLicense No.: 30680742\\...  $ 189.00   \n",
       "6   License Status: Issued\\nLicense No.: 18667704\\...      8.00   \n",
       "7   License Status: Issued\\nLicense No.: 08630779\\...    180.00   \n",
       "8   License Status: Issued\\nLicense No.: 02611618\\...     93.75   \n",
       "9   License Status: Issued\\nLicense No.: 15653996\\...   $ 59.00   \n",
       "10  License Status: Issued\\nLicense No.: 16664255\\...  $ 329.00   \n",
       "11  License Status: Issued\\nLicense No.: 10634794\\...  $ 154.00   \n",
       "12  License Status: Issued\\nLicense No.: 03622173\\...     77.00   \n",
       "13  License Status: Issued\\nLicense No.: 03622172\\...     77.00   \n",
       "14  License Status: Issued\\nLicense No.: 18667461\\...   $ 94.00   \n",
       "15  License Status: Issued\\nLicense No.: 02610667\\...  $ 154.00   \n",
       "\n",
       "                                               issued  \n",
       "0   SCOTT A. POYER, CLERK OF CIRCUIT COURT\\n8 CHUR...  \n",
       "1   SCOTT A. POYER, CLERK OF CIRCUIT COURT\\n8 CHUR...  \n",
       "2                                              Total:  \n",
       "3   KATHERINE B. HAGER, CLERK OF CIRCUIT COURT\\n20...  \n",
       "4   KATHERINE B. HAGER, CLERK OF CIRCUIT COURT\\n20...  \n",
       "5   MARILYN BENTLEY, CLERK CIRCUIT COURT\\n100 N. C...  \n",
       "6                                              Total:  \n",
       "7                                        Amount Paid:  \n",
       "8                                        Amount Paid:  \n",
       "9   BARBARA H. MEIKLEJOHN, CLERK OF CIRCUIT COURT\\...  \n",
       "10  MAHASIN EL AMIN, CLERK OF CIRCUIT COURT\\n14735...  \n",
       "11  SANDRA DALTON, CLERK OF CIRCUIT COURT\\n100 WES...  \n",
       "12                                       Amount Paid:  \n",
       "13                                       Amount Paid:  \n",
       "14  DEBRA J. BURCH CLERK OF CIRCUIT COURT\\n41605 C...  \n",
       "15  SCOTT A. POYER, CLERK OF CIRCUIT COURT\\n8 CHUR...  "
      ]
     },
     "execution_count": 27,
     "metadata": {},
     "output_type": "execute_result"
    }
   ],
   "source": [
    "df"
   ]
  },
  {
   "cell_type": "code",
   "execution_count": 31,
   "metadata": {},
   "outputs": [],
   "source": [
    "df.to_csv('vape-shops-basic.csv')  "
   ]
  },
  {
   "cell_type": "markdown",
   "metadata": {},
   "source": [
    "# Okay, let's scrape!\n",
    "\n",
    "All right, get the actual data!\n",
    "\n",
    "### Look at the URL of your first row\n",
    "\n",
    "- *TIP: Remember `pd.set_option('display.max_colwidth', None)` will let you see alllll of your strings*"
   ]
  },
  {
   "cell_type": "code",
   "execution_count": null,
   "metadata": {},
   "outputs": [],
   "source": [
    "pd.set_option('display.max_colwidth', None)\n",
    "vape = pd.read_csv('vape-shops-basic.csv')"
   ]
  },
  {
   "cell_type": "markdown",
   "metadata": {},
   "source": [
    "### Okay, it doesn't have a URL!\n",
    "\n",
    "Let's drop all of the ones without URLs. You should be down to **17 rows**"
   ]
  },
  {
   "cell_type": "code",
   "execution_count": null,
   "metadata": {},
   "outputs": [],
   "source": [
    "# Dropped while scraping"
   ]
  },
  {
   "cell_type": "markdown",
   "metadata": {},
   "source": [
    "Now look at the first one."
   ]
  },
  {
   "cell_type": "code",
   "execution_count": null,
   "metadata": {},
   "outputs": [],
   "source": [
    "vape.head(1)"
   ]
  },
  {
   "cell_type": "markdown",
   "metadata": {},
   "source": [
    "### Use Selenium to visit that page"
   ]
  },
  {
   "cell_type": "code",
   "execution_count": null,
   "metadata": {},
   "outputs": [],
   "source": [
    "# .iloc[0] means \"give me the first row\", kind of like .head(1), but\n",
    "# it allows me to use .url to pull out the actual url. I only did this\n",
    "# so that I could use a variable - you just needed to cut and paste\n",
    "url = df.iloc[0].url\n",
    "url"
   ]
  },
  {
   "cell_type": "code",
   "execution_count": null,
   "metadata": {},
   "outputs": [],
   "source": []
  },
  {
   "cell_type": "markdown",
   "metadata": {},
   "source": [
    "### Now, just like you did before, grab the additional data\n",
    "\n",
    "You should probably save it into a dictionary! Don't try to put it into the dataframe yet, though. You want:\n",
    "\n",
    "- Mailing address\n",
    "- Location address\n",
    "- License information (you can keep it as one field)\n",
    "- Total amount paid\n",
    "- Issued by\n",
    "- If you're feeling crazy, get the licenses, too.\n",
    "\n",
    ".\n",
    "\n",
    "- *TIP: Licenses can be acquired by doing some really odd list slicing - think about where it starts and where it ends, relative to the beginning and end of everything.*\n",
    "- *TIP: If you've gotten addicted to xpath, total amount paid and issued by might not work with it when doing other shops. You'll want to test it! It's because xpath relies on things like \"it's the fourth row\" but maybe there are more or fewer licenses sometimes, right? But you know it's always a certain number from the last row, so maybe use negative numbers with `.find_elements_by_...`? This is probably a confusing explanation.*"
   ]
  },
  {
   "cell_type": "code",
   "execution_count": null,
   "metadata": {},
   "outputs": [],
   "source": []
  },
  {
   "cell_type": "markdown",
   "metadata": {},
   "source": [
    "### Move all of this into one cell\n",
    "\n",
    "It should visit the URL, then grab the data and put it into a dictionary."
   ]
  },
  {
   "cell_type": "code",
   "execution_count": null,
   "metadata": {},
   "outputs": [],
   "source": []
  },
  {
   "cell_type": "markdown",
   "metadata": {},
   "source": [
    "### Change it into a function\n",
    "\n",
    "You'll want to have this function accept a `row`, and send back a `pd.Series`. You can just use `pd.Series(your_dictionary)` (but it better have a better name than `your_dictionary`!).\n",
    "\n",
    "- *TIP: Make sure you `return` something!*\n",
    "- *TIP: Make sure you change everything to reflect the row's url, not the URL you typed in*"
   ]
  },
  {
   "cell_type": "code",
   "execution_count": null,
   "metadata": {},
   "outputs": [],
   "source": []
  },
  {
   "cell_type": "markdown",
   "metadata": {},
   "source": [
    "### Use your dataframe and `.apply` to pull all of the data from the vape shops\n",
    "\n",
    "Once you know it's working, use the whole \n",
    "\n",
    "- *TIP: Try using it with `.head(3)` first*\n",
    "- *TIP: You'll want to use `.apply` with your new function*\n",
    "- *TIP: Issued By and Total Paid are goign to give you problems if you tried to use xpath! Try checking the classes and think about find_elementSSSSS and working backwards instead of forwards.*\n",
    "- *TIP: You might need a `try`/`except`*\n",
    "- *TIP: Make sure you're using `axis=1`*\n",
    "- *TIP: Use `.join` the big thing with all of the `dfs` - make sure you name them right!*"
   ]
  },
  {
   "cell_type": "code",
   "execution_count": null,
   "metadata": {},
   "outputs": [],
   "source": []
  },
  {
   "cell_type": "markdown",
   "metadata": {},
   "source": [
    "## Save as `vape-total.csv`\n",
    "\n",
    "Make sure you don't save the index! Open it up in a text editor or Excel to make sure it's correct."
   ]
  },
  {
   "cell_type": "code",
   "execution_count": null,
   "metadata": {},
   "outputs": [],
   "source": []
  },
  {
   "cell_type": "code",
   "execution_count": null,
   "metadata": {},
   "outputs": [],
   "source": []
  },
  {
   "cell_type": "code",
   "execution_count": null,
   "metadata": {},
   "outputs": [],
   "source": []
  }
 ],
 "metadata": {
  "kernelspec": {
   "display_name": "Python 3",
   "language": "python",
   "name": "python3"
  },
  "language_info": {
   "codemirror_mode": {
    "name": "ipython",
    "version": 3
   },
   "file_extension": ".py",
   "mimetype": "text/x-python",
   "name": "python",
   "nbconvert_exporter": "python",
   "pygments_lexer": "ipython3",
   "version": "3.8.2"
  }
 },
 "nbformat": 4,
 "nbformat_minor": 2
}
