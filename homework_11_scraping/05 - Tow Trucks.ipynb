{
 "cells": [
  {
   "cell_type": "markdown",
   "metadata": {},
   "source": [
    "# Texas Tow Trucks (`.apply` and `requests`)\n",
    "\n",
    "We're going to scrape some [tow trucks in Texas](https://www.tdlr.texas.gov/tools_search/)."
   ]
  },
  {
   "cell_type": "markdown",
   "metadata": {},
   "source": [
    "## Import your imports"
   ]
  },
  {
   "cell_type": "code",
   "execution_count": 1,
   "metadata": {},
   "outputs": [
    {
     "name": "stderr",
     "output_type": "stream",
     "text": [
      "/Users/mahiradayal/.pyenv/versions/3.8.2/lib/python3.8/site-packages/pandas/compat/__init__.py:120: UserWarning: Could not import the lzma module. Your installed Python is incomplete. Attempting to use lzma compression will result in a RuntimeError.\n",
      "  warnings.warn(msg)\n"
     ]
    }
   ],
   "source": [
    "import pandas as pd\n",
    "import requests\n",
    "import time \n",
    "from bs4 import BeautifulSoup\n",
    "\n",
    "\n",
    "from selenium import webdriver\n",
    "from selenium.webdriver.common.keys import Keys\n",
    "from selenium.webdriver.support.ui import Select\n",
    "from selenium.webdriver.support.ui import WebDriverWait"
   ]
  },
  {
   "cell_type": "code",
   "execution_count": 2,
   "metadata": {},
   "outputs": [],
   "source": [
    "driver = webdriver.Chrome()"
   ]
  },
  {
   "cell_type": "code",
   "execution_count": 3,
   "metadata": {},
   "outputs": [],
   "source": [
    "driver.get(\"https://www.tdlr.texas.gov/tools_search/\")"
   ]
  },
  {
   "cell_type": "markdown",
   "metadata": {},
   "source": [
    "## Search for the TLDR Number `006565540C`, and scrape the information on that company\n",
    "\n",
    "Using [license information system](https://www.tdlr.texas.gov/tools_search/), find information about the tow truck number above, displaying the\n",
    "\n",
    "- The business name\n",
    "- Owner/operator\n",
    "- Phone number\n",
    "- License status (Active, Expired, Etc)\n",
    "- Physical address\n",
    "\n",
    "If you can't figure a 'nice' way to locate something, your two last options might be:\n",
    "\n",
    "- **Find a \"parent\" element, then dig inside**\n",
    "- **Find all of a type of element** (like we did with `td` before) and get the `[0]`, `[1]`, `[2]`, etc\n",
    "- **XPath** (inspect an element, Copy > Copy XPath)\n",
    "\n",
    "These kinds of techniques tend to break when you're on other result pages, but... maybe not! You won't know until you try.\n",
    "\n",
    "> - *TIP: When you use xpath, you CANNOT use double quotes or Python will get confused. Use single quotes.*\n",
    "> - *TIP: You can clean your data up if you want to, or leave it dirty to clean later*\n",
    "> - *TIP: The address part can be tough, but you have a few options. You can use a combination of `.split` and list slicing to clean it now, or clean it later in the dataframe with regular expressions. Or other options, too, probably*"
   ]
  },
  {
   "cell_type": "code",
   "execution_count": 4,
   "metadata": {},
   "outputs": [],
   "source": [
    "button = driver.find_element_by_id(\"mcrbutton\")\n",
    "button.click()\n",
    "type_tdlr = driver.find_element_by_id(\"mcrdata\")\n",
    "type_tdlr.send_keys(\"006565540C\")\n",
    "search_button = driver.find_element_by_id(\"submit3\")\n",
    "search_button.click()"
   ]
  },
  {
   "cell_type": "code",
   "execution_count": 5,
   "metadata": {},
   "outputs": [
    {
     "name": "stdout",
     "output_type": "stream",
     "text": [
      "{'Company Name': 'Name:    H & A TOWING LLC', 'Owner': 'Owner/Officer:   HANEEN ABBAS MOHAMMEDAWI / MANAGER', 'Phone': 'Phone:   512-999-8883', 'Status': 'Status:  Active', 'Address': 'Carrier Type:  Tow Truck Company\\nNumber of Active Tow Trucks:   2\\n\\nAddress Information\\nMailing:\\n391 ROAD 51022\\nCLEVELAND, TX. 77327\\n\\nPhysical:\\n11710 JOSEPH CLAYTON DR\\nAUSTIN, TX. 78753'}\n"
     ]
    }
   ],
   "source": [
    "trucks = driver.find_element_by_id(\"t1\").find_elements_by_tag_name(\"table\")\n",
    "\n",
    "name = trucks[2].find_elements_by_tag_name(\"tr\")[1].find_element_by_tag_name(\"td\").text.strip()\n",
    "\n",
    "owner = trucks[2].find_elements_by_tag_name(\"tr\")[2].find_element_by_tag_name(\"td\").text.strip()\n",
    "\n",
    "phone = trucks[2].find_elements_by_tag_name(\"tr\")[3].find_element_by_tag_name(\"td\").text.strip()\n",
    "\n",
    "license = trucks[3].find_elements_by_tag_name(\"td\")[1].text.strip()\n",
    "\n",
    "address = trucks[3].find_elements_by_tag_name(\"tr\")[1].find_elements_by_tag_name(\"td\")[1].text.strip()\n",
    "\n",
    "messy_details = {\n",
    "    'Company Name': name, \n",
    "    'Owner': owner, \n",
    "    'Phone': phone,\n",
    "    'Status': license,\n",
    "    'Address': address\n",
    "}\n",
    "\n",
    "print(messy_details)"
   ]
  },
  {
   "cell_type": "markdown",
   "metadata": {},
   "source": [
    "# Adapt this to work inside of a single cell\n",
    "\n",
    "Double-check that it works. You want it to print out all of the details."
   ]
  },
  {
   "cell_type": "markdown",
   "metadata": {},
   "source": [
    "### I did it in a single cell! "
   ]
  },
  {
   "cell_type": "markdown",
   "metadata": {},
   "source": [
    "# Using .apply to find data about SEVERAL tow truck companies\n",
    "\n",
    "The file `trucks-subset.csv` has information about the trucks, we'll use it to find the pages to scrape.\n",
    "\n",
    "### Open up `trucks-subset.csv` and save it into a dataframe"
   ]
  },
  {
   "cell_type": "code",
   "execution_count": 6,
   "metadata": {},
   "outputs": [],
   "source": [
    "df = pd.read_csv(\"trucks-subset.csv\")"
   ]
  },
  {
   "cell_type": "markdown",
   "metadata": {},
   "source": [
    "## Go through each row of the dataset, displaying the URL you will need to scrape for the information on that row\n",
    "\n",
    "You don't have to actually use the search form for each of these - look at the URL you're on, it has the number in it!\n",
    "\n",
    "For example, one URL might look like `https://www.tdlr.texas.gov/tools_search/mccs_display.asp?mcrnumber=006565540C`.\n",
    "\n",
    "- *TIP: Use .apply and a function*\n",
    "- *TIP: You'll need to build this URL from pieces*\n",
    "- *TIP: You probably don't want to `print` unless you're going to fix it for the next question \n",
    "- *TIP: pandas won't showing you the entire url! Run `pd.set_option('display.max_colwidth', None)` to display aaaalll of the text in a cell*"
   ]
  },
  {
   "cell_type": "code",
   "execution_count": 7,
   "metadata": {},
   "outputs": [
    {
     "data": {
      "text/html": [
       "<div>\n",
       "<style scoped>\n",
       "    .dataframe tbody tr th:only-of-type {\n",
       "        vertical-align: middle;\n",
       "    }\n",
       "\n",
       "    .dataframe tbody tr th {\n",
       "        vertical-align: top;\n",
       "    }\n",
       "\n",
       "    .dataframe thead th {\n",
       "        text-align: right;\n",
       "    }\n",
       "</style>\n",
       "<table border=\"1\" class=\"dataframe\">\n",
       "  <thead>\n",
       "    <tr style=\"text-align: right;\">\n",
       "      <th></th>\n",
       "      <th>TDLR Number</th>\n",
       "    </tr>\n",
       "  </thead>\n",
       "  <tbody>\n",
       "    <tr>\n",
       "      <th>0</th>\n",
       "      <td>006565540C</td>\n",
       "    </tr>\n",
       "    <tr>\n",
       "      <th>1</th>\n",
       "      <td>0654479VSF</td>\n",
       "    </tr>\n",
       "    <tr>\n",
       "      <th>2</th>\n",
       "      <td>006564940C</td>\n",
       "    </tr>\n",
       "  </tbody>\n",
       "</table>\n",
       "</div>"
      ],
      "text/plain": [
       "  TDLR Number\n",
       "0  006565540C\n",
       "1  0654479VSF\n",
       "2  006564940C"
      ]
     },
     "execution_count": 7,
     "metadata": {},
     "output_type": "execute_result"
    }
   ],
   "source": [
    "df.head()"
   ]
  },
  {
   "cell_type": "code",
   "execution_count": 34,
   "metadata": {},
   "outputs": [],
   "source": [
    "def make_url(row):\n",
    "    tdlr = row['TDLR Number']\n",
    "    url = '%s%s' % (\"https://www.tdlr.texas.gov/tools_search/mccs_display.asp?mcrnumber=\",tdlr)\n",
    "    return pd.Series([url], index = ['url'])"
   ]
  },
  {
   "cell_type": "markdown",
   "metadata": {},
   "source": [
    "### Save this URL into a new column of your dataframe, called `url`\n",
    "\n",
    "- *TIP: Use a function and `.apply`*\n",
    "- *TIP: Be sure to use `return`*"
   ]
  },
  {
   "cell_type": "code",
   "execution_count": 19,
   "metadata": {},
   "outputs": [],
   "source": [
    "df['url'] = df.apply(lambda row: make_url(row), axis=1)\n",
    "pd.set_option('display.max_colwidth', None)"
   ]
  },
  {
   "cell_type": "code",
   "execution_count": 17,
   "metadata": {},
   "outputs": [
    {
     "data": {
      "text/html": [
       "<div>\n",
       "<style scoped>\n",
       "    .dataframe tbody tr th:only-of-type {\n",
       "        vertical-align: middle;\n",
       "    }\n",
       "\n",
       "    .dataframe tbody tr th {\n",
       "        vertical-align: top;\n",
       "    }\n",
       "\n",
       "    .dataframe thead th {\n",
       "        text-align: right;\n",
       "    }\n",
       "</style>\n",
       "<table border=\"1\" class=\"dataframe\">\n",
       "  <thead>\n",
       "    <tr style=\"text-align: right;\">\n",
       "      <th></th>\n",
       "      <th>TDLR Number</th>\n",
       "      <th>url</th>\n",
       "    </tr>\n",
       "  </thead>\n",
       "  <tbody>\n",
       "    <tr>\n",
       "      <th>0</th>\n",
       "      <td>006565540C</td>\n",
       "      <td>https://www.tdlr.texas.gov/tools_search/mccs_display.asp?mcrnumber=006565540C</td>\n",
       "    </tr>\n",
       "    <tr>\n",
       "      <th>1</th>\n",
       "      <td>0654479VSF</td>\n",
       "      <td>https://www.tdlr.texas.gov/tools_search/mccs_display.asp?mcrnumber=0654479VSF</td>\n",
       "    </tr>\n",
       "    <tr>\n",
       "      <th>2</th>\n",
       "      <td>006564940C</td>\n",
       "      <td>https://www.tdlr.texas.gov/tools_search/mccs_display.asp?mcrnumber=006564940C</td>\n",
       "    </tr>\n",
       "  </tbody>\n",
       "</table>\n",
       "</div>"
      ],
      "text/plain": [
       "  TDLR Number  \\\n",
       "0  006565540C   \n",
       "1  0654479VSF   \n",
       "2  006564940C   \n",
       "\n",
       "                                                                             url  \n",
       "0  https://www.tdlr.texas.gov/tools_search/mccs_display.asp?mcrnumber=006565540C  \n",
       "1  https://www.tdlr.texas.gov/tools_search/mccs_display.asp?mcrnumber=0654479VSF  \n",
       "2  https://www.tdlr.texas.gov/tools_search/mccs_display.asp?mcrnumber=006564940C  "
      ]
     },
     "execution_count": 17,
     "metadata": {},
     "output_type": "execute_result"
    }
   ],
   "source": [
    "df.head()"
   ]
  },
  {
   "cell_type": "markdown",
   "metadata": {},
   "source": [
    "## Go through each row of the dataset, printing out information about each tow truck company.\n",
    "\n",
    "Now will be **scraping** inside of your function.\n",
    "\n",
    "- The business name\n",
    "- Owner/operator\n",
    "- Phone number\n",
    "- License status (Active, Expired, Etc)\n",
    "- Physical address\n",
    "\n",
    "Just print it out for now.\n",
    "\n",
    "- *TIP: use .apply*\n",
    "- *TIP: You'll be using the code you wrote before, but converted into a function*\n",
    "- *TIP: Remember how the TDLR Number is in the URL? You don't need to do the form submission if you don't want!*\n",
    "- *TIP: Make sure you adjust any variables so you don't scrape the same page again and again*"
   ]
  },
  {
   "cell_type": "code",
   "execution_count": 20,
   "metadata": {},
   "outputs": [
    {
     "name": "stdout",
     "output_type": "stream",
     "text": [
      "{'Company Name': 'Name:    H & A TOWING LLC', 'Owner': 'Owner/Officer:   HANEEN ABBAS MOHAMMEDAWI / MANAGER', 'Phone': 'Phone:   512-999-8883', 'Status': 'Status:  Active', 'Address': 'Carrier Type:  Tow Truck Company\\nNumber of Active Tow Trucks:   2\\n\\nAddress Information\\nMailing:\\n391 ROAD 51022\\nCLEVELAND, TX. 77327\\n\\nPhysical:\\n11710 JOSEPH CLAYTON DR\\nAUSTIN, TX. 78753'}\n",
      "{'Company Name': 'Name:    24/7 TOWING AND RECOVERY LLC', 'Owner': 'Owner/Officer:   SCOTT JENSON / VICE PRESIDENT', 'Phone': 'Owner/Officer:   CHRIS BRENES / PRESIDENT', 'Status': 'Status:  Active', 'Address': 'Carrier Type:  Vehicle Storage Facility\\nCapacity:   <=50\\n\\nAddress Information\\nMailing:\\n3601 N COUNTY ROAD 1148\\nMIDLAND, TX. 79705\\n\\nPhysical:\\n3601 N COUNTY ROAD 1148\\nMIDLAND, TX. 79705'}\n",
      "{'Company Name': 'Name:    A & N TOWING LLC', 'Owner': 'Owner/Officer:   ABDULRAHMAN Z ALABDULLAH / CEO', 'Phone': 'Phone:   2106678546', 'Status': 'Status:  Active', 'Address': 'Carrier Type:  Tow Truck Company\\nNumber of Active Tow Trucks:   1\\n\\nAddress Information\\nMailing:\\n10838 DEEPWATER BAY\\nSAN ANTONIO, TX. 78251\\n\\nPhysical:\\n10838 DEEPWATER BAY\\nSAN ANTONIO, TX. 78251'}\n"
     ]
    }
   ],
   "source": [
    "for weblink in df['url']: \n",
    "    \n",
    "    my_url = weblink\n",
    "    driver.get(my_url)\n",
    "    \n",
    "    trucks = driver.find_element_by_id(\"t1\").find_elements_by_tag_name(\"table\")\n",
    "\n",
    "    name = trucks[2].find_elements_by_tag_name(\"tr\")[1].find_element_by_tag_name(\"td\").text.strip()\n",
    "    \n",
    "    owner = trucks[2].find_elements_by_tag_name(\"tr\")[2].find_element_by_tag_name(\"td\").text.strip()\n",
    "    \n",
    "    phone = trucks[2].find_elements_by_tag_name(\"tr\")[3].find_element_by_tag_name(\"td\").text.strip()\n",
    "    \n",
    "    license = trucks[3].find_elements_by_tag_name(\"td\")[1].text.strip()\n",
    "    \n",
    "    address = trucks[3].find_elements_by_tag_name(\"tr\")[1].find_elements_by_tag_name(\"td\")[1].text.strip()\n",
    "\n",
    "    messy_details = {\n",
    "        'Company Name': name, \n",
    "        'Owner': owner, \n",
    "        'Phone': phone,\n",
    "        'Status': license,\n",
    "        'Address': address\n",
    "    }\n",
    "\n",
    "    print(messy_details)"
   ]
  },
  {
   "cell_type": "markdown",
   "metadata": {},
   "source": [
    "## Scrape the following information for each row of the dataset, and save it into new columns in your dataframe.\n",
    "\n",
    "- The business name\n",
    "- Owner/operator\n",
    "- Phone number\n",
    "- License status (Active, Expired, Etc)\n",
    "- Physical address\n",
    "\n",
    "It's basically what we did before, but using the function a little differently.\n",
    "\n",
    "- *TIP: Same as above, but you'll be returning a `pd.Series` and the `.apply` line is going to be a lot longer*\n",
    "- *TIP: Save it to a new dataframe!*\n",
    "- *TIP: Make sure you change your `df` variable names correctly if you're cutting and pasting - there are a few so it can get tricky*"
   ]
  },
  {
   "cell_type": "code",
   "execution_count": 35,
   "metadata": {},
   "outputs": [],
   "source": [
    "def make_list(row):\n",
    "        \n",
    "    my_url = row['url']\n",
    "                \n",
    "    driver.get(my_url)\n",
    "\n",
    "    trucks = driver.find_element_by_id(\"t1\").find_elements_by_tag_name(\"table\")\n",
    "\n",
    "    name = trucks[2].find_elements_by_tag_name(\"tr\")[1].find_element_by_tag_name(\"td\").text.strip()\n",
    "\n",
    "    owner = trucks[2].find_elements_by_tag_name(\"tr\")[2].find_element_by_tag_name(\"td\").text.strip()\n",
    "\n",
    "    phone = trucks[2].find_elements_by_tag_name(\"tr\")[3].find_element_by_tag_name(\"td\").text.strip()\n",
    "\n",
    "    license = trucks[3].find_elements_by_tag_name(\"td\")[1].text.strip()\n",
    "\n",
    "    address = trucks[3].find_elements_by_tag_name(\"tr\")[1].find_elements_by_tag_name(\"td\")[1].text.strip()\n",
    "\n",
    "    result = pd.Series([name, owner, phone, license, address], index =['Name', 'Owner', 'Phone', 'License_status', 'Address'])\n",
    "        \n",
    "    return(result)\n"
   ]
  },
  {
   "cell_type": "code",
   "execution_count": 36,
   "metadata": {},
   "outputs": [],
   "source": [
    "all_trucks = df.apply(lambda x: make_list(x), axis = 1)"
   ]
  },
  {
   "cell_type": "code",
   "execution_count": 37,
   "metadata": {},
   "outputs": [
    {
     "data": {
      "text/html": [
       "<div>\n",
       "<style scoped>\n",
       "    .dataframe tbody tr th:only-of-type {\n",
       "        vertical-align: middle;\n",
       "    }\n",
       "\n",
       "    .dataframe tbody tr th {\n",
       "        vertical-align: top;\n",
       "    }\n",
       "\n",
       "    .dataframe thead th {\n",
       "        text-align: right;\n",
       "    }\n",
       "</style>\n",
       "<table border=\"1\" class=\"dataframe\">\n",
       "  <thead>\n",
       "    <tr style=\"text-align: right;\">\n",
       "      <th></th>\n",
       "      <th>Name</th>\n",
       "      <th>Owner</th>\n",
       "      <th>Phone</th>\n",
       "      <th>License_status</th>\n",
       "      <th>Address</th>\n",
       "    </tr>\n",
       "  </thead>\n",
       "  <tbody>\n",
       "    <tr>\n",
       "      <th>0</th>\n",
       "      <td>Name:    H &amp; A TOWING LLC</td>\n",
       "      <td>Owner/Officer:   HANEEN ABBAS MOHAMMEDAWI / MANAGER</td>\n",
       "      <td>Phone:   512-999-8883</td>\n",
       "      <td>Status:  Active</td>\n",
       "      <td>Carrier Type:  Tow Truck Company\\nNumber of Active Tow Trucks:   2\\n\\nAddress Information\\nMailing:\\n391 ROAD 51022\\nCLEVELAND, TX. 77327\\n\\nPhysical:\\n11710 JOSEPH CLAYTON DR\\nAUSTIN, TX. 78753</td>\n",
       "    </tr>\n",
       "    <tr>\n",
       "      <th>1</th>\n",
       "      <td>Name:    24/7 TOWING AND RECOVERY LLC</td>\n",
       "      <td>Owner/Officer:   SCOTT JENSON / VICE PRESIDENT</td>\n",
       "      <td>Owner/Officer:   CHRIS BRENES / PRESIDENT</td>\n",
       "      <td>Status:  Active</td>\n",
       "      <td>Carrier Type:  Vehicle Storage Facility\\nCapacity:   &lt;=50\\n\\nAddress Information\\nMailing:\\n3601 N COUNTY ROAD 1148\\nMIDLAND, TX. 79705\\n\\nPhysical:\\n3601 N COUNTY ROAD 1148\\nMIDLAND, TX. 79705</td>\n",
       "    </tr>\n",
       "    <tr>\n",
       "      <th>2</th>\n",
       "      <td>Name:    A &amp; N TOWING LLC</td>\n",
       "      <td>Owner/Officer:   ABDULRAHMAN Z ALABDULLAH / CEO</td>\n",
       "      <td>Phone:   2106678546</td>\n",
       "      <td>Status:  Active</td>\n",
       "      <td>Carrier Type:  Tow Truck Company\\nNumber of Active Tow Trucks:   1\\n\\nAddress Information\\nMailing:\\n10838 DEEPWATER BAY\\nSAN ANTONIO, TX. 78251\\n\\nPhysical:\\n10838 DEEPWATER BAY\\nSAN ANTONIO, TX. 78251</td>\n",
       "    </tr>\n",
       "  </tbody>\n",
       "</table>\n",
       "</div>"
      ],
      "text/plain": [
       "                                    Name  \\\n",
       "0              Name:    H & A TOWING LLC   \n",
       "1  Name:    24/7 TOWING AND RECOVERY LLC   \n",
       "2              Name:    A & N TOWING LLC   \n",
       "\n",
       "                                                 Owner  \\\n",
       "0  Owner/Officer:   HANEEN ABBAS MOHAMMEDAWI / MANAGER   \n",
       "1       Owner/Officer:   SCOTT JENSON / VICE PRESIDENT   \n",
       "2      Owner/Officer:   ABDULRAHMAN Z ALABDULLAH / CEO   \n",
       "\n",
       "                                       Phone   License_status  \\\n",
       "0                      Phone:   512-999-8883  Status:  Active   \n",
       "1  Owner/Officer:   CHRIS BRENES / PRESIDENT  Status:  Active   \n",
       "2                        Phone:   2106678546  Status:  Active   \n",
       "\n",
       "                                                                                                                                                                                                      Address  \n",
       "0          Carrier Type:  Tow Truck Company\\nNumber of Active Tow Trucks:   2\\n\\nAddress Information\\nMailing:\\n391 ROAD 51022\\nCLEVELAND, TX. 77327\\n\\nPhysical:\\n11710 JOSEPH CLAYTON DR\\nAUSTIN, TX. 78753  \n",
       "1           Carrier Type:  Vehicle Storage Facility\\nCapacity:   <=50\\n\\nAddress Information\\nMailing:\\n3601 N COUNTY ROAD 1148\\nMIDLAND, TX. 79705\\n\\nPhysical:\\n3601 N COUNTY ROAD 1148\\nMIDLAND, TX. 79705  \n",
       "2  Carrier Type:  Tow Truck Company\\nNumber of Active Tow Trucks:   1\\n\\nAddress Information\\nMailing:\\n10838 DEEPWATER BAY\\nSAN ANTONIO, TX. 78251\\n\\nPhysical:\\n10838 DEEPWATER BAY\\nSAN ANTONIO, TX. 78251  "
      ]
     },
     "execution_count": 37,
     "metadata": {},
     "output_type": "execute_result"
    }
   ],
   "source": [
    "all_trucks"
   ]
  },
  {
   "cell_type": "markdown",
   "metadata": {},
   "source": [
    "### Save your dataframe as a CSV named `tow-trucks-extended.csv`"
   ]
  },
  {
   "cell_type": "code",
   "execution_count": 27,
   "metadata": {},
   "outputs": [],
   "source": [
    "df2 = pd.DataFrame(all_trucks)\n",
    "\n",
    "df2.to_csv('tow-trucks-extended.csv', index = False)"
   ]
  },
  {
   "cell_type": "markdown",
   "metadata": {},
   "source": [
    "### Re-open your dataframe to confirm you didn't save any extra weird columns"
   ]
  },
  {
   "cell_type": "markdown",
   "metadata": {},
   "source": [
    "### I didn't clean it with Regex to get rid of the titles before each item but works fine otherwise: "
   ]
  },
  {
   "cell_type": "code",
   "execution_count": 28,
   "metadata": {},
   "outputs": [
    {
     "data": {
      "text/html": [
       "<div>\n",
       "<style scoped>\n",
       "    .dataframe tbody tr th:only-of-type {\n",
       "        vertical-align: middle;\n",
       "    }\n",
       "\n",
       "    .dataframe tbody tr th {\n",
       "        vertical-align: top;\n",
       "    }\n",
       "\n",
       "    .dataframe thead th {\n",
       "        text-align: right;\n",
       "    }\n",
       "</style>\n",
       "<table border=\"1\" class=\"dataframe\">\n",
       "  <thead>\n",
       "    <tr style=\"text-align: right;\">\n",
       "      <th></th>\n",
       "      <th>Name</th>\n",
       "      <th>Owner</th>\n",
       "      <th>Phone</th>\n",
       "      <th>License_status</th>\n",
       "      <th>Address</th>\n",
       "    </tr>\n",
       "  </thead>\n",
       "  <tbody>\n",
       "    <tr>\n",
       "      <th>0</th>\n",
       "      <td>Name:    H &amp; A TOWING LLC</td>\n",
       "      <td>Owner/Officer:   HANEEN ABBAS MOHAMMEDAWI / MANAGER</td>\n",
       "      <td>Phone:   512-999-8883</td>\n",
       "      <td>Status:  Active</td>\n",
       "      <td>Carrier Type:  Tow Truck Company\\nNumber of Active Tow Trucks:   2\\n\\nAddress Information\\nMailing:\\n391 ROAD 51022\\nCLEVELAND, TX. 77327\\n\\nPhysical:\\n11710 JOSEPH CLAYTON DR\\nAUSTIN, TX. 78753</td>\n",
       "    </tr>\n",
       "    <tr>\n",
       "      <th>1</th>\n",
       "      <td>Name:    24/7 TOWING AND RECOVERY LLC</td>\n",
       "      <td>Owner/Officer:   SCOTT JENSON / VICE PRESIDENT</td>\n",
       "      <td>Owner/Officer:   CHRIS BRENES / PRESIDENT</td>\n",
       "      <td>Status:  Active</td>\n",
       "      <td>Carrier Type:  Vehicle Storage Facility\\nCapacity:   &lt;=50\\n\\nAddress Information\\nMailing:\\n3601 N COUNTY ROAD 1148\\nMIDLAND, TX. 79705\\n\\nPhysical:\\n3601 N COUNTY ROAD 1148\\nMIDLAND, TX. 79705</td>\n",
       "    </tr>\n",
       "    <tr>\n",
       "      <th>2</th>\n",
       "      <td>Name:    A &amp; N TOWING LLC</td>\n",
       "      <td>Owner/Officer:   ABDULRAHMAN Z ALABDULLAH / CEO</td>\n",
       "      <td>Phone:   2106678546</td>\n",
       "      <td>Status:  Active</td>\n",
       "      <td>Carrier Type:  Tow Truck Company\\nNumber of Active Tow Trucks:   1\\n\\nAddress Information\\nMailing:\\n10838 DEEPWATER BAY\\nSAN ANTONIO, TX. 78251\\n\\nPhysical:\\n10838 DEEPWATER BAY\\nSAN ANTONIO, TX. 78251</td>\n",
       "    </tr>\n",
       "  </tbody>\n",
       "</table>\n",
       "</div>"
      ],
      "text/plain": [
       "                                    Name  \\\n",
       "0              Name:    H & A TOWING LLC   \n",
       "1  Name:    24/7 TOWING AND RECOVERY LLC   \n",
       "2              Name:    A & N TOWING LLC   \n",
       "\n",
       "                                                 Owner  \\\n",
       "0  Owner/Officer:   HANEEN ABBAS MOHAMMEDAWI / MANAGER   \n",
       "1       Owner/Officer:   SCOTT JENSON / VICE PRESIDENT   \n",
       "2      Owner/Officer:   ABDULRAHMAN Z ALABDULLAH / CEO   \n",
       "\n",
       "                                       Phone   License_status  \\\n",
       "0                      Phone:   512-999-8883  Status:  Active   \n",
       "1  Owner/Officer:   CHRIS BRENES / PRESIDENT  Status:  Active   \n",
       "2                        Phone:   2106678546  Status:  Active   \n",
       "\n",
       "                                                                                                                                                                                                      Address  \n",
       "0          Carrier Type:  Tow Truck Company\\nNumber of Active Tow Trucks:   2\\n\\nAddress Information\\nMailing:\\n391 ROAD 51022\\nCLEVELAND, TX. 77327\\n\\nPhysical:\\n11710 JOSEPH CLAYTON DR\\nAUSTIN, TX. 78753  \n",
       "1           Carrier Type:  Vehicle Storage Facility\\nCapacity:   <=50\\n\\nAddress Information\\nMailing:\\n3601 N COUNTY ROAD 1148\\nMIDLAND, TX. 79705\\n\\nPhysical:\\n3601 N COUNTY ROAD 1148\\nMIDLAND, TX. 79705  \n",
       "2  Carrier Type:  Tow Truck Company\\nNumber of Active Tow Trucks:   1\\n\\nAddress Information\\nMailing:\\n10838 DEEPWATER BAY\\nSAN ANTONIO, TX. 78251\\n\\nPhysical:\\n10838 DEEPWATER BAY\\nSAN ANTONIO, TX. 78251  "
      ]
     },
     "execution_count": 28,
     "metadata": {},
     "output_type": "execute_result"
    }
   ],
   "source": [
    "df2 = pd.read_csv(\"tow-trucks-extended.csv\")\n",
    "df2.head()"
   ]
  },
  {
   "cell_type": "markdown",
   "metadata": {},
   "source": [
    "## Process the entire `tow-trucks.csv` file\n",
    "\n",
    "We just did it on a short subset so far. Now try it on all of the tow trucks. **Save as the same filename as before**"
   ]
  },
  {
   "cell_type": "code",
   "execution_count": 29,
   "metadata": {},
   "outputs": [],
   "source": [
    "df2 = pd.read_csv(\"tow-trucks.csv\")"
   ]
  },
  {
   "cell_type": "code",
   "execution_count": 41,
   "metadata": {},
   "outputs": [],
   "source": [
    "df2['url'] = df2.apply(lambda row: make_url(row), axis=1)\n",
    "all_df2 = df.apply(lambda x: make_list(x), axis = 1)"
   ]
  },
  {
   "cell_type": "code",
   "execution_count": 43,
   "metadata": {},
   "outputs": [],
   "source": [
    "df2.to_csv('tow-trucks-extended.csv', index = False)"
   ]
  }
 ],
 "metadata": {
  "kernelspec": {
   "display_name": "Python 3",
   "language": "python",
   "name": "python3"
  },
  "language_info": {
   "codemirror_mode": {
    "name": "ipython",
    "version": 3
   },
   "file_extension": ".py",
   "mimetype": "text/x-python",
   "name": "python",
   "nbconvert_exporter": "python",
   "pygments_lexer": "ipython3",
   "version": "3.8.2"
  }
 },
 "nbformat": 4,
 "nbformat_minor": 2
}
