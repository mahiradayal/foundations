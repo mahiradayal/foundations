{
 "cells": [
  {
   "cell_type": "markdown",
   "metadata": {},
   "source": [
    "# Cryptocurrency prices\n",
    "\n",
    "* **Filename:**  `cryptocurrencies.csv`\n",
    "* **Description:** Cryptocurrency prices for a handful of coins over time.\n",
    "* **Source:** https://coinmarketcap.com/all/views/all/ but from a million years ago (I cut and pasted, honestly)\n",
    "\n",
    "### Make a chart of bitcoin's high, on a weekly basis\n",
    "\n",
    "You might want to do the cherry blossoms homework first, or at least read the part about `format=` and `pd.to_datetime`.\n",
    "\n",
    "*Yes, that's the entire assignment. It isn't an exciting dataset, but it's just dirty enough to make charting this a useful experience.*"
   ]
  },
  {
   "cell_type": "code",
   "execution_count": 1,
   "metadata": {},
   "outputs": [
    {
     "name": "stderr",
     "output_type": "stream",
     "text": [
      "/Users/mahiradayal/.pyenv/versions/3.8.2/lib/python3.8/site-packages/pandas/compat/__init__.py:120: UserWarning: Could not import the lzma module. Your installed Python is incomplete. Attempting to use lzma compression will result in a RuntimeError.\n",
      "  warnings.warn(msg)\n"
     ]
    }
   ],
   "source": [
    "import pandas as pd"
   ]
  },
  {
   "cell_type": "code",
   "execution_count": 2,
   "metadata": {},
   "outputs": [
    {
     "data": {
      "text/html": [
       "<div>\n",
       "<style scoped>\n",
       "    .dataframe tbody tr th:only-of-type {\n",
       "        vertical-align: middle;\n",
       "    }\n",
       "\n",
       "    .dataframe tbody tr th {\n",
       "        vertical-align: top;\n",
       "    }\n",
       "\n",
       "    .dataframe thead th {\n",
       "        text-align: right;\n",
       "    }\n",
       "</style>\n",
       "<table border=\"1\" class=\"dataframe\">\n",
       "  <thead>\n",
       "    <tr style=\"text-align: right;\">\n",
       "      <th></th>\n",
       "      <th>date</th>\n",
       "      <th>open</th>\n",
       "      <th>high</th>\n",
       "      <th>low</th>\n",
       "      <th>close</th>\n",
       "      <th>volume</th>\n",
       "      <th>market_cap</th>\n",
       "      <th>coin</th>\n",
       "    </tr>\n",
       "  </thead>\n",
       "  <tbody>\n",
       "    <tr>\n",
       "      <th>0</th>\n",
       "      <td>12-Feb-18</td>\n",
       "      <td>8,141.43</td>\n",
       "      <td>8,985.92</td>\n",
       "      <td>8,141.43</td>\n",
       "      <td>8,926.57</td>\n",
       "      <td>6,256,440,000</td>\n",
       "      <td>137,258,000,000</td>\n",
       "      <td>BTC</td>\n",
       "    </tr>\n",
       "    <tr>\n",
       "      <th>1</th>\n",
       "      <td>11-Feb-18</td>\n",
       "      <td>8,616.13</td>\n",
       "      <td>8,616.13</td>\n",
       "      <td>7,931.10</td>\n",
       "      <td>8,129.97</td>\n",
       "      <td>6,122,190,000</td>\n",
       "      <td>145,245,000,000</td>\n",
       "      <td>BTC</td>\n",
       "    </tr>\n",
       "    <tr>\n",
       "      <th>2</th>\n",
       "      <td>10-Feb-18</td>\n",
       "      <td>8,720.08</td>\n",
       "      <td>9,122.55</td>\n",
       "      <td>8,295.47</td>\n",
       "      <td>8,621.90</td>\n",
       "      <td>7,780,960,000</td>\n",
       "      <td>146,981,000,000</td>\n",
       "      <td>BTC</td>\n",
       "    </tr>\n",
       "    <tr>\n",
       "      <th>3</th>\n",
       "      <td>9-Feb-18</td>\n",
       "      <td>8,271.84</td>\n",
       "      <td>8,736.98</td>\n",
       "      <td>7,884.71</td>\n",
       "      <td>8,736.98</td>\n",
       "      <td>6,784,820,000</td>\n",
       "      <td>139,412,000,000</td>\n",
       "      <td>BTC</td>\n",
       "    </tr>\n",
       "    <tr>\n",
       "      <th>4</th>\n",
       "      <td>8-Feb-18</td>\n",
       "      <td>7,637.86</td>\n",
       "      <td>8,558.77</td>\n",
       "      <td>7,637.86</td>\n",
       "      <td>8,265.59</td>\n",
       "      <td>9,346,750,000</td>\n",
       "      <td>128,714,000,000</td>\n",
       "      <td>BTC</td>\n",
       "    </tr>\n",
       "    <tr>\n",
       "      <th>...</th>\n",
       "      <td>...</td>\n",
       "      <td>...</td>\n",
       "      <td>...</td>\n",
       "      <td>...</td>\n",
       "      <td>...</td>\n",
       "      <td>...</td>\n",
       "      <td>...</td>\n",
       "      <td>...</td>\n",
       "    </tr>\n",
       "    <tr>\n",
       "      <th>2260</th>\n",
       "      <td>17-Feb-17</td>\n",
       "      <td>13.07</td>\n",
       "      <td>13.34</td>\n",
       "      <td>13.04</td>\n",
       "      <td>13.3</td>\n",
       "      <td>1,711,010</td>\n",
       "      <td>182,332,000</td>\n",
       "      <td>XMR</td>\n",
       "    </tr>\n",
       "    <tr>\n",
       "      <th>2261</th>\n",
       "      <td>16-Feb-17</td>\n",
       "      <td>13.62</td>\n",
       "      <td>13.62</td>\n",
       "      <td>12.91</td>\n",
       "      <td>13.1</td>\n",
       "      <td>3,256,190</td>\n",
       "      <td>189,926,000</td>\n",
       "      <td>XMR</td>\n",
       "    </tr>\n",
       "    <tr>\n",
       "      <th>2262</th>\n",
       "      <td>15-Feb-17</td>\n",
       "      <td>13.01</td>\n",
       "      <td>13.74</td>\n",
       "      <td>12.88</td>\n",
       "      <td>13.62</td>\n",
       "      <td>4,811,600</td>\n",
       "      <td>181,497,000</td>\n",
       "      <td>XMR</td>\n",
       "    </tr>\n",
       "    <tr>\n",
       "      <th>2263</th>\n",
       "      <td>14-Feb-17</td>\n",
       "      <td>12.2</td>\n",
       "      <td>13.2</td>\n",
       "      <td>12.11</td>\n",
       "      <td>12.99</td>\n",
       "      <td>4,166,850</td>\n",
       "      <td>170,135,000</td>\n",
       "      <td>XMR</td>\n",
       "    </tr>\n",
       "    <tr>\n",
       "      <th>2264</th>\n",
       "      <td>13-Feb-17</td>\n",
       "      <td>12.31</td>\n",
       "      <td>12.36</td>\n",
       "      <td>12.09</td>\n",
       "      <td>12.2</td>\n",
       "      <td>1,687,590</td>\n",
       "      <td>171,557,000</td>\n",
       "      <td>XMR</td>\n",
       "    </tr>\n",
       "  </tbody>\n",
       "</table>\n",
       "<p>2265 rows × 8 columns</p>\n",
       "</div>"
      ],
      "text/plain": [
       "           date      open      high       low     close         volume  \\\n",
       "0     12-Feb-18  8,141.43  8,985.92  8,141.43  8,926.57  6,256,440,000   \n",
       "1     11-Feb-18  8,616.13  8,616.13  7,931.10  8,129.97  6,122,190,000   \n",
       "2     10-Feb-18  8,720.08  9,122.55  8,295.47  8,621.90  7,780,960,000   \n",
       "3      9-Feb-18  8,271.84  8,736.98  7,884.71  8,736.98  6,784,820,000   \n",
       "4      8-Feb-18  7,637.86  8,558.77  7,637.86  8,265.59  9,346,750,000   \n",
       "...         ...       ...       ...       ...       ...            ...   \n",
       "2260  17-Feb-17     13.07     13.34     13.04      13.3      1,711,010   \n",
       "2261  16-Feb-17     13.62     13.62     12.91      13.1      3,256,190   \n",
       "2262  15-Feb-17     13.01     13.74     12.88     13.62      4,811,600   \n",
       "2263  14-Feb-17      12.2      13.2     12.11     12.99      4,166,850   \n",
       "2264  13-Feb-17     12.31     12.36     12.09      12.2      1,687,590   \n",
       "\n",
       "           market_cap coin  \n",
       "0     137,258,000,000  BTC  \n",
       "1     145,245,000,000  BTC  \n",
       "2     146,981,000,000  BTC  \n",
       "3     139,412,000,000  BTC  \n",
       "4     128,714,000,000  BTC  \n",
       "...               ...  ...  \n",
       "2260      182,332,000  XMR  \n",
       "2261      189,926,000  XMR  \n",
       "2262      181,497,000  XMR  \n",
       "2263      170,135,000  XMR  \n",
       "2264      171,557,000  XMR  \n",
       "\n",
       "[2265 rows x 8 columns]"
      ]
     },
     "execution_count": 2,
     "metadata": {},
     "output_type": "execute_result"
    }
   ],
   "source": [
    "df = pd.read_csv(\"/Users/mahiradayal/computing/hw-8/cryptocurrency/cryptocurrencies.csv\")\n",
    "df"
   ]
  },
  {
   "cell_type": "code",
   "execution_count": 3,
   "metadata": {},
   "outputs": [],
   "source": [
    "import datetime as dt"
   ]
  },
  {
   "cell_type": "code",
   "execution_count": 4,
   "metadata": {},
   "outputs": [
    {
     "data": {
      "text/plain": [
       "0      2018-02-12\n",
       "1      2018-02-11\n",
       "2      2018-02-10\n",
       "3      2018-02-09\n",
       "4      2018-02-08\n",
       "          ...    \n",
       "2260   2017-02-17\n",
       "2261   2017-02-16\n",
       "2262   2017-02-15\n",
       "2263   2017-02-14\n",
       "2264   2017-02-13\n",
       "Name: date, Length: 2265, dtype: datetime64[ns]"
      ]
     },
     "execution_count": 4,
     "metadata": {},
     "output_type": "execute_result"
    }
   ],
   "source": [
    "df['date'] = pd.to_datetime(df.date, format=\"%d-%b-%y\", errors=\"coerce\").dropna()\n",
    "df.date"
   ]
  },
  {
   "cell_type": "code",
   "execution_count": 5,
   "metadata": {},
   "outputs": [
    {
     "data": {
      "text/plain": [
       "766     01\n",
       "771     01\n",
       "770     01\n",
       "769     01\n",
       "768     01\n",
       "        ..\n",
       "1946    52\n",
       "1945    52\n",
       "1944    52\n",
       "1943    52\n",
       "48      52\n",
       "Name: week, Length: 2260, dtype: object"
      ]
     },
     "execution_count": 5,
     "metadata": {},
     "output_type": "execute_result"
    }
   ],
   "source": [
    "df['week'] = df.date.dt.strftime(\"%W\")\n",
    "df.week.sort_values().head(-5)"
   ]
  },
  {
   "cell_type": "code",
   "execution_count": 6,
   "metadata": {},
   "outputs": [
    {
     "data": {
      "text/plain": [
       "0    8985.92\n",
       "1    8616.13\n",
       "2    9122.55\n",
       "3    8736.98\n",
       "4    8558.77\n",
       "Name: high, dtype: object"
      ]
     },
     "execution_count": 6,
     "metadata": {},
     "output_type": "execute_result"
    }
   ],
   "source": [
    "df['high']=df['high'].str.replace(',','')\n",
    "df.high.head()"
   ]
  },
  {
   "cell_type": "code",
   "execution_count": 29,
   "metadata": {},
   "outputs": [],
   "source": [
    "df[\"high\"]=df[\"high\"].astype(float)"
   ]
  },
  {
   "cell_type": "code",
   "execution_count": 30,
   "metadata": {},
   "outputs": [
    {
     "data": {
      "text/plain": [
       "date          datetime64[ns]\n",
       "open                  object\n",
       "high                 float64\n",
       "low                   object\n",
       "close                 object\n",
       "volume                object\n",
       "market_cap            object\n",
       "coin                  object\n",
       "week                  object\n",
       "dtype: object"
      ]
     },
     "execution_count": 30,
     "metadata": {},
     "output_type": "execute_result"
    }
   ],
   "source": [
    "df.dtypes"
   ]
  },
  {
   "cell_type": "code",
   "execution_count": 31,
   "metadata": {},
   "outputs": [
    {
     "data": {
      "text/plain": [
       "<AxesSubplot:ylabel='week'>"
      ]
     },
     "execution_count": 31,
     "metadata": {},
     "output_type": "execute_result"
    },
    {
     "data": {
      "image/png": "[encoded data removed]",
      "text/plain": [
       "<Figure size 720x720 with 1 Axes>"
      ]
     },
     "metadata": {
      "needs_background": "light"
     },
     "output_type": "display_data"
    }
   ],
   "source": [
    "df.groupby('week').high.agg('max').plot(y='week', x ='max', kind='barh', figsize = (10,10))"
   ]
  },
  {
   "cell_type": "code",
   "execution_count": null,
   "metadata": {},
   "outputs": [],
   "source": []
  }
 ],
 "metadata": {
  "kernelspec": {
   "display_name": "Python 3",
   "language": "python",
   "name": "python3"
  },
  "language_info": {
   "codemirror_mode": {
    "name": "ipython",
    "version": 3
   },
   "file_extension": ".py",
   "mimetype": "text/x-python",
   "name": "python",
   "nbconvert_exporter": "python",
   "pygments_lexer": "ipython3",
   "version": "3.8.2"
  }
 },
 "nbformat": 4,
 "nbformat_minor": 2
}
