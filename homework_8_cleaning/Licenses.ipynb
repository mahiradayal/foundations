{
 "cells": [
  {
   "cell_type": "markdown",
   "metadata": {},
   "source": [
    "# Texas Licenses\n",
    "\n",
    "I originally got this dataset from the [License Files page](https://www.license.state.tx.us/licensesearch/licfile.asp) from the Texas Department of Licensing and Regulation, but they've changed around since then! I'm pretty sure it's [this dataset](https://www.opendatanetwork.com/dataset/data.texas.gov/7358-krk7), but we'll just use a local version instead of the most current."
   ]
  },
  {
   "cell_type": "markdown",
   "metadata": {},
   "source": [
    "# PART ONE: OPENING UP OUR DATASET"
   ]
  },
  {
   "cell_type": "markdown",
   "metadata": {},
   "source": [
    "## 0. Do your setup\n",
    "\n",
    "Import what you need to import, etc."
   ]
  },
  {
   "cell_type": "code",
   "execution_count": 1,
   "metadata": {},
   "outputs": [
    {
     "name": "stderr",
     "output_type": "stream",
     "text": [
      "/Users/mahiradayal/.pyenv/versions/3.8.2/lib/python3.8/site-packages/pandas/compat/__init__.py:120: UserWarning: Could not import the lzma module. Your installed Python is incomplete. Attempting to use lzma compression will result in a RuntimeError.\n",
      "  warnings.warn(msg)\n"
     ]
    }
   ],
   "source": [
    "import pandas as pd"
   ]
  },
  {
   "cell_type": "markdown",
   "metadata": {},
   "source": [
    "## 1. Open the file\n",
    "\n",
    "We'll start with `licfile.csv`, which is a list of licenses."
   ]
  },
  {
   "cell_type": "code",
   "execution_count": 2,
   "metadata": {},
   "outputs": [
    {
     "name": "stderr",
     "output_type": "stream",
     "text": [
      "/Users/mahiradayal/.pyenv/versions/3.8.2/lib/python3.8/site-packages/IPython/core/interactiveshell.py:3145: DtypeWarning: Columns (1,15,16) have mixed types.Specify dtype option on import or set low_memory=False.\n",
      "  has_raised = await self.run_ast_nodes(code_ast.body, cell_name,\n"
     ]
    },
    {
     "data": {
      "text/html": [
       "<div>\n",
       "<style scoped>\n",
       "    .dataframe tbody tr th:only-of-type {\n",
       "        vertical-align: middle;\n",
       "    }\n",
       "\n",
       "    .dataframe tbody tr th {\n",
       "        vertical-align: top;\n",
       "    }\n",
       "\n",
       "    .dataframe thead th {\n",
       "        text-align: right;\n",
       "    }\n",
       "</style>\n",
       "<table border=\"1\" class=\"dataframe\">\n",
       "  <thead>\n",
       "    <tr style=\"text-align: right;\">\n",
       "      <th></th>\n",
       "      <th>Associate Auctioneer</th>\n",
       "      <th>7326</th>\n",
       "      <th>ANGELINA</th>\n",
       "      <th>RISINGER, JIM MARVIN</th>\n",
       "      <th>Unnamed: 4</th>\n",
       "      <th>Unnamed: 5</th>\n",
       "      <th>Unnamed: 6</th>\n",
       "      <th>Unnamed: 7</th>\n",
       "      <th>08102017</th>\n",
       "      <th>RISINGER, JIM MARVIN.1</th>\n",
       "      <th>7668 S US HWY 59</th>\n",
       "      <th>Unnamed: 11</th>\n",
       "      <th>NACOGDOCHES TX 75964</th>\n",
       "      <th>0347</th>\n",
       "      <th>NACOGDOCHES</th>\n",
       "      <th>75964</th>\n",
       "      <th>9363665745</th>\n",
       "      <th>Unnamed: 17</th>\n",
       "      <th>N</th>\n",
       "    </tr>\n",
       "  </thead>\n",
       "  <tbody>\n",
       "    <tr>\n",
       "      <th>0</th>\n",
       "      <td>Associate Auctioneer</td>\n",
       "      <td>7962</td>\n",
       "      <td>UPSHUR</td>\n",
       "      <td>WILLIAMS, JON ANDRE</td>\n",
       "      <td>NaN</td>\n",
       "      <td>NaN</td>\n",
       "      <td>NaN</td>\n",
       "      <td>NaN</td>\n",
       "      <td>12292017</td>\n",
       "      <td>WILLIAMS, JON ANDRE</td>\n",
       "      <td>228 FM 1252</td>\n",
       "      <td>NaN</td>\n",
       "      <td>KILGORE TX 75662</td>\n",
       "      <td>183.0</td>\n",
       "      <td>GREGG</td>\n",
       "      <td>75662</td>\n",
       "      <td>9039187899</td>\n",
       "      <td>NaN</td>\n",
       "      <td>N</td>\n",
       "    </tr>\n",
       "    <tr>\n",
       "      <th>1</th>\n",
       "      <td>Associate Auctioneer</td>\n",
       "      <td>8406</td>\n",
       "      <td>WILSON</td>\n",
       "      <td>GUEVARA, JUAN ANTONIO</td>\n",
       "      <td>NaN</td>\n",
       "      <td>NaN</td>\n",
       "      <td>NaN</td>\n",
       "      <td>NaN</td>\n",
       "      <td>9262017</td>\n",
       "      <td>GUEVARA, JUAN ANTONIO</td>\n",
       "      <td>6909 HWY 181</td>\n",
       "      <td>NaN</td>\n",
       "      <td>POTH TX 78147</td>\n",
       "      <td>493.0</td>\n",
       "      <td>WILSON</td>\n",
       "      <td>78147</td>\n",
       "      <td>NaN</td>\n",
       "      <td>NaN</td>\n",
       "      <td>N</td>\n",
       "    </tr>\n",
       "    <tr>\n",
       "      <th>2</th>\n",
       "      <td>Associate Auctioneer</td>\n",
       "      <td>10543</td>\n",
       "      <td>HARRIS</td>\n",
       "      <td>BOWERS, JAMES BRISCOE II</td>\n",
       "      <td>NaN</td>\n",
       "      <td>NaN</td>\n",
       "      <td>NaN</td>\n",
       "      <td>NaN</td>\n",
       "      <td>11042017</td>\n",
       "      <td>BOWERS, JAMES BRISCOE II</td>\n",
       "      <td>6767 NORTH FWY</td>\n",
       "      <td>NaN</td>\n",
       "      <td>HOUSTON TX 77076-2027</td>\n",
       "      <td>201.0</td>\n",
       "      <td>HARRIS</td>\n",
       "      <td>77076</td>\n",
       "      <td>7136445566</td>\n",
       "      <td>NaN</td>\n",
       "      <td>N</td>\n",
       "    </tr>\n",
       "    <tr>\n",
       "      <th>3</th>\n",
       "      <td>Associate Auctioneer</td>\n",
       "      <td>10642</td>\n",
       "      <td>BELL</td>\n",
       "      <td>DEMSKY, JOHN EDWARD</td>\n",
       "      <td>NaN</td>\n",
       "      <td>NaN</td>\n",
       "      <td>NaN</td>\n",
       "      <td>NaN</td>\n",
       "      <td>2252018</td>\n",
       "      <td>DEMSKY, JOHN EDWARD</td>\n",
       "      <td>130 E CLARK ST</td>\n",
       "      <td>NaN</td>\n",
       "      <td>BARTLETT TX 76511</td>\n",
       "      <td>27.0</td>\n",
       "      <td>BELL</td>\n",
       "      <td>76511</td>\n",
       "      <td>2549852228</td>\n",
       "      <td>NaN</td>\n",
       "      <td>N</td>\n",
       "    </tr>\n",
       "    <tr>\n",
       "      <th>4</th>\n",
       "      <td>Associate Auctioneer</td>\n",
       "      <td>15650</td>\n",
       "      <td>OUT OF STATE</td>\n",
       "      <td>THOMPSON, RANDY D</td>\n",
       "      <td>NaN</td>\n",
       "      <td>NaN</td>\n",
       "      <td>NaN</td>\n",
       "      <td>NaN</td>\n",
       "      <td>5042017</td>\n",
       "      <td>THOMPSON, RANDY D</td>\n",
       "      <td>10995 BELLEVILLE RD</td>\n",
       "      <td>NaN</td>\n",
       "      <td>RINGLING OK 73456</td>\n",
       "      <td>999.0</td>\n",
       "      <td>OUT OF STATE</td>\n",
       "      <td>73456</td>\n",
       "      <td>5802765961</td>\n",
       "      <td>NaN</td>\n",
       "      <td>N</td>\n",
       "    </tr>\n",
       "  </tbody>\n",
       "</table>\n",
       "</div>"
      ],
      "text/plain": [
       "   Associate Auctioneer   7326      ANGELINA      RISINGER, JIM MARVIN  \\\n",
       "0  Associate Auctioneer   7962        UPSHUR       WILLIAMS, JON ANDRE   \n",
       "1  Associate Auctioneer   8406        WILSON     GUEVARA, JUAN ANTONIO   \n",
       "2  Associate Auctioneer  10543        HARRIS  BOWERS, JAMES BRISCOE II   \n",
       "3  Associate Auctioneer  10642          BELL       DEMSKY, JOHN EDWARD   \n",
       "4  Associate Auctioneer  15650  OUT OF STATE         THOMPSON, RANDY D   \n",
       "\n",
       "   Unnamed: 4  Unnamed: 5  Unnamed: 6  Unnamed: 7  08102017  \\\n",
       "0         NaN         NaN         NaN         NaN  12292017   \n",
       "1         NaN         NaN         NaN         NaN   9262017   \n",
       "2         NaN         NaN         NaN         NaN  11042017   \n",
       "3         NaN         NaN         NaN         NaN   2252018   \n",
       "4         NaN         NaN         NaN         NaN   5042017   \n",
       "\n",
       "     RISINGER, JIM MARVIN.1     7668 S US HWY 59 Unnamed: 11  \\\n",
       "0       WILLIAMS, JON ANDRE          228 FM 1252         NaN   \n",
       "1     GUEVARA, JUAN ANTONIO         6909 HWY 181         NaN   \n",
       "2  BOWERS, JAMES BRISCOE II       6767 NORTH FWY         NaN   \n",
       "3       DEMSKY, JOHN EDWARD       130 E CLARK ST         NaN   \n",
       "4         THOMPSON, RANDY D  10995 BELLEVILLE RD         NaN   \n",
       "\n",
       "    NACOGDOCHES TX 75964   0347   NACOGDOCHES  75964  9363665745 Unnamed: 17  \\\n",
       "0       KILGORE TX 75662  183.0         GREGG  75662  9039187899         NaN   \n",
       "1          POTH TX 78147  493.0        WILSON  78147         NaN         NaN   \n",
       "2  HOUSTON TX 77076-2027  201.0        HARRIS  77076  7136445566         NaN   \n",
       "3      BARTLETT TX 76511   27.0          BELL  76511  2549852228         NaN   \n",
       "4      RINGLING OK 73456  999.0  OUT OF STATE  73456  5802765961         NaN   \n",
       "\n",
       "   N  \n",
       "0  N  \n",
       "1  N  \n",
       "2  N  \n",
       "3  N  \n",
       "4  N  "
      ]
     },
     "execution_count": 2,
     "metadata": {},
     "output_type": "execute_result"
    }
   ],
   "source": [
    "df = pd.read_csv(\"/Users/mahiradayal/computing/hw-8/licensing/licfile.csv\")\n",
    "df.head(5)"
   ]
  },
  {
   "cell_type": "markdown",
   "metadata": {},
   "source": [
    "## 2. That looks terrible, let's add column names.\n",
    "\n",
    "It apparently doesn't have headers! **Read the file in again, but setting your own column names**. Their [current data dictionary might not perfectly match](https://www.opendatanetwork.com/dataset/data.texas.gov/7358-krk7), but you can use it to understand what the columns are. For the dataset we're using, the order goes like this:\n",
    "\n",
    "* LICTYPE\n",
    "* LICNUMBER\n",
    "* BIZCOUNTY\n",
    "* BIZNAME\n",
    "* BIZLINE1\n",
    "* BIZLINE2\n",
    "* BIZCITYSTATE\n",
    "* BIZTELEPHONE\n",
    "* EXPIRATION\n",
    "* OWNER\n",
    "* MAILLINE1\n",
    "* MAILLINE2\n",
    "* MAILCITYSTATE\n",
    "* MAILCOUNTYCODE\n",
    "* MAILCOUNTY\n",
    "* MAILZIP\n",
    "* TELEPHONE\n",
    "* LICSUBTYPE\n",
    "* CEFLAG\n",
    "\n",
    "**Note:** You can rename the columns to things that make sense - \"expiration\" is a little more manageable than \"LICENSE EXPIRATION DATE (MMDDCCYY)\". I've named my License Type column LICTYPE, so if you haven't you'll have to change the rest of my sample code to match."
   ]
  },
  {
   "cell_type": "code",
   "execution_count": 3,
   "metadata": {},
   "outputs": [
    {
     "name": "stderr",
     "output_type": "stream",
     "text": [
      "/Users/mahiradayal/.pyenv/versions/3.8.2/lib/python3.8/site-packages/IPython/core/interactiveshell.py:3145: DtypeWarning: Columns (1,15,16) have mixed types.Specify dtype option on import or set low_memory=False.\n",
      "  has_raised = await self.run_ast_nodes(code_ast.body, cell_name,\n"
     ]
    }
   ],
   "source": [
    "col_names=[\"LICTYPE\", \"LICNUMBER\", \"BIZCOUNTY\", \"BIZNAME\", \"BIZLINE1\", \"BIZLINE2\", \"BIZCITYSTATE\", \"BIZTELEPHONE\", \"EXPIRATION\", \"OWNER\", \"MAILLINE1\", \"MAILLINE2\", \"MAILCITYSTATE\", \"MAILCOUNTYCODE\", \"MAILCOUNTY\", \"MAILZIP\", \"TELEPHONE\", \"LICSUBTYPE\", \"CEFLAG\"]\n",
    "df = pd.read_csv(\"/Users/mahiradayal/computing/hw-8/licensing/licfile.csv\", names=col_names)"
   ]
  },
  {
   "cell_type": "markdown",
   "metadata": {},
   "source": [
    "# 3. Force string columns to be strings\n",
    "\n",
    "The county code and expiration dates are being read in as numbers, which is going to cause some trouble later on. You can force a column to be a certain type (most usually strings) when reading it in with the following code:\n",
    "\n",
    "    df = pd.read_csv(\"your-filename.csv\", dtype={\"colname1\": str, \"colname2\": str})\n",
    "\n",
    "You don't need to do it for every column, just the ones you want to force!\n",
    "\n",
    "**Re-import the file, forcing the expiration date, license number, mailing address county code, mailing zip code and telephone to all be strings.**"
   ]
  },
  {
   "cell_type": "code",
   "execution_count": 4,
   "metadata": {},
   "outputs": [],
   "source": [
    "df = pd.read_csv(\"/Users/mahiradayal/computing/hw-8/licensing/licfile.csv\", names=col_names, dtype={\"EXPIRATION\": str, \"LICNUMBER\": str, \"MAILCOUNTYCODE\": str, \"MAILZIP\": str, \"TELEPHONE\": str})"
   ]
  },
  {
   "cell_type": "markdown",
   "metadata": {},
   "source": [
    "Check the data types of your columns to be sure! If you do it right they'll be `object` (not `str`, oddly)."
   ]
  },
  {
   "cell_type": "code",
   "execution_count": 5,
   "metadata": {},
   "outputs": [
    {
     "data": {
      "text/plain": [
       "LICTYPE            object\n",
       "LICNUMBER          object\n",
       "BIZCOUNTY          object\n",
       "BIZNAME            object\n",
       "BIZLINE1          float64\n",
       "BIZLINE2          float64\n",
       "BIZCITYSTATE      float64\n",
       "BIZTELEPHONE      float64\n",
       "EXPIRATION         object\n",
       "OWNER              object\n",
       "MAILLINE1          object\n",
       "MAILLINE2          object\n",
       "MAILCITYSTATE      object\n",
       "MAILCOUNTYCODE     object\n",
       "MAILCOUNTY         object\n",
       "MAILZIP            object\n",
       "TELEPHONE          object\n",
       "LICSUBTYPE         object\n",
       "CEFLAG             object\n",
       "dtype: object"
      ]
     },
     "execution_count": 5,
     "metadata": {},
     "output_type": "execute_result"
    }
   ],
   "source": [
    "df.dtypes"
   ]
  },
  {
   "cell_type": "markdown",
   "metadata": {},
   "source": [
    "## 4. Convert those expiration dates from MMDDYYYY to YYYY-MM-DD\n",
    "\n",
    "You can use list slicing with `.str` (we did `dt.per_name.str[:4]` for the home data stuff once), `pd.to_datetime`, or a hundred other methods."
   ]
  },
  {
   "cell_type": "code",
   "execution_count": 6,
   "metadata": {},
   "outputs": [],
   "source": [
    "df['EXPIRATION'] = pd.to_datetime(df.EXPIRATION, format= \"%d%m%Y\", errors=\"coerce\")"
   ]
  },
  {
   "cell_type": "markdown",
   "metadata": {},
   "source": [
    "Check the first five expirations to make sure they look right."
   ]
  },
  {
   "cell_type": "code",
   "execution_count": 7,
   "metadata": {},
   "outputs": [
    {
     "data": {
      "text/plain": [
       "0   2017-10-08\n",
       "1          NaT\n",
       "2          NaT\n",
       "3   2017-04-11\n",
       "4          NaT\n",
       "Name: EXPIRATION, dtype: datetime64[ns]"
      ]
     },
     "execution_count": 7,
     "metadata": {},
     "output_type": "execute_result"
    }
   ],
   "source": [
    "df.EXPIRATION.head(5)"
   ]
  },
  {
   "cell_type": "markdown",
   "metadata": {},
   "source": [
    "# PART TWO: LOOKING AT LICENSES"
   ]
  },
  {
   "cell_type": "markdown",
   "metadata": {},
   "source": [
    "## 5. What are the top 10 most common licenses?"
   ]
  },
  {
   "cell_type": "code",
   "execution_count": 8,
   "metadata": {},
   "outputs": [
    {
     "data": {
      "text/plain": [
       "LICTYPE                   LICTYPE                 \n",
       "Cosmetology Operator      Cosmetology Operator        151206\n",
       "Apprentice Electrician    Apprentice Electrician      110593\n",
       "Cosmetology Manicurist    Cosmetology Manicurist       49563\n",
       "Journeyman Electrician    Journeyman Electrician       38170\n",
       "A/C Technician            A/C Technician               27959\n",
       "Cosmetology Esthetician   Cosmetology Esthetician      23613\n",
       "Cosmetology Beauty Salon  Cosmetology Beauty Salon     23577\n",
       "Master Electrician        Master Electrician           16810\n",
       "A/C Contractor            A/C Contractor               16376\n",
       "Barber, Class A           Barber, Class A              16019\n",
       "Name: LICTYPE, dtype: int64"
      ]
     },
     "execution_count": 8,
     "metadata": {},
     "output_type": "execute_result"
    }
   ],
   "source": [
    "df.groupby('LICTYPE').LICTYPE.value_counts().sort_values(ascending=False).head(10)"
   ]
  },
  {
   "cell_type": "markdown",
   "metadata": {},
   "source": [
    "## 6. What are the top 10 least common?"
   ]
  },
  {
   "cell_type": "code",
   "execution_count": 9,
   "metadata": {},
   "outputs": [
    {
     "data": {
      "text/plain": [
       "LICTYPE                                          LICTYPE                                        \n",
       "Legal Service Contract Admin                     Legal Service Contract Admin                       1\n",
       "Cosmetology Wig Instructor                       Cosmetology Wig Instructor                         2\n",
       "Licensed Court Interpreter CE Provider           Licensed Court Interpreter CE Provider             2\n",
       "Mobile Cosmetology Manicure Specialty Saloon     Mobile Cosmetology Manicure Specialty Saloon       2\n",
       "Mobile Cosmetology Esthetician/Manicure Saloon   Mobile Cosmetology Esthetician/Manicure Saloon     2\n",
       "Booting CE Provider                              Booting CE Provider                                3\n",
       "Barber Hair Weaving Shop                         Barber Hair Weaving Shop                           4\n",
       "Barber Hair Braiding Shop                        Barber Hair Braiding Shop                          4\n",
       "Mobile Cosmetology Esthetician Specialty Saloon  Mobile Cosmetology Esthetician Specialty Saloon    5\n",
       "Elevator Responsible Party CE Provider           Elevator Responsible Party CE Provider             8\n",
       "Name: LICTYPE, dtype: int64"
      ]
     },
     "execution_count": 9,
     "metadata": {},
     "output_type": "execute_result"
    }
   ],
   "source": [
    "df.groupby('LICTYPE').LICTYPE.value_counts().sort_values().head(10)"
   ]
  },
  {
   "cell_type": "markdown",
   "metadata": {},
   "source": [
    "## 7. Try to select everyone who is any type of electrician.\n",
    "\n",
    "You're going to get an error about `\"cannot index with vector containing NA / NaN values\"`. Let's work our way in there."
   ]
  },
  {
   "cell_type": "code",
   "execution_count": 10,
   "metadata": {},
   "outputs": [
    {
     "data": {
      "text/html": [
       "<div>\n",
       "<style scoped>\n",
       "    .dataframe tbody tr th:only-of-type {\n",
       "        vertical-align: middle;\n",
       "    }\n",
       "\n",
       "    .dataframe tbody tr th {\n",
       "        vertical-align: top;\n",
       "    }\n",
       "\n",
       "    .dataframe thead th {\n",
       "        text-align: right;\n",
       "    }\n",
       "</style>\n",
       "<table border=\"1\" class=\"dataframe\">\n",
       "  <thead>\n",
       "    <tr style=\"text-align: right;\">\n",
       "      <th></th>\n",
       "      <th>LICTYPE</th>\n",
       "      <th>LICNUMBER</th>\n",
       "      <th>BIZCOUNTY</th>\n",
       "      <th>BIZNAME</th>\n",
       "      <th>BIZLINE1</th>\n",
       "      <th>BIZLINE2</th>\n",
       "      <th>BIZCITYSTATE</th>\n",
       "      <th>BIZTELEPHONE</th>\n",
       "      <th>EXPIRATION</th>\n",
       "      <th>OWNER</th>\n",
       "      <th>MAILLINE1</th>\n",
       "      <th>MAILLINE2</th>\n",
       "      <th>MAILCITYSTATE</th>\n",
       "      <th>MAILCOUNTYCODE</th>\n",
       "      <th>MAILCOUNTY</th>\n",
       "      <th>MAILZIP</th>\n",
       "      <th>TELEPHONE</th>\n",
       "      <th>LICSUBTYPE</th>\n",
       "      <th>CEFLAG</th>\n",
       "    </tr>\n",
       "  </thead>\n",
       "  <tbody>\n",
       "    <tr>\n",
       "      <th>47025</th>\n",
       "      <td>Apprentice Electrician</td>\n",
       "      <td>30244</td>\n",
       "      <td>ROBERTSON</td>\n",
       "      <td>BOLTON, MARION N</td>\n",
       "      <td>NaN</td>\n",
       "      <td>NaN</td>\n",
       "      <td>NaN</td>\n",
       "      <td>NaN</td>\n",
       "      <td>NaT</td>\n",
       "      <td>BOLTON, MARION N</td>\n",
       "      <td>2262 HARBOR BOLTON RD</td>\n",
       "      <td>NaN</td>\n",
       "      <td>FRANKLIN TX 77856-5367</td>\n",
       "      <td>0395</td>\n",
       "      <td>ROBERTSON</td>\n",
       "      <td>77856</td>\n",
       "      <td>9798284713</td>\n",
       "      <td>AE</td>\n",
       "      <td>N</td>\n",
       "    </tr>\n",
       "    <tr>\n",
       "      <th>47026</th>\n",
       "      <td>Apprentice Electrician</td>\n",
       "      <td>30798</td>\n",
       "      <td>BEXAR</td>\n",
       "      <td>GONZALEZ, FELIX G JR</td>\n",
       "      <td>NaN</td>\n",
       "      <td>NaN</td>\n",
       "      <td>NaN</td>\n",
       "      <td>NaN</td>\n",
       "      <td>NaT</td>\n",
       "      <td>GONZALEZ, FELIX G JR</td>\n",
       "      <td>8507 TIMBER BELT</td>\n",
       "      <td>NaN</td>\n",
       "      <td>SAN ANTONIO TX 78250-4478</td>\n",
       "      <td>0029</td>\n",
       "      <td>BEXAR</td>\n",
       "      <td>78250</td>\n",
       "      <td>2104887491</td>\n",
       "      <td>AE</td>\n",
       "      <td>N</td>\n",
       "    </tr>\n",
       "    <tr>\n",
       "      <th>47027</th>\n",
       "      <td>Apprentice Electrician</td>\n",
       "      <td>30802</td>\n",
       "      <td>HARRIS</td>\n",
       "      <td>HERNANDEZ, RUFINO</td>\n",
       "      <td>NaN</td>\n",
       "      <td>NaN</td>\n",
       "      <td>NaN</td>\n",
       "      <td>NaN</td>\n",
       "      <td>NaT</td>\n",
       "      <td>HERNANDEZ, RUFINO</td>\n",
       "      <td>1719 ROBINHOOD ST</td>\n",
       "      <td>NaN</td>\n",
       "      <td>PASADENA TX 77502-2218</td>\n",
       "      <td>0201</td>\n",
       "      <td>HARRIS</td>\n",
       "      <td>77502</td>\n",
       "      <td>7133824802</td>\n",
       "      <td>AE</td>\n",
       "      <td>N</td>\n",
       "    </tr>\n",
       "    <tr>\n",
       "      <th>47028</th>\n",
       "      <td>Apprentice Electrician</td>\n",
       "      <td>31875</td>\n",
       "      <td>TITUS</td>\n",
       "      <td>COPELAND, MARCUS A</td>\n",
       "      <td>NaN</td>\n",
       "      <td>NaN</td>\n",
       "      <td>NaN</td>\n",
       "      <td>NaN</td>\n",
       "      <td>NaT</td>\n",
       "      <td>COPELAND, MARCUS A</td>\n",
       "      <td>201 N MADISON AVE</td>\n",
       "      <td>NaN</td>\n",
       "      <td>MOUNT PLEASANT TX 75455-3944</td>\n",
       "      <td>0449</td>\n",
       "      <td>TITUS</td>\n",
       "      <td>75455</td>\n",
       "      <td>9035634950</td>\n",
       "      <td>AE</td>\n",
       "      <td>N</td>\n",
       "    </tr>\n",
       "    <tr>\n",
       "      <th>47029</th>\n",
       "      <td>Apprentice Electrician</td>\n",
       "      <td>31876</td>\n",
       "      <td>TITUS</td>\n",
       "      <td>ANGLIN, DAVID LEE</td>\n",
       "      <td>NaN</td>\n",
       "      <td>NaN</td>\n",
       "      <td>NaN</td>\n",
       "      <td>NaN</td>\n",
       "      <td>NaT</td>\n",
       "      <td>ANGLIN, DAVID LEE</td>\n",
       "      <td>8066 FM 1001</td>\n",
       "      <td>NaN</td>\n",
       "      <td>COOKVILLE TX 75558-3064</td>\n",
       "      <td>0449</td>\n",
       "      <td>TITUS</td>\n",
       "      <td>75558</td>\n",
       "      <td>9039462547</td>\n",
       "      <td>AE</td>\n",
       "      <td>N</td>\n",
       "    </tr>\n",
       "    <tr>\n",
       "      <th>...</th>\n",
       "      <td>...</td>\n",
       "      <td>...</td>\n",
       "      <td>...</td>\n",
       "      <td>...</td>\n",
       "      <td>...</td>\n",
       "      <td>...</td>\n",
       "      <td>...</td>\n",
       "      <td>...</td>\n",
       "      <td>...</td>\n",
       "      <td>...</td>\n",
       "      <td>...</td>\n",
       "      <td>...</td>\n",
       "      <td>...</td>\n",
       "      <td>...</td>\n",
       "      <td>...</td>\n",
       "      <td>...</td>\n",
       "      <td>...</td>\n",
       "      <td>...</td>\n",
       "      <td>...</td>\n",
       "    </tr>\n",
       "    <tr>\n",
       "      <th>569544</th>\n",
       "      <td>Apprentice Sign Electrician</td>\n",
       "      <td>393609</td>\n",
       "      <td>PARKER</td>\n",
       "      <td>ORTEGA, JUAN</td>\n",
       "      <td>NaN</td>\n",
       "      <td>NaN</td>\n",
       "      <td>NaN</td>\n",
       "      <td>NaN</td>\n",
       "      <td>2018-01-03</td>\n",
       "      <td>ORTEGA, JUAN</td>\n",
       "      <td>128 JUAN CT</td>\n",
       "      <td>NaN</td>\n",
       "      <td>HUDSON OAKS TX 76087-8337</td>\n",
       "      <td>0367</td>\n",
       "      <td>PARKER</td>\n",
       "      <td>76087</td>\n",
       "      <td>8173746117</td>\n",
       "      <td>SA</td>\n",
       "      <td>N</td>\n",
       "    </tr>\n",
       "    <tr>\n",
       "      <th>569545</th>\n",
       "      <td>Apprentice Sign Electrician</td>\n",
       "      <td>393610</td>\n",
       "      <td>OUT OF STATE</td>\n",
       "      <td>BARR, SYLVIA M</td>\n",
       "      <td>NaN</td>\n",
       "      <td>NaN</td>\n",
       "      <td>NaN</td>\n",
       "      <td>NaN</td>\n",
       "      <td>2018-01-03</td>\n",
       "      <td>BARR, SYLVIA M</td>\n",
       "      <td>1015 RIVERVIEW DR</td>\n",
       "      <td>NaN</td>\n",
       "      <td>FAIRMONT WV 26554-8309</td>\n",
       "      <td>0999</td>\n",
       "      <td>OUT OF STATE</td>\n",
       "      <td>26554</td>\n",
       "      <td>3047779007</td>\n",
       "      <td>SA</td>\n",
       "      <td>N</td>\n",
       "    </tr>\n",
       "    <tr>\n",
       "      <th>569546</th>\n",
       "      <td>Apprentice Sign Electrician</td>\n",
       "      <td>393611</td>\n",
       "      <td>OUT OF STATE</td>\n",
       "      <td>MALFAVON, SALVADOR H</td>\n",
       "      <td>NaN</td>\n",
       "      <td>NaN</td>\n",
       "      <td>NaN</td>\n",
       "      <td>NaN</td>\n",
       "      <td>2018-01-03</td>\n",
       "      <td>MALFAVON, SALVADOR H</td>\n",
       "      <td>1237 E CENTER ST</td>\n",
       "      <td>NaN</td>\n",
       "      <td>KINGSPORT TN 37660-4945</td>\n",
       "      <td>0999</td>\n",
       "      <td>OUT OF STATE</td>\n",
       "      <td>37660</td>\n",
       "      <td>4237656317</td>\n",
       "      <td>SA</td>\n",
       "      <td>N</td>\n",
       "    </tr>\n",
       "    <tr>\n",
       "      <th>569547</th>\n",
       "      <td>Apprentice Sign Electrician</td>\n",
       "      <td>393612</td>\n",
       "      <td>WICHITA</td>\n",
       "      <td>ARANDA, JOSE A SR</td>\n",
       "      <td>NaN</td>\n",
       "      <td>NaN</td>\n",
       "      <td>NaN</td>\n",
       "      <td>NaN</td>\n",
       "      <td>2018-01-03</td>\n",
       "      <td>ARANDA, JOSE A SR</td>\n",
       "      <td>1108 IRELAND ST</td>\n",
       "      <td>NaN</td>\n",
       "      <td>WICHITA FALLS TX 76301-7837</td>\n",
       "      <td>0485</td>\n",
       "      <td>WICHITA</td>\n",
       "      <td>76301</td>\n",
       "      <td>9408674318</td>\n",
       "      <td>SA</td>\n",
       "      <td>N</td>\n",
       "    </tr>\n",
       "    <tr>\n",
       "      <th>569548</th>\n",
       "      <td>Apprentice Sign Electrician</td>\n",
       "      <td>393613</td>\n",
       "      <td>ORANGE</td>\n",
       "      <td>ORTIZ, CARLOS M</td>\n",
       "      <td>NaN</td>\n",
       "      <td>NaN</td>\n",
       "      <td>NaN</td>\n",
       "      <td>NaN</td>\n",
       "      <td>2018-01-03</td>\n",
       "      <td>ORTIZ, CARLOS M</td>\n",
       "      <td>480 BLAND DR</td>\n",
       "      <td>NaN</td>\n",
       "      <td>BRIDGE CITY TX 77611-4614</td>\n",
       "      <td>0361</td>\n",
       "      <td>ORANGE</td>\n",
       "      <td>77611</td>\n",
       "      <td>4093133718</td>\n",
       "      <td>SA</td>\n",
       "      <td>N</td>\n",
       "    </tr>\n",
       "  </tbody>\n",
       "</table>\n",
       "<p>171838 rows × 19 columns</p>\n",
       "</div>"
      ],
      "text/plain": [
       "                            LICTYPE LICNUMBER     BIZCOUNTY  \\\n",
       "47025        Apprentice Electrician     30244     ROBERTSON   \n",
       "47026        Apprentice Electrician     30798         BEXAR   \n",
       "47027        Apprentice Electrician     30802        HARRIS   \n",
       "47028        Apprentice Electrician     31875         TITUS   \n",
       "47029        Apprentice Electrician     31876         TITUS   \n",
       "...                             ...       ...           ...   \n",
       "569544  Apprentice Sign Electrician    393609        PARKER   \n",
       "569545  Apprentice Sign Electrician    393610  OUT OF STATE   \n",
       "569546  Apprentice Sign Electrician    393611  OUT OF STATE   \n",
       "569547  Apprentice Sign Electrician    393612       WICHITA   \n",
       "569548  Apprentice Sign Electrician    393613        ORANGE   \n",
       "\n",
       "                     BIZNAME  BIZLINE1  BIZLINE2  BIZCITYSTATE  BIZTELEPHONE  \\\n",
       "47025       BOLTON, MARION N       NaN       NaN           NaN           NaN   \n",
       "47026   GONZALEZ, FELIX G JR       NaN       NaN           NaN           NaN   \n",
       "47027      HERNANDEZ, RUFINO       NaN       NaN           NaN           NaN   \n",
       "47028     COPELAND, MARCUS A       NaN       NaN           NaN           NaN   \n",
       "47029      ANGLIN, DAVID LEE       NaN       NaN           NaN           NaN   \n",
       "...                      ...       ...       ...           ...           ...   \n",
       "569544          ORTEGA, JUAN       NaN       NaN           NaN           NaN   \n",
       "569545        BARR, SYLVIA M       NaN       NaN           NaN           NaN   \n",
       "569546  MALFAVON, SALVADOR H       NaN       NaN           NaN           NaN   \n",
       "569547     ARANDA, JOSE A SR       NaN       NaN           NaN           NaN   \n",
       "569548       ORTIZ, CARLOS M       NaN       NaN           NaN           NaN   \n",
       "\n",
       "       EXPIRATION                 OWNER              MAILLINE1 MAILLINE2  \\\n",
       "47025         NaT      BOLTON, MARION N  2262 HARBOR BOLTON RD       NaN   \n",
       "47026         NaT  GONZALEZ, FELIX G JR       8507 TIMBER BELT       NaN   \n",
       "47027         NaT     HERNANDEZ, RUFINO      1719 ROBINHOOD ST       NaN   \n",
       "47028         NaT    COPELAND, MARCUS A      201 N MADISON AVE       NaN   \n",
       "47029         NaT     ANGLIN, DAVID LEE           8066 FM 1001       NaN   \n",
       "...           ...                   ...                    ...       ...   \n",
       "569544 2018-01-03          ORTEGA, JUAN            128 JUAN CT       NaN   \n",
       "569545 2018-01-03        BARR, SYLVIA M      1015 RIVERVIEW DR       NaN   \n",
       "569546 2018-01-03  MALFAVON, SALVADOR H       1237 E CENTER ST       NaN   \n",
       "569547 2018-01-03     ARANDA, JOSE A SR        1108 IRELAND ST       NaN   \n",
       "569548 2018-01-03       ORTIZ, CARLOS M           480 BLAND DR       NaN   \n",
       "\n",
       "                       MAILCITYSTATE MAILCOUNTYCODE    MAILCOUNTY MAILZIP  \\\n",
       "47025         FRANKLIN TX 77856-5367           0395     ROBERTSON   77856   \n",
       "47026      SAN ANTONIO TX 78250-4478           0029         BEXAR   78250   \n",
       "47027         PASADENA TX 77502-2218           0201        HARRIS   77502   \n",
       "47028   MOUNT PLEASANT TX 75455-3944           0449         TITUS   75455   \n",
       "47029        COOKVILLE TX 75558-3064           0449         TITUS   75558   \n",
       "...                              ...            ...           ...     ...   \n",
       "569544     HUDSON OAKS TX 76087-8337           0367        PARKER   76087   \n",
       "569545        FAIRMONT WV 26554-8309           0999  OUT OF STATE   26554   \n",
       "569546       KINGSPORT TN 37660-4945           0999  OUT OF STATE   37660   \n",
       "569547   WICHITA FALLS TX 76301-7837           0485       WICHITA   76301   \n",
       "569548     BRIDGE CITY TX 77611-4614           0361        ORANGE   77611   \n",
       "\n",
       "         TELEPHONE LICSUBTYPE CEFLAG  \n",
       "47025   9798284713         AE      N  \n",
       "47026   2104887491         AE      N  \n",
       "47027   7133824802         AE      N  \n",
       "47028   9035634950         AE      N  \n",
       "47029   9039462547         AE      N  \n",
       "...            ...        ...    ...  \n",
       "569544  8173746117         SA      N  \n",
       "569545  3047779007         SA      N  \n",
       "569546  4237656317         SA      N  \n",
       "569547  9408674318         SA      N  \n",
       "569548  4093133718         SA      N  \n",
       "\n",
       "[171838 rows x 19 columns]"
      ]
     },
     "execution_count": 10,
     "metadata": {},
     "output_type": "execute_result"
    }
   ],
   "source": [
    "df[df['LICTYPE'].str.contains(\"Electrician\", na=False)]"
   ]
  },
  {
   "cell_type": "markdown",
   "metadata": {},
   "source": [
    "## 8. How many of the rows of LICTYPE are NaN?"
   ]
  },
  {
   "cell_type": "code",
   "execution_count": 11,
   "metadata": {},
   "outputs": [
    {
     "data": {
      "text/plain": [
       "7086"
      ]
     },
     "execution_count": 11,
     "metadata": {},
     "output_type": "execute_result"
    }
   ],
   "source": [
    "df.LICTYPE.isnull().sum(axis = 0)"
   ]
  },
  {
   "cell_type": "code",
   "execution_count": 12,
   "metadata": {},
   "outputs": [
    {
     "data": {
      "text/plain": [
       "597816"
      ]
     },
     "execution_count": 12,
     "metadata": {},
     "output_type": "execute_result"
    }
   ],
   "source": [
    "#Just checking\n",
    "len(df.LICTYPE)"
   ]
  },
  {
   "cell_type": "markdown",
   "metadata": {},
   "source": [
    "Over 7000 licenses don't have types! As a result, when we look for license types with electricians - aka do `df['LICTYPE'].str.contains(\"Electrician\")` - we get three results:\n",
    "\n",
    "* `True` means `LICTYPE` exists and contains `\"Electrician\"`\n",
    "* `False` means `LICTYPE` exists and does not contain `\"Electrician\"`\n",
    "* `NaN` means `LICTYPE` does not exist for that row"
   ]
  },
  {
   "cell_type": "markdown",
   "metadata": {},
   "source": [
    "## 9. Actually getting everyone who is an electrician"
   ]
  },
  {
   "cell_type": "code",
   "execution_count": 13,
   "metadata": {},
   "outputs": [
    {
     "data": {
      "text/html": [
       "<div>\n",
       "<style scoped>\n",
       "    .dataframe tbody tr th:only-of-type {\n",
       "        vertical-align: middle;\n",
       "    }\n",
       "\n",
       "    .dataframe tbody tr th {\n",
       "        vertical-align: top;\n",
       "    }\n",
       "\n",
       "    .dataframe thead th {\n",
       "        text-align: right;\n",
       "    }\n",
       "</style>\n",
       "<table border=\"1\" class=\"dataframe\">\n",
       "  <thead>\n",
       "    <tr style=\"text-align: right;\">\n",
       "      <th></th>\n",
       "      <th>LICTYPE</th>\n",
       "      <th>LICNUMBER</th>\n",
       "      <th>BIZCOUNTY</th>\n",
       "      <th>BIZNAME</th>\n",
       "      <th>BIZLINE1</th>\n",
       "      <th>BIZLINE2</th>\n",
       "      <th>BIZCITYSTATE</th>\n",
       "      <th>BIZTELEPHONE</th>\n",
       "      <th>EXPIRATION</th>\n",
       "      <th>OWNER</th>\n",
       "      <th>MAILLINE1</th>\n",
       "      <th>MAILLINE2</th>\n",
       "      <th>MAILCITYSTATE</th>\n",
       "      <th>MAILCOUNTYCODE</th>\n",
       "      <th>MAILCOUNTY</th>\n",
       "      <th>MAILZIP</th>\n",
       "      <th>TELEPHONE</th>\n",
       "      <th>LICSUBTYPE</th>\n",
       "      <th>CEFLAG</th>\n",
       "    </tr>\n",
       "  </thead>\n",
       "  <tbody>\n",
       "    <tr>\n",
       "      <th>47025</th>\n",
       "      <td>Apprentice Electrician</td>\n",
       "      <td>30244</td>\n",
       "      <td>ROBERTSON</td>\n",
       "      <td>BOLTON, MARION N</td>\n",
       "      <td>NaN</td>\n",
       "      <td>NaN</td>\n",
       "      <td>NaN</td>\n",
       "      <td>NaN</td>\n",
       "      <td>NaT</td>\n",
       "      <td>BOLTON, MARION N</td>\n",
       "      <td>2262 HARBOR BOLTON RD</td>\n",
       "      <td>NaN</td>\n",
       "      <td>FRANKLIN TX 77856-5367</td>\n",
       "      <td>0395</td>\n",
       "      <td>ROBERTSON</td>\n",
       "      <td>77856</td>\n",
       "      <td>9798284713</td>\n",
       "      <td>AE</td>\n",
       "      <td>N</td>\n",
       "    </tr>\n",
       "    <tr>\n",
       "      <th>47026</th>\n",
       "      <td>Apprentice Electrician</td>\n",
       "      <td>30798</td>\n",
       "      <td>BEXAR</td>\n",
       "      <td>GONZALEZ, FELIX G JR</td>\n",
       "      <td>NaN</td>\n",
       "      <td>NaN</td>\n",
       "      <td>NaN</td>\n",
       "      <td>NaN</td>\n",
       "      <td>NaT</td>\n",
       "      <td>GONZALEZ, FELIX G JR</td>\n",
       "      <td>8507 TIMBER BELT</td>\n",
       "      <td>NaN</td>\n",
       "      <td>SAN ANTONIO TX 78250-4478</td>\n",
       "      <td>0029</td>\n",
       "      <td>BEXAR</td>\n",
       "      <td>78250</td>\n",
       "      <td>2104887491</td>\n",
       "      <td>AE</td>\n",
       "      <td>N</td>\n",
       "    </tr>\n",
       "    <tr>\n",
       "      <th>47027</th>\n",
       "      <td>Apprentice Electrician</td>\n",
       "      <td>30802</td>\n",
       "      <td>HARRIS</td>\n",
       "      <td>HERNANDEZ, RUFINO</td>\n",
       "      <td>NaN</td>\n",
       "      <td>NaN</td>\n",
       "      <td>NaN</td>\n",
       "      <td>NaN</td>\n",
       "      <td>NaT</td>\n",
       "      <td>HERNANDEZ, RUFINO</td>\n",
       "      <td>1719 ROBINHOOD ST</td>\n",
       "      <td>NaN</td>\n",
       "      <td>PASADENA TX 77502-2218</td>\n",
       "      <td>0201</td>\n",
       "      <td>HARRIS</td>\n",
       "      <td>77502</td>\n",
       "      <td>7133824802</td>\n",
       "      <td>AE</td>\n",
       "      <td>N</td>\n",
       "    </tr>\n",
       "    <tr>\n",
       "      <th>47028</th>\n",
       "      <td>Apprentice Electrician</td>\n",
       "      <td>31875</td>\n",
       "      <td>TITUS</td>\n",
       "      <td>COPELAND, MARCUS A</td>\n",
       "      <td>NaN</td>\n",
       "      <td>NaN</td>\n",
       "      <td>NaN</td>\n",
       "      <td>NaN</td>\n",
       "      <td>NaT</td>\n",
       "      <td>COPELAND, MARCUS A</td>\n",
       "      <td>201 N MADISON AVE</td>\n",
       "      <td>NaN</td>\n",
       "      <td>MOUNT PLEASANT TX 75455-3944</td>\n",
       "      <td>0449</td>\n",
       "      <td>TITUS</td>\n",
       "      <td>75455</td>\n",
       "      <td>9035634950</td>\n",
       "      <td>AE</td>\n",
       "      <td>N</td>\n",
       "    </tr>\n",
       "    <tr>\n",
       "      <th>47029</th>\n",
       "      <td>Apprentice Electrician</td>\n",
       "      <td>31876</td>\n",
       "      <td>TITUS</td>\n",
       "      <td>ANGLIN, DAVID LEE</td>\n",
       "      <td>NaN</td>\n",
       "      <td>NaN</td>\n",
       "      <td>NaN</td>\n",
       "      <td>NaN</td>\n",
       "      <td>NaT</td>\n",
       "      <td>ANGLIN, DAVID LEE</td>\n",
       "      <td>8066 FM 1001</td>\n",
       "      <td>NaN</td>\n",
       "      <td>COOKVILLE TX 75558-3064</td>\n",
       "      <td>0449</td>\n",
       "      <td>TITUS</td>\n",
       "      <td>75558</td>\n",
       "      <td>9039462547</td>\n",
       "      <td>AE</td>\n",
       "      <td>N</td>\n",
       "    </tr>\n",
       "  </tbody>\n",
       "</table>\n",
       "</div>"
      ],
      "text/plain": [
       "                      LICTYPE LICNUMBER  BIZCOUNTY               BIZNAME  \\\n",
       "47025  Apprentice Electrician     30244  ROBERTSON      BOLTON, MARION N   \n",
       "47026  Apprentice Electrician     30798      BEXAR  GONZALEZ, FELIX G JR   \n",
       "47027  Apprentice Electrician     30802     HARRIS     HERNANDEZ, RUFINO   \n",
       "47028  Apprentice Electrician     31875      TITUS    COPELAND, MARCUS A   \n",
       "47029  Apprentice Electrician     31876      TITUS     ANGLIN, DAVID LEE   \n",
       "\n",
       "       BIZLINE1  BIZLINE2  BIZCITYSTATE  BIZTELEPHONE EXPIRATION  \\\n",
       "47025       NaN       NaN           NaN           NaN        NaT   \n",
       "47026       NaN       NaN           NaN           NaN        NaT   \n",
       "47027       NaN       NaN           NaN           NaN        NaT   \n",
       "47028       NaN       NaN           NaN           NaN        NaT   \n",
       "47029       NaN       NaN           NaN           NaN        NaT   \n",
       "\n",
       "                      OWNER              MAILLINE1 MAILLINE2  \\\n",
       "47025      BOLTON, MARION N  2262 HARBOR BOLTON RD       NaN   \n",
       "47026  GONZALEZ, FELIX G JR       8507 TIMBER BELT       NaN   \n",
       "47027     HERNANDEZ, RUFINO      1719 ROBINHOOD ST       NaN   \n",
       "47028    COPELAND, MARCUS A      201 N MADISON AVE       NaN   \n",
       "47029     ANGLIN, DAVID LEE           8066 FM 1001       NaN   \n",
       "\n",
       "                      MAILCITYSTATE MAILCOUNTYCODE MAILCOUNTY MAILZIP  \\\n",
       "47025        FRANKLIN TX 77856-5367           0395  ROBERTSON   77856   \n",
       "47026     SAN ANTONIO TX 78250-4478           0029      BEXAR   78250   \n",
       "47027        PASADENA TX 77502-2218           0201     HARRIS   77502   \n",
       "47028  MOUNT PLEASANT TX 75455-3944           0449      TITUS   75455   \n",
       "47029       COOKVILLE TX 75558-3064           0449      TITUS   75558   \n",
       "\n",
       "        TELEPHONE LICSUBTYPE CEFLAG  \n",
       "47025  9798284713         AE      N  \n",
       "47026  2104887491         AE      N  \n",
       "47027  7133824802         AE      N  \n",
       "47028  9035634950         AE      N  \n",
       "47029  9039462547         AE      N  "
      ]
     },
     "execution_count": 13,
     "metadata": {},
     "output_type": "execute_result"
    }
   ],
   "source": [
    "electrician = df[df['LICTYPE'].str.contains(\"Electrician\").eq(True)]\n",
    "electrician.head()"
   ]
  },
  {
   "cell_type": "markdown",
   "metadata": {},
   "source": [
    "This doesn't work when trying to select electricians, though, as NaN is a no-go for a filter. We *could* filter out everywhere the LICTYPE is null, but we could also cheat a little and say \"replace all of the `NaN` values with `False` values.\"\n",
    "\n",
    "`.fillna(False)` will take every `NaN` and replace it with `False`. "
   ]
  },
  {
   "cell_type": "code",
   "execution_count": 14,
   "metadata": {},
   "outputs": [],
   "source": [
    "df['LICTYPE'] = df.LICTYPE.fillna(False)"
   ]
  },
  {
   "cell_type": "markdown",
   "metadata": {},
   "source": [
    "## 10. What's the most popular kind of electrician?"
   ]
  },
  {
   "cell_type": "code",
   "execution_count": 15,
   "metadata": {},
   "outputs": [
    {
     "data": {
      "text/plain": [
       "LICTYPE                 LICTYPE               \n",
       "Apprentice Electrician  Apprentice Electrician    110593\n",
       "Name: LICTYPE, dtype: int64"
      ]
     },
     "execution_count": 15,
     "metadata": {},
     "output_type": "execute_result"
    }
   ],
   "source": [
    "electrician.groupby('LICTYPE').LICTYPE.value_counts().sort_values(ascending=False).head(1)"
   ]
  },
  {
   "cell_type": "markdown",
   "metadata": {},
   "source": [
    "## 11. Graph it, with the largest bar on top."
   ]
  },
  {
   "cell_type": "code",
   "execution_count": 16,
   "metadata": {},
   "outputs": [
    {
     "data": {
      "text/plain": [
       "<AxesSubplot:ylabel='LICTYPE,LICTYPE'>"
      ]
     },
     "execution_count": 16,
     "metadata": {},
     "output_type": "execute_result"
    },
    {
     "data": {
      "image/png": "[encoded data removed]",
      "text/plain": [
       "<Figure size 432x288 with 1 Axes>"
      ]
     },
     "metadata": {
      "needs_background": "light"
     },
     "output_type": "display_data"
    }
   ],
   "source": [
    "electrician.groupby('LICTYPE').LICTYPE.value_counts().sort_values().plot(kind='barh')"
   ]
  },
  {
   "cell_type": "markdown",
   "metadata": {},
   "source": [
    "## 12. How many sign electricians are there?\n",
    "\n",
    "There are a few ways to do this one."
   ]
  },
  {
   "cell_type": "code",
   "execution_count": 17,
   "metadata": {},
   "outputs": [
    {
     "data": {
      "text/plain": [
       "4927"
      ]
     },
     "execution_count": 17,
     "metadata": {},
     "output_type": "execute_result"
    }
   ],
   "source": [
    "electrician[electrician['LICTYPE'].str.contains(\"Sign\").eq(True)].LICTYPE.count()"
   ]
  },
  {
   "cell_type": "markdown",
   "metadata": {},
   "source": [
    "# PART THREE: LOOKING AT LAST NAMES"
   ]
  },
  {
   "cell_type": "markdown",
   "metadata": {},
   "source": [
    "## 13. Extract every owner's last name\n",
    "\n",
    "You want everything before the comma. We've done this before (in a few different ways!).\n",
    "\n",
    "* **Hint:** If you get an error about missing or `NaN` data, you might use `.fillna('')` to replace every empty owner name with an empty string. This might not happen to you, though, depending on how you do it!\n",
    "\n",
    "* **Hint:** You probably want to do `expand=False` on your extraction to make sure it comes out as a series instead of a dataframe."
   ]
  },
  {
   "cell_type": "code",
   "execution_count": 18,
   "metadata": {},
   "outputs": [],
   "source": [
    "df['OWNER'] = df.OWNER.fillna('')"
   ]
  },
  {
   "cell_type": "code",
   "execution_count": 19,
   "metadata": {},
   "outputs": [
    {
     "data": {
      "text/plain": [
       "0        RISINGER, JIM MARVIN\n",
       "1         WILLIAMS, JON ANDRE\n",
       "2       GUEVARA, JUAN ANTONIO\n",
       "3    BOWERS, JAMES BRISCOE II\n",
       "4         DEMSKY, JOHN EDWARD\n",
       "Name: OWNER, dtype: object"
      ]
     },
     "execution_count": 19,
     "metadata": {},
     "output_type": "execute_result"
    }
   ],
   "source": [
    "df.OWNER.head(5)"
   ]
  },
  {
   "cell_type": "code",
   "execution_count": 20,
   "metadata": {},
   "outputs": [],
   "source": [
    "df['LASTNAME'] = df.OWNER.dropna().str.split(',').str[0]"
   ]
  },
  {
   "cell_type": "markdown",
   "metadata": {},
   "source": [
    "## 14. Save the last name into a new column\n",
    "\n",
    "Then check to make sure it exists, and you successfully saved it into the dataframe."
   ]
  },
  {
   "cell_type": "code",
   "execution_count": 21,
   "metadata": {},
   "outputs": [],
   "source": [
    "df['LASTNAME'] = df.OWNER.dropna().str.split(',').str[0]"
   ]
  },
  {
   "cell_type": "code",
   "execution_count": 22,
   "metadata": {},
   "outputs": [
    {
     "data": {
      "text/html": [
       "<div>\n",
       "<style scoped>\n",
       "    .dataframe tbody tr th:only-of-type {\n",
       "        vertical-align: middle;\n",
       "    }\n",
       "\n",
       "    .dataframe tbody tr th {\n",
       "        vertical-align: top;\n",
       "    }\n",
       "\n",
       "    .dataframe thead th {\n",
       "        text-align: right;\n",
       "    }\n",
       "</style>\n",
       "<table border=\"1\" class=\"dataframe\">\n",
       "  <thead>\n",
       "    <tr style=\"text-align: right;\">\n",
       "      <th></th>\n",
       "      <th>LICTYPE</th>\n",
       "      <th>LICNUMBER</th>\n",
       "      <th>BIZCOUNTY</th>\n",
       "      <th>BIZNAME</th>\n",
       "      <th>BIZLINE1</th>\n",
       "      <th>BIZLINE2</th>\n",
       "      <th>BIZCITYSTATE</th>\n",
       "      <th>BIZTELEPHONE</th>\n",
       "      <th>EXPIRATION</th>\n",
       "      <th>OWNER</th>\n",
       "      <th>MAILLINE1</th>\n",
       "      <th>MAILLINE2</th>\n",
       "      <th>MAILCITYSTATE</th>\n",
       "      <th>MAILCOUNTYCODE</th>\n",
       "      <th>MAILCOUNTY</th>\n",
       "      <th>MAILZIP</th>\n",
       "      <th>TELEPHONE</th>\n",
       "      <th>LICSUBTYPE</th>\n",
       "      <th>CEFLAG</th>\n",
       "      <th>LASTNAME</th>\n",
       "    </tr>\n",
       "  </thead>\n",
       "  <tbody>\n",
       "    <tr>\n",
       "      <th>0</th>\n",
       "      <td>Associate Auctioneer</td>\n",
       "      <td>7326</td>\n",
       "      <td>ANGELINA</td>\n",
       "      <td>RISINGER, JIM MARVIN</td>\n",
       "      <td>NaN</td>\n",
       "      <td>NaN</td>\n",
       "      <td>NaN</td>\n",
       "      <td>NaN</td>\n",
       "      <td>2017-10-08</td>\n",
       "      <td>RISINGER, JIM MARVIN</td>\n",
       "      <td>7668 S US HWY 59</td>\n",
       "      <td>NaN</td>\n",
       "      <td>NACOGDOCHES TX 75964</td>\n",
       "      <td>0347</td>\n",
       "      <td>NACOGDOCHES</td>\n",
       "      <td>75964</td>\n",
       "      <td>9363665745</td>\n",
       "      <td>NaN</td>\n",
       "      <td>N</td>\n",
       "      <td>RISINGER</td>\n",
       "    </tr>\n",
       "    <tr>\n",
       "      <th>1</th>\n",
       "      <td>Associate Auctioneer</td>\n",
       "      <td>7962</td>\n",
       "      <td>UPSHUR</td>\n",
       "      <td>WILLIAMS, JON ANDRE</td>\n",
       "      <td>NaN</td>\n",
       "      <td>NaN</td>\n",
       "      <td>NaN</td>\n",
       "      <td>NaN</td>\n",
       "      <td>NaT</td>\n",
       "      <td>WILLIAMS, JON ANDRE</td>\n",
       "      <td>228 FM 1252</td>\n",
       "      <td>NaN</td>\n",
       "      <td>KILGORE TX 75662</td>\n",
       "      <td>0183</td>\n",
       "      <td>GREGG</td>\n",
       "      <td>75662</td>\n",
       "      <td>9039187899</td>\n",
       "      <td>NaN</td>\n",
       "      <td>N</td>\n",
       "      <td>WILLIAMS</td>\n",
       "    </tr>\n",
       "    <tr>\n",
       "      <th>2</th>\n",
       "      <td>Associate Auctioneer</td>\n",
       "      <td>8406</td>\n",
       "      <td>WILSON</td>\n",
       "      <td>GUEVARA, JUAN ANTONIO</td>\n",
       "      <td>NaN</td>\n",
       "      <td>NaN</td>\n",
       "      <td>NaN</td>\n",
       "      <td>NaN</td>\n",
       "      <td>NaT</td>\n",
       "      <td>GUEVARA, JUAN ANTONIO</td>\n",
       "      <td>6909 HWY 181</td>\n",
       "      <td>NaN</td>\n",
       "      <td>POTH TX 78147</td>\n",
       "      <td>0493</td>\n",
       "      <td>WILSON</td>\n",
       "      <td>78147</td>\n",
       "      <td>NaN</td>\n",
       "      <td>NaN</td>\n",
       "      <td>N</td>\n",
       "      <td>GUEVARA</td>\n",
       "    </tr>\n",
       "    <tr>\n",
       "      <th>3</th>\n",
       "      <td>Associate Auctioneer</td>\n",
       "      <td>10543</td>\n",
       "      <td>HARRIS</td>\n",
       "      <td>BOWERS, JAMES BRISCOE II</td>\n",
       "      <td>NaN</td>\n",
       "      <td>NaN</td>\n",
       "      <td>NaN</td>\n",
       "      <td>NaN</td>\n",
       "      <td>2017-04-11</td>\n",
       "      <td>BOWERS, JAMES BRISCOE II</td>\n",
       "      <td>6767 NORTH FWY</td>\n",
       "      <td>NaN</td>\n",
       "      <td>HOUSTON TX 77076-2027</td>\n",
       "      <td>0201</td>\n",
       "      <td>HARRIS</td>\n",
       "      <td>77076</td>\n",
       "      <td>7136445566</td>\n",
       "      <td>NaN</td>\n",
       "      <td>N</td>\n",
       "      <td>BOWERS</td>\n",
       "    </tr>\n",
       "    <tr>\n",
       "      <th>4</th>\n",
       "      <td>Associate Auctioneer</td>\n",
       "      <td>10642</td>\n",
       "      <td>BELL</td>\n",
       "      <td>DEMSKY, JOHN EDWARD</td>\n",
       "      <td>NaN</td>\n",
       "      <td>NaN</td>\n",
       "      <td>NaN</td>\n",
       "      <td>NaN</td>\n",
       "      <td>NaT</td>\n",
       "      <td>DEMSKY, JOHN EDWARD</td>\n",
       "      <td>130 E CLARK ST</td>\n",
       "      <td>NaN</td>\n",
       "      <td>BARTLETT TX 76511</td>\n",
       "      <td>0027</td>\n",
       "      <td>BELL</td>\n",
       "      <td>76511</td>\n",
       "      <td>2549852228</td>\n",
       "      <td>NaN</td>\n",
       "      <td>N</td>\n",
       "      <td>DEMSKY</td>\n",
       "    </tr>\n",
       "  </tbody>\n",
       "</table>\n",
       "</div>"
      ],
      "text/plain": [
       "                LICTYPE LICNUMBER BIZCOUNTY                   BIZNAME  \\\n",
       "0  Associate Auctioneer      7326  ANGELINA      RISINGER, JIM MARVIN   \n",
       "1  Associate Auctioneer      7962    UPSHUR       WILLIAMS, JON ANDRE   \n",
       "2  Associate Auctioneer      8406    WILSON     GUEVARA, JUAN ANTONIO   \n",
       "3  Associate Auctioneer     10543    HARRIS  BOWERS, JAMES BRISCOE II   \n",
       "4  Associate Auctioneer     10642      BELL       DEMSKY, JOHN EDWARD   \n",
       "\n",
       "   BIZLINE1  BIZLINE2  BIZCITYSTATE  BIZTELEPHONE EXPIRATION  \\\n",
       "0       NaN       NaN           NaN           NaN 2017-10-08   \n",
       "1       NaN       NaN           NaN           NaN        NaT   \n",
       "2       NaN       NaN           NaN           NaN        NaT   \n",
       "3       NaN       NaN           NaN           NaN 2017-04-11   \n",
       "4       NaN       NaN           NaN           NaN        NaT   \n",
       "\n",
       "                      OWNER         MAILLINE1 MAILLINE2  \\\n",
       "0      RISINGER, JIM MARVIN  7668 S US HWY 59       NaN   \n",
       "1       WILLIAMS, JON ANDRE       228 FM 1252       NaN   \n",
       "2     GUEVARA, JUAN ANTONIO      6909 HWY 181       NaN   \n",
       "3  BOWERS, JAMES BRISCOE II    6767 NORTH FWY       NaN   \n",
       "4       DEMSKY, JOHN EDWARD    130 E CLARK ST       NaN   \n",
       "\n",
       "           MAILCITYSTATE MAILCOUNTYCODE   MAILCOUNTY MAILZIP   TELEPHONE  \\\n",
       "0   NACOGDOCHES TX 75964           0347  NACOGDOCHES   75964  9363665745   \n",
       "1       KILGORE TX 75662           0183        GREGG   75662  9039187899   \n",
       "2          POTH TX 78147           0493       WILSON   78147         NaN   \n",
       "3  HOUSTON TX 77076-2027           0201       HARRIS   77076  7136445566   \n",
       "4      BARTLETT TX 76511           0027         BELL   76511  2549852228   \n",
       "\n",
       "  LICSUBTYPE CEFLAG  LASTNAME  \n",
       "0        NaN      N  RISINGER  \n",
       "1        NaN      N  WILLIAMS  \n",
       "2        NaN      N   GUEVARA  \n",
       "3        NaN      N    BOWERS  \n",
       "4        NaN      N    DEMSKY  "
      ]
     },
     "execution_count": 22,
     "metadata": {},
     "output_type": "execute_result"
    }
   ],
   "source": [
    "df.head(5)"
   ]
  },
  {
   "cell_type": "markdown",
   "metadata": {},
   "source": [
    "# 15. What are the ten most popular last names?"
   ]
  },
  {
   "cell_type": "code",
   "execution_count": 23,
   "metadata": {},
   "outputs": [
    {
     "data": {
      "text/plain": [
       "LASTNAME   LASTNAME \n",
       "NGUYEN     NGUYEN       22286\n",
       "TRAN       TRAN          8137\n",
       "LE         LE            5606\n",
       "GARCIA     GARCIA        5574\n",
       "MARTINEZ   MARTINEZ      4701\n",
       "RODRIGUEZ  RODRIGUEZ     4626\n",
       "HERNANDEZ  HERNANDEZ     4390\n",
       "PHAM       PHAM          3997\n",
       "GONZALEZ   GONZALEZ      3634\n",
       "SMITH      SMITH         3208\n",
       "Name: LASTNAME, dtype: int64"
      ]
     },
     "execution_count": 23,
     "metadata": {},
     "output_type": "execute_result"
    }
   ],
   "source": [
    "df.groupby('LASTNAME').LASTNAME.value_counts().sort_values(ascending=False).head(10)"
   ]
  },
  {
   "cell_type": "markdown",
   "metadata": {},
   "source": [
    "## 16. What are the most popular licenses for people with the last name Nguyen? Tran? Le?\n",
    "\n",
    "Those are the top 3 last names in Vietnam."
   ]
  },
  {
   "cell_type": "code",
   "execution_count": 24,
   "metadata": {},
   "outputs": [
    {
     "data": {
      "text/plain": [
       "LICTYPE                  LICTYPE                \n",
       "Cosmetology Manicurist   Cosmetology Manicurist     12856\n",
       "Cosmetology Operator     Cosmetology Operator        4039\n",
       "Cosmetology Esthetician  Cosmetology Esthetician     2881\n",
       "Cosmetologist            Cosmetologist               1876\n",
       "Apprentice Electrician   Apprentice Electrician       195\n",
       "Name: LICTYPE, dtype: int64"
      ]
     },
     "execution_count": 24,
     "metadata": {},
     "output_type": "execute_result"
    }
   ],
   "source": [
    "df[df.LASTNAME == 'NGUYEN'].groupby('LICTYPE').LICTYPE.value_counts().sort_values(ascending=False).head(5)"
   ]
  },
  {
   "cell_type": "code",
   "execution_count": 25,
   "metadata": {},
   "outputs": [
    {
     "data": {
      "text/plain": [
       "LICTYPE                  LICTYPE                \n",
       "Cosmetology Manicurist   Cosmetology Manicurist     4675\n",
       "Cosmetology Operator     Cosmetology Operator       1475\n",
       "Cosmetology Esthetician  Cosmetology Esthetician    1032\n",
       "Cosmetologist            Cosmetologist               712\n",
       "Apprentice Electrician   Apprentice Electrician       95\n",
       "Name: LICTYPE, dtype: int64"
      ]
     },
     "execution_count": 25,
     "metadata": {},
     "output_type": "execute_result"
    }
   ],
   "source": [
    "df[df.LASTNAME == 'TRAN'].groupby('LICTYPE').LICTYPE.value_counts().sort_values(ascending=False).head(5)"
   ]
  },
  {
   "cell_type": "code",
   "execution_count": 26,
   "metadata": {},
   "outputs": [
    {
     "data": {
      "text/plain": [
       "LICTYPE                  LICTYPE                \n",
       "Cosmetology Manicurist   Cosmetology Manicurist     3277\n",
       "Cosmetology Operator     Cosmetology Operator        953\n",
       "Cosmetology Esthetician  Cosmetology Esthetician     730\n",
       "Cosmetologist            Cosmetologist               497\n",
       "A/C Technician           A/C Technician               43\n",
       "Name: LICTYPE, dtype: int64"
      ]
     },
     "execution_count": 26,
     "metadata": {},
     "output_type": "execute_result"
    }
   ],
   "source": [
    "df[df.LASTNAME == 'LE'].groupby('LICTYPE').LICTYPE.value_counts().sort_values(ascending=False).head(5)"
   ]
  },
  {
   "cell_type": "markdown",
   "metadata": {},
   "source": [
    "The background of this [is interesting](https://www.npr.org/2019/05/19/724452398/how-vietnamese-americans-took-over-the-nails-business-a-documentary) and [tragic](https://www.nytimes.com/2015/05/10/nyregion/at-nail-salons-in-nyc-manicurists-are-underpaid-and-unprotected.html)."
   ]
  },
  {
   "cell_type": "markdown",
   "metadata": {},
   "source": [
    "## 17. Now do all of that in one line - most popular licenses for Nguyen, Tran and Le - without using `&`"
   ]
  },
  {
   "cell_type": "code",
   "execution_count": 27,
   "metadata": {},
   "outputs": [
    {
     "data": {
      "text/plain": [
       "LICTYPE                  LICTYPE                \n",
       "Cosmetology Manicurist   Cosmetology Manicurist     20808\n",
       "Cosmetology Operator     Cosmetology Operator        6467\n",
       "Cosmetology Esthetician  Cosmetology Esthetician     4643\n",
       "Cosmetologist            Cosmetologist               3085\n",
       "Apprentice Electrician   Apprentice Electrician       327\n",
       "Name: LICTYPE, dtype: int64"
      ]
     },
     "execution_count": 27,
     "metadata": {},
     "output_type": "execute_result"
    }
   ],
   "source": [
    "df[df.LASTNAME.isin([\"NGUYEN\", \"TRAN\", \"LE\"])].groupby('LICTYPE').LICTYPE.value_counts().sort_values(ascending=False).head(5)\n"
   ]
  },
  {
   "cell_type": "markdown",
   "metadata": {},
   "source": [
    "## 19. Most popular license for anyone with a last name that ENDS in `-ko`\n",
    "\n",
    "The answer is not `.str.contains('ko')`, but it isn't necessarily too different.\n",
    "\n",
    "* One way involves a `.str.` method that check if a string ends with something,\n",
    "* the other way involves a regular expression that has a \"end of the string\" marker (similar to how we've used `^` for the start of a string before)\n",
    "\n",
    "If you're thinking about the latter, I might take a look at [this page](http://www.rexegg.com/regex-quickstart.html) under \"Anchors and Boundaries\". "
   ]
  },
  {
   "cell_type": "code",
   "execution_count": 28,
   "metadata": {},
   "outputs": [
    {
     "data": {
      "text/plain": [
       "LICTYPE               LICTYPE             \n",
       "Cosmetology Operator  Cosmetology Operator    67\n",
       "Name: LICTYPE, dtype: int64"
      ]
     },
     "execution_count": 28,
     "metadata": {},
     "output_type": "execute_result"
    }
   ],
   "source": [
    "df['KO'] = df.LASTNAME.str.endswith('KO', na=False)\n",
    "POP_KO = df[df.KO == True].groupby('LICTYPE').LICTYPE.value_counts().sort_values(ascending=False).head(1)\n",
    "POP_KO"
   ]
  },
  {
   "cell_type": "markdown",
   "metadata": {},
   "source": [
    "## 20. Get that as a percentage"
   ]
  },
  {
   "cell_type": "code",
   "execution_count": 29,
   "metadata": {},
   "outputs": [
    {
     "name": "stdout",
     "output_type": "stream",
     "text": [
      "LICTYPE               LICTYPE             \n",
      "Cosmetology Operator  Cosmetology Operator    36.0\n",
      "Name: LICTYPE, dtype: float64\n"
     ]
    }
   ],
   "source": [
    "TOTAL = df[df.KO == True].groupby('LICTYPE').LICTYPE.value_counts().sum()\n",
    "PERCENTAGE = (POP_KO/TOTAL)*100\n",
    "print(round(PERCENTAGE))"
   ]
  },
  {
   "cell_type": "markdown",
   "metadata": {},
   "source": [
    "# PART FOUR: LOOKING AT FIRST NAMES"
   ]
  },
  {
   "cell_type": "markdown",
   "metadata": {},
   "source": [
    "## 21. Extract the owner's first name\n",
    "\n",
    "First, a little example of how regular expressions work with pandas."
   ]
  },
  {
   "cell_type": "code",
   "execution_count": 30,
   "metadata": {},
   "outputs": [
    {
     "data": {
      "text/html": [
       "<div>\n",
       "<style scoped>\n",
       "    .dataframe tbody tr th:only-of-type {\n",
       "        vertical-align: middle;\n",
       "    }\n",
       "\n",
       "    .dataframe tbody tr th {\n",
       "        vertical-align: top;\n",
       "    }\n",
       "\n",
       "    .dataframe thead th {\n",
       "        text-align: right;\n",
       "    }\n",
       "</style>\n",
       "<table border=\"1\" class=\"dataframe\">\n",
       "  <thead>\n",
       "    <tr style=\"text-align: right;\">\n",
       "      <th></th>\n",
       "      <th>name</th>\n",
       "      <th>sentence</th>\n",
       "    </tr>\n",
       "  </thead>\n",
       "  <tbody>\n",
       "    <tr>\n",
       "      <th>0</th>\n",
       "      <td>Mary</td>\n",
       "      <td>I am 90 years old</td>\n",
       "    </tr>\n",
       "    <tr>\n",
       "      <th>1</th>\n",
       "      <td>Jack</td>\n",
       "      <td>I am 4 years old</td>\n",
       "    </tr>\n",
       "    <tr>\n",
       "      <th>2</th>\n",
       "      <td>Anne</td>\n",
       "      <td>I am 27 years old</td>\n",
       "    </tr>\n",
       "    <tr>\n",
       "      <th>3</th>\n",
       "      <td>Joel</td>\n",
       "      <td>I am 13 years old</td>\n",
       "    </tr>\n",
       "  </tbody>\n",
       "</table>\n",
       "</div>"
      ],
      "text/plain": [
       "   name           sentence\n",
       "0  Mary  I am 90 years old\n",
       "1  Jack   I am 4 years old\n",
       "2  Anne  I am 27 years old\n",
       "3  Joel  I am 13 years old"
      ]
     },
     "execution_count": 30,
     "metadata": {},
     "output_type": "execute_result"
    }
   ],
   "source": [
    "# Build a dataframe\n",
    "sample_df = pd.DataFrame([\n",
    "    { 'name': 'Mary', 'sentence': \"I am 90 years old\" },\n",
    "    { 'name': 'Jack', 'sentence': \"I am 4 years old\" },\n",
    "    { 'name': 'Anne', 'sentence': \"I am 27 years old\" },\n",
    "    { 'name': 'Joel', 'sentence': \"I am 13 years old\" },\n",
    "])\n",
    "# Look at the dataframe\n",
    "sample_df"
   ]
  },
  {
   "cell_type": "code",
   "execution_count": 31,
   "metadata": {},
   "outputs": [
    {
     "data": {
      "text/plain": [
       "0    90\n",
       "1     4\n",
       "2    27\n",
       "3    13\n",
       "Name: sentence, dtype: object"
      ]
     },
     "execution_count": 31,
     "metadata": {},
     "output_type": "execute_result"
    }
   ],
   "source": [
    "# Given the sentence, \"I am X years old\", extract digits from the middle using ()\n",
    "# Anything you put in () will be saved as an output.\n",
    "# If you do expand=True it makes you a dataframe, but we don't want that.\n",
    "sample_df['sentence'].str.extract(\"I am (\\d+) years old\", expand=False)"
   ]
  },
  {
   "cell_type": "code",
   "execution_count": 32,
   "metadata": {},
   "outputs": [
    {
     "data": {
      "text/html": [
       "<div>\n",
       "<style scoped>\n",
       "    .dataframe tbody tr th:only-of-type {\n",
       "        vertical-align: middle;\n",
       "    }\n",
       "\n",
       "    .dataframe tbody tr th {\n",
       "        vertical-align: top;\n",
       "    }\n",
       "\n",
       "    .dataframe thead th {\n",
       "        text-align: right;\n",
       "    }\n",
       "</style>\n",
       "<table border=\"1\" class=\"dataframe\">\n",
       "  <thead>\n",
       "    <tr style=\"text-align: right;\">\n",
       "      <th></th>\n",
       "      <th>name</th>\n",
       "      <th>sentence</th>\n",
       "      <th>age</th>\n",
       "    </tr>\n",
       "  </thead>\n",
       "  <tbody>\n",
       "    <tr>\n",
       "      <th>0</th>\n",
       "      <td>Mary</td>\n",
       "      <td>I am 90 years old</td>\n",
       "      <td>90</td>\n",
       "    </tr>\n",
       "    <tr>\n",
       "      <th>1</th>\n",
       "      <td>Jack</td>\n",
       "      <td>I am 4 years old</td>\n",
       "      <td>4</td>\n",
       "    </tr>\n",
       "    <tr>\n",
       "      <th>2</th>\n",
       "      <td>Anne</td>\n",
       "      <td>I am 27 years old</td>\n",
       "      <td>27</td>\n",
       "    </tr>\n",
       "    <tr>\n",
       "      <th>3</th>\n",
       "      <td>Joel</td>\n",
       "      <td>I am 13 years old</td>\n",
       "      <td>13</td>\n",
       "    </tr>\n",
       "  </tbody>\n",
       "</table>\n",
       "</div>"
      ],
      "text/plain": [
       "   name           sentence age\n",
       "0  Mary  I am 90 years old  90\n",
       "1  Jack   I am 4 years old   4\n",
       "2  Anne  I am 27 years old  27\n",
       "3  Joel  I am 13 years old  13"
      ]
     },
     "execution_count": 32,
     "metadata": {},
     "output_type": "execute_result"
    }
   ],
   "source": [
    "# Save it into a new column\n",
    "sample_df['age'] = sample_df['sentence'].str.extract(\"I am (\\d+) years old\", expand=False)\n",
    "sample_df.head()"
   ]
  },
  {
   "cell_type": "markdown",
   "metadata": {},
   "source": [
    "**Now let's think about how we're going to extract the first names.** Begin by looking at a few full names."
   ]
  },
  {
   "cell_type": "code",
   "execution_count": 33,
   "metadata": {},
   "outputs": [
    {
     "data": {
      "text/plain": [
       "0        RISINGER, JIM MARVIN\n",
       "1         WILLIAMS, JON ANDRE\n",
       "2       GUEVARA, JUAN ANTONIO\n",
       "3    BOWERS, JAMES BRISCOE II\n",
       "4         DEMSKY, JOHN EDWARD\n",
       "5           THOMPSON, RANDY D\n",
       "6          TUCKER, MONTE EARL\n",
       "7        COOPER, THOMAS JAMES\n",
       "8     BLANKENSHIP, KERRY NEIL\n",
       "9      DAWES, NICHOLAS MORGAN\n",
       "Name: OWNER, dtype: object"
      ]
     },
     "execution_count": 33,
     "metadata": {},
     "output_type": "execute_result"
    }
   ],
   "source": [
    "df['OWNER'].head(10)"
   ]
  },
  {
   "cell_type": "markdown",
   "metadata": {},
   "source": [
    "What can you use to find the first name? It helps to say \"this is to the left and this is to the right, and I'm going to take anything in the middle.\"\n",
    "\n",
    "Once you figure out how to extract it, you can do a `.head(10)` to just look at the first few."
   ]
  },
  {
   "cell_type": "code",
   "execution_count": 34,
   "metadata": {},
   "outputs": [
    {
     "data": {
      "text/plain": [
       "0               JIM\n",
       "1               JON\n",
       "2              JUAN\n",
       "3             JAMES\n",
       "4              JOHN\n",
       "            ...    \n",
       "597811       JUSTIN\n",
       "597812      MATTHEW\n",
       "597813        DAVID\n",
       "597814    FRANCISCO\n",
       "597815        DAVID\n",
       "Name: 1, Length: 597816, dtype: object"
      ]
     },
     "execution_count": 34,
     "metadata": {},
     "output_type": "execute_result"
    }
   ],
   "source": [
    "df['OWNER'].str.extract(r\"([A-Za-z]+), ([A-Za-z]+) ([A-Za-z]*)\", expand=True)[1]"
   ]
  },
  {
   "cell_type": "markdown",
   "metadata": {},
   "source": [
    "## 22. Saving the owner's first name\n",
    "\n",
    "Save the name to a new column, `FIRSTNAME`."
   ]
  },
  {
   "cell_type": "code",
   "execution_count": 35,
   "metadata": {},
   "outputs": [],
   "source": [
    "df['FIRSTNAME'] = df['OWNER'].str.extract(r\"([A-Za-z]+), ([A-Za-z]+) ([A-Za-z]*)\", expand=True)[1]"
   ]
  },
  {
   "cell_type": "markdown",
   "metadata": {},
   "source": [
    "# 23. Examine everyone without a first name\n",
    "\n",
    "I purposefully didn't do a nicer regex in order to have some screwed-up results. **How many people are there without an entry in the first name column?**\n",
    "\n",
    "Your numbers might be different than mine."
   ]
  },
  {
   "cell_type": "code",
   "execution_count": 36,
   "metadata": {},
   "outputs": [
    {
     "data": {
      "text/plain": [
       "216430"
      ]
     },
     "execution_count": 36,
     "metadata": {},
     "output_type": "execute_result"
    }
   ],
   "source": [
    "df[df.FIRSTNAME.isnull()].OWNER.count()"
   ]
  },
  {
   "cell_type": "markdown",
   "metadata": {},
   "source": [
    "What do their names look like?"
   ]
  },
  {
   "cell_type": "code",
   "execution_count": 37,
   "metadata": {},
   "outputs": [],
   "source": [
    "# NaN"
   ]
  },
  {
   "cell_type": "markdown",
   "metadata": {},
   "source": [
    "## 24. If it's a problem, you can fix it (if you'd like!)\n",
    "\n",
    "Maybe you have another regular expression that works better with JUST these people? It really depends on how you've put together your previous regex!\n",
    "\n",
    "If you'd like to use a separate regex for this group, you can use code like this:\n",
    "\n",
    "`df.loc[df.FIRSTNAME.isnull(), 'FIRSTNAME'] = .....`\n",
    "\n",
    "That will only set the `FIRSTNAME` for people where `FIRSTNAME` is null."
   ]
  },
  {
   "cell_type": "code",
   "execution_count": 194,
   "metadata": {},
   "outputs": [],
   "source": [
    "df.loc[df.FIRSTNAME.isnull(), 'FIRSTNAME'] = 'NA'"
   ]
  },
  {
   "cell_type": "markdown",
   "metadata": {},
   "source": [
    "How many empty first names do we have now?"
   ]
  },
  {
   "cell_type": "code",
   "execution_count": 195,
   "metadata": {},
   "outputs": [
    {
     "data": {
      "text/plain": [
       "0"
      ]
     },
     "execution_count": 195,
     "metadata": {},
     "output_type": "execute_result"
    }
   ],
   "source": [
    "df[df.FIRSTNAME.isnull()].OWNER.count()"
   ]
  },
  {
   "cell_type": "markdown",
   "metadata": {},
   "source": [
    "My code before only worked for people with middle names, but now it got people without middle names, too. Looking much better!"
   ]
  },
  {
   "cell_type": "markdown",
   "metadata": {},
   "source": [
    "## 25. Most popular first names?"
   ]
  },
  {
   "cell_type": "code",
   "execution_count": 38,
   "metadata": {},
   "outputs": [
    {
     "data": {
      "text/plain": [
       "FIRSTNAME  FIRSTNAME\n",
       "JOSE       JOSE         6583\n",
       "MICHAEL    MICHAEL      5021\n",
       "MARIA      MARIA        4536\n",
       "JAMES      JAMES        4510\n",
       "DAVID      DAVID        4135\n",
       "Name: FIRSTNAME, dtype: int64"
      ]
     },
     "execution_count": 38,
     "metadata": {},
     "output_type": "execute_result"
    }
   ],
   "source": [
    "df.groupby('FIRSTNAME').FIRSTNAME.value_counts().sort_values(ascending=False).head(5)"
   ]
  },
  {
   "cell_type": "markdown",
   "metadata": {},
   "source": [
    "## 26. Most popular first names for a Cosmetology Operator, Cosmetology Esthetician, Cosmetologist, and anything that seems similar?\n",
    "\n",
    "If you get an error about \"cannot index vector containing NA / NaN values\" remember `.fillna(False)` or `na=False` - if a row doesn't have a license, it doesn't give a `True`/`False`, so we force all of the empty rows to be `False`."
   ]
  },
  {
   "cell_type": "code",
   "execution_count": 39,
   "metadata": {},
   "outputs": [
    {
     "data": {
      "text/plain": [
       "FIRSTNAME  FIRSTNAME\n",
       "MARIA      MARIA        4104\n",
       "THUY       THUY         1967\n",
       "PHUONG     PHUONG       1837\n",
       "KIM        KIM          1497\n",
       "JENNIFER   JENNIFER     1422\n",
       "THANH      THANH        1320\n",
       "MARY       MARY         1216\n",
       "THU        THU          1179\n",
       "NGOC       NGOC         1151\n",
       "JESSICA    JESSICA      1136\n",
       "Name: FIRSTNAME, dtype: int64"
      ]
     },
     "execution_count": 39,
     "metadata": {},
     "output_type": "execute_result"
    }
   ],
   "source": [
    "df[df.LICTYPE.str.contains(\"Cosmetolog\", na=False)].groupby('FIRSTNAME').FIRSTNAME.value_counts().sort_values(ascending=False).head(10)\n",
    "\n"
   ]
  },
  {
   "cell_type": "markdown",
   "metadata": {},
   "source": [
    "## 27. Most popular first names for anything involving electricity?"
   ]
  },
  {
   "cell_type": "code",
   "execution_count": 40,
   "metadata": {},
   "outputs": [
    {
     "data": {
      "text/plain": [
       "FIRSTNAME    FIRSTNAME  \n",
       "JOSE         JOSE           4900\n",
       "MICHAEL      MICHAEL        3136\n",
       "JAMES        JAMES          2786\n",
       "JUAN         JUAN           2758\n",
       "DAVID        DAVID          2593\n",
       "JOHN         JOHN           2345\n",
       "ROBERT       ROBERT         2227\n",
       "CHRISTOPHER  CHRISTOPHER    1696\n",
       "WILLIAM      WILLIAM        1605\n",
       "LUIS         LUIS           1397\n",
       "Name: FIRSTNAME, dtype: int64"
      ]
     },
     "execution_count": 40,
     "metadata": {},
     "output_type": "execute_result"
    }
   ],
   "source": [
    "df[df.LICTYPE.str.contains(\"Electric\", na=False)].groupby('FIRSTNAME').FIRSTNAME.value_counts().sort_values(ascending=False).head(10)"
   ]
  },
  {
   "cell_type": "markdown",
   "metadata": {},
   "source": [
    "## 28. Can we be any more obnoxious in this assignment?\n",
    "\n",
    "A terrible thing that data analysts are often guilty of is using names to make assumptions about people. Beyond stereotypes involving last names, first names are often used to predict someone's race, ethnic background, or gender.\n",
    "\n",
    "And if that isn't bad enough: if we were looking for Python libraries to do this sort of analysis, we'd come across [sex machine](https://github.com/ferhatelmas/sexmachine/). Once upon a time there was Ruby package named sex machine and everyone was like \"come on are you six years old? is this how we do things?\" and the guy was like \"you're completely right I'm renaming it to [gender detector](https://github.com/bmuller/gender_detector)\" and the world was Nice and Good again.\n",
    "\n",
    "How'd it happen? [On Github, in a pull request!](https://github.com/bmuller/gender_detector/pull/14) Neat, right?\n",
    "\n",
    "But yeah: apparently Python didn't get the message.\n",
    "\n",
    "The sexmachine package doesn't work on Python 3 because it's from 300 BC, so we're going to use a Python 3 fork with the less problematic name [gender guesser](https://pypi.python.org/pypi/gender-guesser/).\n",
    "\n",
    "#### Use `pip` or `pip3` to install gender-guesser."
   ]
  },
  {
   "cell_type": "code",
   "execution_count": 41,
   "metadata": {},
   "outputs": [
    {
     "name": "stdout",
     "output_type": "stream",
     "text": [
      "Requirement already satisfied: gender-guesser in /Users/mahiradayal/.pyenv/versions/3.8.2/lib/python3.8/site-packages (0.4.0)\n",
      "\u001b[33mWARNING: You are using pip version 19.2.3, however version 20.2.4 is available.\n",
      "You should consider upgrading via the 'pip install --upgrade pip' command.\u001b[0m\n"
     ]
    }
   ],
   "source": [
    "!pip install gender-guesser"
   ]
  },
  {
   "cell_type": "markdown",
   "metadata": {},
   "source": [
    "#### Run this code to test to see that it works"
   ]
  },
  {
   "cell_type": "code",
   "execution_count": 42,
   "metadata": {},
   "outputs": [
    {
     "data": {
      "text/plain": [
       "'male'"
      ]
     },
     "execution_count": 42,
     "metadata": {},
     "output_type": "execute_result"
    }
   ],
   "source": [
    "import gender_guesser.detector as gender\n",
    "\n",
    "detector = gender.Detector(case_sensitive=False)\n",
    "detector.get_gender('David')"
   ]
  },
  {
   "cell_type": "code",
   "execution_count": 43,
   "metadata": {},
   "outputs": [
    {
     "data": {
      "text/plain": [
       "'male'"
      ]
     },
     "execution_count": 43,
     "metadata": {},
     "output_type": "execute_result"
    }
   ],
   "source": [
    "detector.get_gender('Jose')"
   ]
  },
  {
   "cell_type": "code",
   "execution_count": 44,
   "metadata": {},
   "outputs": [
    {
     "data": {
      "text/plain": [
       "'female'"
      ]
     },
     "execution_count": 44,
     "metadata": {},
     "output_type": "execute_result"
    }
   ],
   "source": [
    "detector.get_gender('Maria')"
   ]
  },
  {
   "cell_type": "markdown",
   "metadata": {},
   "source": [
    "#### Use it on a dataframe"
   ]
  },
  {
   "cell_type": "code",
   "execution_count": 45,
   "metadata": {},
   "outputs": [
    {
     "data": {
      "text/plain": [
       "0    male\n",
       "1    male\n",
       "2    male\n",
       "3    male\n",
       "4    male\n",
       "Name: FIRSTNAME, dtype: object"
      ]
     },
     "execution_count": 45,
     "metadata": {},
     "output_type": "execute_result"
    }
   ],
   "source": [
    "df['FIRSTNAME'].fillna('').apply(lambda FIRSTNAME: detector.get_gender(FIRSTNAME)).head()"
   ]
  },
  {
   "cell_type": "markdown",
   "metadata": {},
   "source": [
    "## 29. Calculate the gender of everyone's first name and save it to a column\n",
    "\n",
    "Confirm by see how many people of each gender we have"
   ]
  },
  {
   "cell_type": "code",
   "execution_count": 46,
   "metadata": {},
   "outputs": [],
   "source": [
    "df['GENDER'] = df['FIRSTNAME'].fillna('').apply(lambda FIRSTNAME: detector.get_gender(FIRSTNAME))"
   ]
  },
  {
   "cell_type": "code",
   "execution_count": 47,
   "metadata": {},
   "outputs": [
    {
     "data": {
      "text/plain": [
       "GENDER         GENDER       \n",
       "andy           andy              18471\n",
       "female         female           102818\n",
       "male           male             171042\n",
       "mostly_female  mostly_female     36636\n",
       "mostly_male    mostly_male       22166\n",
       "unknown        unknown          246683\n",
       "Name: GENDER, dtype: int64"
      ]
     },
     "execution_count": 47,
     "metadata": {},
     "output_type": "execute_result"
    }
   ],
   "source": [
    "df.groupby('GENDER').GENDER.value_counts()"
   ]
  },
  {
   "cell_type": "markdown",
   "metadata": {},
   "source": [
    "## 30. We like our data to be in tidy binary categories\n",
    "\n",
    "* Combine the `mostly_female` into `female` \n",
    "* Combine the `mostly_male` into `male`\n",
    "* Replace `andy` (androgynous) and `unknown` with `NaN`\n",
    "\n",
    "you can get NaN not by making a string, but with `import numpy as np` and then using `np.nan`."
   ]
  },
  {
   "cell_type": "code",
   "execution_count": 48,
   "metadata": {},
   "outputs": [],
   "source": [
    "import numpy as np"
   ]
  },
  {
   "cell_type": "code",
   "execution_count": 49,
   "metadata": {},
   "outputs": [],
   "source": [
    "df['GENDER'] = df.GENDER.str.replace('mostly_female', 'female')\n",
    "df['GENDER'] = df.GENDER.str.replace('mostly_male', 'male')\n",
    "df['GENDER'] = df.GENDER.replace('andy', np.nan)\n",
    "df['GENDER'] = df.GENDER.replace('unknown', np.nan)"
   ]
  },
  {
   "cell_type": "markdown",
   "metadata": {},
   "source": [
    "## 31. Do men or women have more licenses? What is the percentage of unknown genders?"
   ]
  },
  {
   "cell_type": "code",
   "execution_count": 50,
   "metadata": {},
   "outputs": [
    {
     "data": {
      "text/plain": [
       "GENDER  GENDER\n",
       "female  female    139454\n",
       "male    male      193208\n",
       "Name: GENDER, dtype: int64"
      ]
     },
     "execution_count": 50,
     "metadata": {},
     "output_type": "execute_result"
    }
   ],
   "source": [
    "df.groupby('GENDER').GENDER.value_counts()"
   ]
  },
  {
   "cell_type": "code",
   "execution_count": 51,
   "metadata": {},
   "outputs": [
    {
     "name": "stdout",
     "output_type": "stream",
     "text": [
      "44.353781096524685\n"
     ]
    }
   ],
   "source": [
    "# Men have more licenses\n",
    "\n",
    "Percentage_Unknown = 100 * df.GENDER.isnull().sum() / len(df)\n",
    "print(Percentage_Unknown)"
   ]
  },
  {
   "cell_type": "markdown",
   "metadata": {},
   "source": [
    "## 32. What are the popular unknown- or ambiguous gender first names?\n",
    "\n",
    "Yours might be different! Mine is a combination of actual ambiguity, cultural bias and dirty data."
   ]
  },
  {
   "cell_type": "code",
   "execution_count": 52,
   "metadata": {},
   "outputs": [
    {
     "data": {
      "text/plain": [
       "FIRSTNAME  FIRSTNAME\n",
       "THANH      THANH        1364\n",
       "TRANG      TRANG        1072\n",
       "HONG       HONG          942\n",
       "DUNG       DUNG          900\n",
       "LINH       LINH          821\n",
       "Name: FIRSTNAME, dtype: int64"
      ]
     },
     "execution_count": 52,
     "metadata": {},
     "output_type": "execute_result"
    }
   ],
   "source": [
    "df[df.GENDER.isnull() == True].groupby('FIRSTNAME').FIRSTNAME.value_counts().sort_values(ascending=False).head(5)"
   ]
  },
  {
   "cell_type": "markdown",
   "metadata": {},
   "source": [
    "## 33. Manually check a few, too \n",
    "\n",
    "Using [a list of \"gender-neutral baby names\"](https://www.popsugar.com/family/Gender-Neutral-Baby-Names-34485564), pick a few names and check what results the library gives you."
   ]
  },
  {
   "cell_type": "code",
   "execution_count": 53,
   "metadata": {},
   "outputs": [
    {
     "data": {
      "text/plain": [
       "'male'"
      ]
     },
     "execution_count": 53,
     "metadata": {},
     "output_type": "execute_result"
    }
   ],
   "source": [
    "detector.get_gender('Harper')"
   ]
  },
  {
   "cell_type": "code",
   "execution_count": 54,
   "metadata": {},
   "outputs": [
    {
     "data": {
      "text/plain": [
       "'male'"
      ]
     },
     "execution_count": 54,
     "metadata": {},
     "output_type": "execute_result"
    }
   ],
   "source": [
    "detector.get_gender('Jesse')"
   ]
  },
  {
   "cell_type": "code",
   "execution_count": 55,
   "metadata": {},
   "outputs": [
    {
     "data": {
      "text/plain": [
       "'mostly_female'"
      ]
     },
     "execution_count": 55,
     "metadata": {},
     "output_type": "execute_result"
    }
   ],
   "source": [
    "detector.get_gender('Madison')"
   ]
  },
  {
   "cell_type": "markdown",
   "metadata": {},
   "source": [
    "\n",
    "## 34. What are the most popular licenses for men? For women?"
   ]
  },
  {
   "cell_type": "code",
   "execution_count": 56,
   "metadata": {},
   "outputs": [
    {
     "data": {
      "text/plain": [
       "LICTYPE                 LICTYPE               \n",
       "Apprentice Electrician  Apprentice Electrician    66753\n",
       "Journeyman Electrician  Journeyman Electrician    30190\n",
       "A/C Technician          A/C Technician            17637\n",
       "Master Electrician      Master Electrician        14159\n",
       "Cosmetology Operator    Cosmetology Operator      10005\n",
       "Name: LICTYPE, dtype: int64"
      ]
     },
     "execution_count": 56,
     "metadata": {},
     "output_type": "execute_result"
    }
   ],
   "source": [
    "df[df.GENDER == 'male'].groupby('LICTYPE').LICTYPE.value_counts().sort_values(ascending=False).head(5)"
   ]
  },
  {
   "cell_type": "code",
   "execution_count": 57,
   "metadata": {},
   "outputs": [
    {
     "data": {
      "text/plain": [
       "LICTYPE                          LICTYPE                        \n",
       "Cosmetology Operator             Cosmetology Operator               81320\n",
       "Cosmetology Manicurist           Cosmetology Manicurist             20372\n",
       "Cosmetology Esthetician          Cosmetology Esthetician            12245\n",
       "Cosmetologist                    Cosmetologist                       3711\n",
       "Cosmetology Operator Instructor  Cosmetology Operator Instructor     3419\n",
       "Name: LICTYPE, dtype: int64"
      ]
     },
     "execution_count": 57,
     "metadata": {},
     "output_type": "execute_result"
    }
   ],
   "source": [
    "df[df.GENDER == 'female'].groupby('LICTYPE').LICTYPE.value_counts().sort_values(ascending=False).head(5)\n"
   ]
  },
  {
   "cell_type": "markdown",
   "metadata": {},
   "source": [
    "## 35. What is the gender breakdown for Property Tax Appraiser? How about anything involving Tow Trucks?\n",
    "\n",
    "If you're in need, remember your good friend `.fillna(False)` to get rid of NaN values, or `.na=False` with `.str.contains`."
   ]
  },
  {
   "cell_type": "code",
   "execution_count": 58,
   "metadata": {},
   "outputs": [
    {
     "data": {
      "text/plain": [
       "GENDER  GENDER\n",
       "male    male      1333\n",
       "female  female    1038\n",
       "Name: GENDER, dtype: int64"
      ]
     },
     "execution_count": 58,
     "metadata": {},
     "output_type": "execute_result"
    }
   ],
   "source": [
    "df[df['LICTYPE'].str.contains(\"Property Tax Appraiser\", na=False)].groupby('GENDER').GENDER.value_counts().sort_values(ascending=False).head()"
   ]
  },
  {
   "cell_type": "code",
   "execution_count": 59,
   "metadata": {},
   "outputs": [
    {
     "data": {
      "text/plain": [
       "GENDER  GENDER\n",
       "male    male      9110\n",
       "female  female     421\n",
       "Name: GENDER, dtype: int64"
      ]
     },
     "execution_count": 59,
     "metadata": {},
     "output_type": "execute_result"
    }
   ],
   "source": [
    "df[df['LICTYPE'].str.contains(\"Tow Truck\", na=False)].groupby('GENDER').GENDER.value_counts().sort_values(ascending=False).head()\n"
   ]
  },
  {
   "cell_type": "markdown",
   "metadata": {},
   "source": [
    "(By the way, what are those tow truck jobs?)"
   ]
  },
  {
   "cell_type": "code",
   "execution_count": 60,
   "metadata": {},
   "outputs": [
    {
     "data": {
      "text/plain": [
       "LICTYPE                                   LICTYPE                                 \n",
       "Tow Truck Operator (Consent Tow)          Tow Truck Operator (Consent Tow)            6703\n",
       "Tow Truck Operator (Incident Management)  Tow Truck Operator (Incident Management)    7804\n",
       "Tow Truck Operator (Private Property)     Tow Truck Operator (Private Property)        352\n",
       "Tow Truck Operator Trainee                Tow Truck Operator Trainee                    53\n",
       "Name: LICTYPE, dtype: int64"
      ]
     },
     "execution_count": 60,
     "metadata": {},
     "output_type": "execute_result"
    }
   ],
   "source": [
    "df[df['LICTYPE'].str.contains(\"Tow Truck\", na=False)].groupby('LICTYPE').LICTYPE.value_counts().head()"
   ]
  },
  {
   "cell_type": "markdown",
   "metadata": {},
   "source": [
    "## 33. Graph them!\n",
    "\n",
    "And let's **give them titles** so we know which is which."
   ]
  },
  {
   "cell_type": "code",
   "execution_count": 61,
   "metadata": {},
   "outputs": [
    {
     "data": {
      "text/plain": [
       "<AxesSubplot:title={'center':'Tow Truck Breakdown'}, ylabel='Gender'>"
      ]
     },
     "execution_count": 61,
     "metadata": {},
     "output_type": "execute_result"
    },
    {
     "data": {
      "image/png": "[encoded data removed]",
      "text/plain": [
       "<Figure size 432x288 with 1 Axes>"
      ]
     },
     "metadata": {
      "needs_background": "light"
     },
     "output_type": "display_data"
    }
   ],
   "source": [
    "df[df['LICTYPE'].str.contains(\"Tow Truck\", na=False)].groupby('GENDER').GENDER.value_counts().sort_values(ascending=False).plot(xlabel='Gender', title='Tow Truck Breakdown', kind='barh')\n"
   ]
  },
  {
   "cell_type": "code",
   "execution_count": 62,
   "metadata": {},
   "outputs": [
    {
     "data": {
      "text/plain": [
       "<AxesSubplot:title={'center':'Property Tax Appraiser Breakdown'}, ylabel='Gender'>"
      ]
     },
     "execution_count": 62,
     "metadata": {},
     "output_type": "execute_result"
    },
    {
     "data": {
      "image/png": "[encoded data removed]",
      "text/plain": [
       "<Figure size 432x288 with 1 Axes>"
      ]
     },
     "metadata": {
      "needs_background": "light"
     },
     "output_type": "display_data"
    }
   ],
   "source": [
    "df[df['LICTYPE'].str.contains(\"Property Tax Appraiser\", na=False)].groupby('GENDER').GENDER.value_counts().sort_values(ascending=False).plot(xlabel='Gender', title='Property Tax Appraiser Breakdown', kind='barh')\n"
   ]
  },
  {
   "cell_type": "markdown",
   "metadata": {},
   "source": [
    "## 34. Calcuate the supposed gender bias for profession\n",
    "\n",
    "I spent like an hour on this and then realized a super easy way to do it. Welcome to programming! I'll do this part for you."
   ]
  },
  {
   "cell_type": "code",
   "execution_count": 63,
   "metadata": {},
   "outputs": [
    {
     "data": {
      "text/plain": [
       "Apprentice Electrician    66753\n",
       "Journeyman Electrician    30190\n",
       "A/C Technician            17637\n",
       "Master Electrician        14159\n",
       "Cosmetology Operator      10005\n",
       "Name: LICTYPE, dtype: int64"
      ]
     },
     "execution_count": 63,
     "metadata": {},
     "output_type": "execute_result"
    }
   ],
   "source": [
    "# So when you do .value_counts(), it gives you an index and a value\n",
    "df[df['GENDER'] == 'male'].LICTYPE.value_counts().head()"
   ]
  },
  {
   "cell_type": "markdown",
   "metadata": {},
   "source": [
    "We did `pd.concat` to combine dataframes, but you can also use it to combine series (like the results of `value_counts()`). If you give it a few `value_counts()` and give it some column names it'll make something real nice."
   ]
  },
  {
   "cell_type": "code",
   "execution_count": 64,
   "metadata": {},
   "outputs": [
    {
     "data": {
      "text/html": [
       "<div>\n",
       "<style scoped>\n",
       "    .dataframe tbody tr th:only-of-type {\n",
       "        vertical-align: middle;\n",
       "    }\n",
       "\n",
       "    .dataframe tbody tr th {\n",
       "        vertical-align: top;\n",
       "    }\n",
       "\n",
       "    .dataframe thead th {\n",
       "        text-align: right;\n",
       "    }\n",
       "</style>\n",
       "<table border=\"1\" class=\"dataframe\">\n",
       "  <thead>\n",
       "    <tr style=\"text-align: right;\">\n",
       "      <th></th>\n",
       "      <th>LICTYPE</th>\n",
       "      <th>LICTYPE</th>\n",
       "      <th>LICTYPE</th>\n",
       "    </tr>\n",
       "  </thead>\n",
       "  <tbody>\n",
       "    <tr>\n",
       "      <th>Apprentice Electrician</th>\n",
       "      <td>66753.0</td>\n",
       "      <td>3236.0</td>\n",
       "      <td>40604.0</td>\n",
       "    </tr>\n",
       "    <tr>\n",
       "      <th>Journeyman Electrician</th>\n",
       "      <td>30190.0</td>\n",
       "      <td>882.0</td>\n",
       "      <td>7098.0</td>\n",
       "    </tr>\n",
       "    <tr>\n",
       "      <th>A/C Technician</th>\n",
       "      <td>17637.0</td>\n",
       "      <td>645.0</td>\n",
       "      <td>9677.0</td>\n",
       "    </tr>\n",
       "    <tr>\n",
       "      <th>Master Electrician</th>\n",
       "      <td>14159.0</td>\n",
       "      <td>354.0</td>\n",
       "      <td>2297.0</td>\n",
       "    </tr>\n",
       "    <tr>\n",
       "      <th>Cosmetology Operator</th>\n",
       "      <td>10005.0</td>\n",
       "      <td>81320.0</td>\n",
       "      <td>59881.0</td>\n",
       "    </tr>\n",
       "  </tbody>\n",
       "</table>\n",
       "</div>"
      ],
      "text/plain": [
       "                        LICTYPE  LICTYPE  LICTYPE\n",
       "Apprentice Electrician  66753.0   3236.0  40604.0\n",
       "Journeyman Electrician  30190.0    882.0   7098.0\n",
       "A/C Technician          17637.0    645.0   9677.0\n",
       "Master Electrician      14159.0    354.0   2297.0\n",
       "Cosmetology Operator    10005.0  81320.0  59881.0"
      ]
     },
     "execution_count": 64,
     "metadata": {},
     "output_type": "execute_result"
    }
   ],
   "source": [
    "# All of the values_counts() we will be combining\n",
    "vc_series = [\n",
    "    df[df['GENDER'] == 'male'].LICTYPE.value_counts(),\n",
    "    df[df['GENDER'] == 'female'].LICTYPE.value_counts(),\n",
    "    df[df['GENDER'].isnull()].LICTYPE.value_counts()\n",
    "]\n",
    "# You need axis=1 so it combines them as columns\n",
    "gender_df = pd.concat(vc_series, axis=1)\n",
    "gender_df.head()"
   ]
  },
  {
   "cell_type": "code",
   "execution_count": 65,
   "metadata": {},
   "outputs": [
    {
     "data": {
      "text/html": [
       "<div>\n",
       "<style scoped>\n",
       "    .dataframe tbody tr th:only-of-type {\n",
       "        vertical-align: middle;\n",
       "    }\n",
       "\n",
       "    .dataframe tbody tr th {\n",
       "        vertical-align: top;\n",
       "    }\n",
       "\n",
       "    .dataframe thead th {\n",
       "        text-align: right;\n",
       "    }\n",
       "</style>\n",
       "<table border=\"1\" class=\"dataframe\">\n",
       "  <thead>\n",
       "    <tr style=\"text-align: right;\">\n",
       "      <th></th>\n",
       "      <th>index</th>\n",
       "      <th>LICTYPE</th>\n",
       "      <th>LICTYPE</th>\n",
       "      <th>LICTYPE</th>\n",
       "    </tr>\n",
       "  </thead>\n",
       "  <tbody>\n",
       "    <tr>\n",
       "      <th>0</th>\n",
       "      <td>Apprentice Electrician</td>\n",
       "      <td>66753.0</td>\n",
       "      <td>3236.0</td>\n",
       "      <td>40604.0</td>\n",
       "    </tr>\n",
       "    <tr>\n",
       "      <th>1</th>\n",
       "      <td>Journeyman Electrician</td>\n",
       "      <td>30190.0</td>\n",
       "      <td>882.0</td>\n",
       "      <td>7098.0</td>\n",
       "    </tr>\n",
       "    <tr>\n",
       "      <th>2</th>\n",
       "      <td>A/C Technician</td>\n",
       "      <td>17637.0</td>\n",
       "      <td>645.0</td>\n",
       "      <td>9677.0</td>\n",
       "    </tr>\n",
       "    <tr>\n",
       "      <th>3</th>\n",
       "      <td>Master Electrician</td>\n",
       "      <td>14159.0</td>\n",
       "      <td>354.0</td>\n",
       "      <td>2297.0</td>\n",
       "    </tr>\n",
       "    <tr>\n",
       "      <th>4</th>\n",
       "      <td>Cosmetology Operator</td>\n",
       "      <td>10005.0</td>\n",
       "      <td>81320.0</td>\n",
       "      <td>59881.0</td>\n",
       "    </tr>\n",
       "  </tbody>\n",
       "</table>\n",
       "</div>"
      ],
      "text/plain": [
       "                    index  LICTYPE  LICTYPE  LICTYPE\n",
       "0  Apprentice Electrician  66753.0   3236.0  40604.0\n",
       "1  Journeyman Electrician  30190.0    882.0   7098.0\n",
       "2          A/C Technician  17637.0    645.0   9677.0\n",
       "3      Master Electrician  14159.0    354.0   2297.0\n",
       "4    Cosmetology Operator  10005.0  81320.0  59881.0"
      ]
     },
     "execution_count": 65,
     "metadata": {},
     "output_type": "execute_result"
    }
   ],
   "source": [
    "# Turn \"A/C Contractor\" etc into an actual column instead of an index\n",
    "gender_df.reset_index(inplace=True)\n",
    "gender_df.head()"
   ]
  },
  {
   "cell_type": "code",
   "execution_count": 66,
   "metadata": {},
   "outputs": [
    {
     "data": {
      "text/html": [
       "<div>\n",
       "<style scoped>\n",
       "    .dataframe tbody tr th:only-of-type {\n",
       "        vertical-align: middle;\n",
       "    }\n",
       "\n",
       "    .dataframe tbody tr th {\n",
       "        vertical-align: top;\n",
       "    }\n",
       "\n",
       "    .dataframe thead th {\n",
       "        text-align: right;\n",
       "    }\n",
       "</style>\n",
       "<table border=\"1\" class=\"dataframe\">\n",
       "  <thead>\n",
       "    <tr style=\"text-align: right;\">\n",
       "      <th></th>\n",
       "      <th>license</th>\n",
       "      <th>male</th>\n",
       "      <th>female</th>\n",
       "      <th>unknown</th>\n",
       "    </tr>\n",
       "  </thead>\n",
       "  <tbody>\n",
       "    <tr>\n",
       "      <th>0</th>\n",
       "      <td>Apprentice Electrician</td>\n",
       "      <td>66753.0</td>\n",
       "      <td>3236.0</td>\n",
       "      <td>40604.0</td>\n",
       "    </tr>\n",
       "    <tr>\n",
       "      <th>1</th>\n",
       "      <td>Journeyman Electrician</td>\n",
       "      <td>30190.0</td>\n",
       "      <td>882.0</td>\n",
       "      <td>7098.0</td>\n",
       "    </tr>\n",
       "    <tr>\n",
       "      <th>2</th>\n",
       "      <td>A/C Technician</td>\n",
       "      <td>17637.0</td>\n",
       "      <td>645.0</td>\n",
       "      <td>9677.0</td>\n",
       "    </tr>\n",
       "    <tr>\n",
       "      <th>3</th>\n",
       "      <td>Master Electrician</td>\n",
       "      <td>14159.0</td>\n",
       "      <td>354.0</td>\n",
       "      <td>2297.0</td>\n",
       "    </tr>\n",
       "    <tr>\n",
       "      <th>4</th>\n",
       "      <td>Cosmetology Operator</td>\n",
       "      <td>10005.0</td>\n",
       "      <td>81320.0</td>\n",
       "      <td>59881.0</td>\n",
       "    </tr>\n",
       "  </tbody>\n",
       "</table>\n",
       "</div>"
      ],
      "text/plain": [
       "                  license     male   female  unknown\n",
       "0  Apprentice Electrician  66753.0   3236.0  40604.0\n",
       "1  Journeyman Electrician  30190.0    882.0   7098.0\n",
       "2          A/C Technician  17637.0    645.0   9677.0\n",
       "3      Master Electrician  14159.0    354.0   2297.0\n",
       "4    Cosmetology Operator  10005.0  81320.0  59881.0"
      ]
     },
     "execution_count": 66,
     "metadata": {},
     "output_type": "execute_result"
    }
   ],
   "source": [
    "# Rename the columns appropriately\n",
    "gender_df.columns = [\"license\", \"male\", \"female\", \"unknown\"]\n",
    "# Clean up the NaN by replacing them with zeroes\n",
    "gender_df.fillna(0, inplace=True)\n",
    "gender_df.head()"
   ]
  },
  {
   "cell_type": "markdown",
   "metadata": {},
   "source": [
    "## 35. Add new columns for total licenses, percent known (not percent unknown!), percent male (of known), percent female (of known)\n",
    "\n",
    "And replace any `NaN`s with `0`."
   ]
  },
  {
   "cell_type": "code",
   "execution_count": 67,
   "metadata": {},
   "outputs": [],
   "source": [
    "gender_df['Total_Licenses'] = gender_df.male + gender_df.female + gender_df.unknown"
   ]
  },
  {
   "cell_type": "code",
   "execution_count": 68,
   "metadata": {},
   "outputs": [],
   "source": [
    "gender_df['Percent_Known'] = ((gender_df.male + gender_df.female)/gender_df.Total_Licenses)*100"
   ]
  },
  {
   "cell_type": "code",
   "execution_count": 69,
   "metadata": {},
   "outputs": [],
   "source": [
    "gender_df['Percent_Male_Known'] = ((gender_df.male/(gender_df.male + gender_df.female))*100)"
   ]
  },
  {
   "cell_type": "code",
   "execution_count": 70,
   "metadata": {},
   "outputs": [],
   "source": [
    "gender_df['Percent_Female_Known'] = ((gender_df.female/(gender_df.male + gender_df.female))*100)"
   ]
  },
  {
   "cell_type": "code",
   "execution_count": 71,
   "metadata": {},
   "outputs": [
    {
     "data": {
      "text/html": [
       "<div>\n",
       "<style scoped>\n",
       "    .dataframe tbody tr th:only-of-type {\n",
       "        vertical-align: middle;\n",
       "    }\n",
       "\n",
       "    .dataframe tbody tr th {\n",
       "        vertical-align: top;\n",
       "    }\n",
       "\n",
       "    .dataframe thead th {\n",
       "        text-align: right;\n",
       "    }\n",
       "</style>\n",
       "<table border=\"1\" class=\"dataframe\">\n",
       "  <thead>\n",
       "    <tr style=\"text-align: right;\">\n",
       "      <th></th>\n",
       "      <th>license</th>\n",
       "      <th>male</th>\n",
       "      <th>female</th>\n",
       "      <th>unknown</th>\n",
       "      <th>Total_Licenses</th>\n",
       "      <th>Percent_Known</th>\n",
       "      <th>Percent_Male_Known</th>\n",
       "      <th>Percent_Female_Known</th>\n",
       "    </tr>\n",
       "  </thead>\n",
       "  <tbody>\n",
       "    <tr>\n",
       "      <th>0</th>\n",
       "      <td>Apprentice Electrician</td>\n",
       "      <td>66753.0</td>\n",
       "      <td>3236.0</td>\n",
       "      <td>40604.0</td>\n",
       "      <td>110593.0</td>\n",
       "      <td>63.285199</td>\n",
       "      <td>95.376416</td>\n",
       "      <td>4.623584</td>\n",
       "    </tr>\n",
       "    <tr>\n",
       "      <th>1</th>\n",
       "      <td>Journeyman Electrician</td>\n",
       "      <td>30190.0</td>\n",
       "      <td>882.0</td>\n",
       "      <td>7098.0</td>\n",
       "      <td>38170.0</td>\n",
       "      <td>81.404244</td>\n",
       "      <td>97.161432</td>\n",
       "      <td>2.838568</td>\n",
       "    </tr>\n",
       "    <tr>\n",
       "      <th>2</th>\n",
       "      <td>A/C Technician</td>\n",
       "      <td>17637.0</td>\n",
       "      <td>645.0</td>\n",
       "      <td>9677.0</td>\n",
       "      <td>27959.0</td>\n",
       "      <td>65.388605</td>\n",
       "      <td>96.471940</td>\n",
       "      <td>3.528060</td>\n",
       "    </tr>\n",
       "    <tr>\n",
       "      <th>3</th>\n",
       "      <td>Master Electrician</td>\n",
       "      <td>14159.0</td>\n",
       "      <td>354.0</td>\n",
       "      <td>2297.0</td>\n",
       "      <td>16810.0</td>\n",
       "      <td>86.335515</td>\n",
       "      <td>97.560808</td>\n",
       "      <td>2.439192</td>\n",
       "    </tr>\n",
       "    <tr>\n",
       "      <th>4</th>\n",
       "      <td>Cosmetology Operator</td>\n",
       "      <td>10005.0</td>\n",
       "      <td>81320.0</td>\n",
       "      <td>59881.0</td>\n",
       "      <td>151206.0</td>\n",
       "      <td>60.397736</td>\n",
       "      <td>10.955379</td>\n",
       "      <td>89.044621</td>\n",
       "    </tr>\n",
       "  </tbody>\n",
       "</table>\n",
       "</div>"
      ],
      "text/plain": [
       "                  license     male   female  unknown  Total_Licenses  \\\n",
       "0  Apprentice Electrician  66753.0   3236.0  40604.0        110593.0   \n",
       "1  Journeyman Electrician  30190.0    882.0   7098.0         38170.0   \n",
       "2          A/C Technician  17637.0    645.0   9677.0         27959.0   \n",
       "3      Master Electrician  14159.0    354.0   2297.0         16810.0   \n",
       "4    Cosmetology Operator  10005.0  81320.0  59881.0        151206.0   \n",
       "\n",
       "   Percent_Known  Percent_Male_Known  Percent_Female_Known  \n",
       "0      63.285199           95.376416              4.623584  \n",
       "1      81.404244           97.161432              2.838568  \n",
       "2      65.388605           96.471940              3.528060  \n",
       "3      86.335515           97.560808              2.439192  \n",
       "4      60.397736           10.955379             89.044621  "
      ]
     },
     "execution_count": 71,
     "metadata": {},
     "output_type": "execute_result"
    }
   ],
   "source": [
    "gender_df.head(5)"
   ]
  },
  {
   "cell_type": "markdown",
   "metadata": {},
   "source": [
    "## 35. What 10 licenses with more than 2,000 people and over 75% \"known\" gender has the most male owners? The most female?"
   ]
  },
  {
   "cell_type": "code",
   "execution_count": 110,
   "metadata": {},
   "outputs": [
    {
     "data": {
      "text/html": [
       "<div>\n",
       "<style scoped>\n",
       "    .dataframe tbody tr th:only-of-type {\n",
       "        vertical-align: middle;\n",
       "    }\n",
       "\n",
       "    .dataframe tbody tr th {\n",
       "        vertical-align: top;\n",
       "    }\n",
       "\n",
       "    .dataframe thead th {\n",
       "        text-align: right;\n",
       "    }\n",
       "</style>\n",
       "<table border=\"1\" class=\"dataframe\">\n",
       "  <thead>\n",
       "    <tr style=\"text-align: right;\">\n",
       "      <th></th>\n",
       "      <th>license</th>\n",
       "      <th>male</th>\n",
       "      <th>female</th>\n",
       "      <th>unknown</th>\n",
       "      <th>Total_Licenses</th>\n",
       "      <th>Percent_Known</th>\n",
       "      <th>Percent_Male_Known</th>\n",
       "      <th>Percent_Female_Known</th>\n",
       "    </tr>\n",
       "  </thead>\n",
       "  <tbody>\n",
       "    <tr>\n",
       "      <th>1</th>\n",
       "      <td>Journeyman Electrician</td>\n",
       "      <td>30190.0</td>\n",
       "      <td>882.0</td>\n",
       "      <td>7098.0</td>\n",
       "      <td>38170.0</td>\n",
       "      <td>81.404244</td>\n",
       "      <td>97.161432</td>\n",
       "      <td>2.838568</td>\n",
       "    </tr>\n",
       "    <tr>\n",
       "      <th>3</th>\n",
       "      <td>Master Electrician</td>\n",
       "      <td>14159.0</td>\n",
       "      <td>354.0</td>\n",
       "      <td>2297.0</td>\n",
       "      <td>16810.0</td>\n",
       "      <td>86.335515</td>\n",
       "      <td>97.560808</td>\n",
       "      <td>2.439192</td>\n",
       "    </tr>\n",
       "    <tr>\n",
       "      <th>13</th>\n",
       "      <td>Auctioneer</td>\n",
       "      <td>1784.0</td>\n",
       "      <td>279.0</td>\n",
       "      <td>317.0</td>\n",
       "      <td>2380.0</td>\n",
       "      <td>86.680672</td>\n",
       "      <td>86.476006</td>\n",
       "      <td>13.523994</td>\n",
       "    </tr>\n",
       "    <tr>\n",
       "      <th>16</th>\n",
       "      <td>Property Tax Appraiser</td>\n",
       "      <td>1333.0</td>\n",
       "      <td>1038.0</td>\n",
       "      <td>475.0</td>\n",
       "      <td>2846.0</td>\n",
       "      <td>83.309909</td>\n",
       "      <td>56.221004</td>\n",
       "      <td>43.778996</td>\n",
       "    </tr>\n",
       "  </tbody>\n",
       "</table>\n",
       "</div>"
      ],
      "text/plain": [
       "                   license     male  female  unknown  Total_Licenses  \\\n",
       "1   Journeyman Electrician  30190.0   882.0   7098.0         38170.0   \n",
       "3       Master Electrician  14159.0   354.0   2297.0         16810.0   \n",
       "13              Auctioneer   1784.0   279.0    317.0          2380.0   \n",
       "16  Property Tax Appraiser   1333.0  1038.0    475.0          2846.0   \n",
       "\n",
       "    Percent_Known  Percent_Male_Known  Percent_Female_Known  \n",
       "1       81.404244           97.161432              2.838568  \n",
       "3       86.335515           97.560808              2.439192  \n",
       "13      86.680672           86.476006             13.523994  \n",
       "16      83.309909           56.221004             43.778996  "
      ]
     },
     "execution_count": 110,
     "metadata": {},
     "output_type": "execute_result"
    }
   ],
   "source": [
    "gender_df[(gender_df.Total_Licenses > 2000) & (gender_df.Percent_Known > 75)].sort_values(by='male', ascending=False).head(10)"
   ]
  },
  {
   "cell_type": "code",
   "execution_count": 111,
   "metadata": {},
   "outputs": [
    {
     "data": {
      "text/html": [
       "<div>\n",
       "<style scoped>\n",
       "    .dataframe tbody tr th:only-of-type {\n",
       "        vertical-align: middle;\n",
       "    }\n",
       "\n",
       "    .dataframe tbody tr th {\n",
       "        vertical-align: top;\n",
       "    }\n",
       "\n",
       "    .dataframe thead th {\n",
       "        text-align: right;\n",
       "    }\n",
       "</style>\n",
       "<table border=\"1\" class=\"dataframe\">\n",
       "  <thead>\n",
       "    <tr style=\"text-align: right;\">\n",
       "      <th></th>\n",
       "      <th>license</th>\n",
       "      <th>male</th>\n",
       "      <th>female</th>\n",
       "      <th>unknown</th>\n",
       "      <th>Total_Licenses</th>\n",
       "      <th>Percent_Known</th>\n",
       "      <th>Percent_Male_Known</th>\n",
       "      <th>Percent_Female_Known</th>\n",
       "    </tr>\n",
       "  </thead>\n",
       "  <tbody>\n",
       "    <tr>\n",
       "      <th>16</th>\n",
       "      <td>Property Tax Appraiser</td>\n",
       "      <td>1333.0</td>\n",
       "      <td>1038.0</td>\n",
       "      <td>475.0</td>\n",
       "      <td>2846.0</td>\n",
       "      <td>83.309909</td>\n",
       "      <td>56.221004</td>\n",
       "      <td>43.778996</td>\n",
       "    </tr>\n",
       "    <tr>\n",
       "      <th>1</th>\n",
       "      <td>Journeyman Electrician</td>\n",
       "      <td>30190.0</td>\n",
       "      <td>882.0</td>\n",
       "      <td>7098.0</td>\n",
       "      <td>38170.0</td>\n",
       "      <td>81.404244</td>\n",
       "      <td>97.161432</td>\n",
       "      <td>2.838568</td>\n",
       "    </tr>\n",
       "    <tr>\n",
       "      <th>3</th>\n",
       "      <td>Master Electrician</td>\n",
       "      <td>14159.0</td>\n",
       "      <td>354.0</td>\n",
       "      <td>2297.0</td>\n",
       "      <td>16810.0</td>\n",
       "      <td>86.335515</td>\n",
       "      <td>97.560808</td>\n",
       "      <td>2.439192</td>\n",
       "    </tr>\n",
       "    <tr>\n",
       "      <th>13</th>\n",
       "      <td>Auctioneer</td>\n",
       "      <td>1784.0</td>\n",
       "      <td>279.0</td>\n",
       "      <td>317.0</td>\n",
       "      <td>2380.0</td>\n",
       "      <td>86.680672</td>\n",
       "      <td>86.476006</td>\n",
       "      <td>13.523994</td>\n",
       "    </tr>\n",
       "  </tbody>\n",
       "</table>\n",
       "</div>"
      ],
      "text/plain": [
       "                   license     male  female  unknown  Total_Licenses  \\\n",
       "16  Property Tax Appraiser   1333.0  1038.0    475.0          2846.0   \n",
       "1   Journeyman Electrician  30190.0   882.0   7098.0         38170.0   \n",
       "3       Master Electrician  14159.0   354.0   2297.0         16810.0   \n",
       "13              Auctioneer   1784.0   279.0    317.0          2380.0   \n",
       "\n",
       "    Percent_Known  Percent_Male_Known  Percent_Female_Known  \n",
       "16      83.309909           56.221004             43.778996  \n",
       "1       81.404244           97.161432              2.838568  \n",
       "3       86.335515           97.560808              2.439192  \n",
       "13      86.680672           86.476006             13.523994  "
      ]
     },
     "execution_count": 111,
     "metadata": {},
     "output_type": "execute_result"
    }
   ],
   "source": [
    "gender_df[(gender_df.Total_Licenses > 2000) & (gender_df.Percent_Known > 75)].sort_values(by='female', ascending=False).head(10)"
   ]
  },
  {
   "cell_type": "markdown",
   "metadata": {},
   "source": [
    "## 36. Let's say you have to call a few people about being in a profession dominated by the other gender. What are their phone numbers?\n",
    "\n",
    "This will involve doing some research in one dataframe, then the other one. I didn't put an answer here because I'm interested in what you come up with!"
   ]
  },
  {
   "cell_type": "code",
   "execution_count": 119,
   "metadata": {},
   "outputs": [
    {
     "data": {
      "text/plain": [
       "193532    2547257548\n",
       "193533    8066673368\n",
       "193534    3256551516\n",
       "193535    2146688316\n",
       "193536    9152229256\n",
       "193537    9157317487\n",
       "193538    8067872286\n",
       "193539    4328895721\n",
       "193540    3252346423\n",
       "193541    4323674773\n",
       "Name: TELEPHONE, dtype: object"
      ]
     },
     "execution_count": 119,
     "metadata": {},
     "output_type": "execute_result"
    }
   ],
   "source": [
    "merged = gender_df.merge(df, left_on=\"license\", right_on=\"LICTYPE\")\n",
    "merged[merged.Percent_Female_Known>50].head(10)['TELEPHONE']"
   ]
  },
  {
   "cell_type": "markdown",
   "metadata": {},
   "source": [
    "## Okay, let's take a break for a second.\n",
    "\n",
    "We've been diving pretty deep into this gender stuff after an initial \"oh but it's not great\" kind of thing.\n",
    "\n",
    "**What issues might come up with our analysis?** Some might be about ethics or discrimination, while some might be about our analysis being misleading or wrong. Go back and take a critical look at what we've done since we started working on gender, and summarize your thoughts below."
   ]
  },
  {
   "cell_type": "code",
   "execution_count": 72,
   "metadata": {},
   "outputs": [],
   "source": [
    "# The gender generator could be inaccurate (especially for the \"mostly male\" and \"mosty female\"\n",
    "# Unknown really doesn't mean anything, and there are so many unknowns that it could change \n",
    "# basically all our results. Plus, male and female is binary and gender is not binary. "
   ]
  },
  {
   "cell_type": "markdown",
   "metadata": {},
   "source": [
    "If you found problems with our analysis, **how could we make improvements?**"
   ]
  },
  {
   "cell_type": "code",
   "execution_count": 73,
   "metadata": {},
   "outputs": [],
   "source": [
    "# Find a way to not lump everything together as unknown! "
   ]
  },
  {
   "cell_type": "code",
   "execution_count": 74,
   "metadata": {},
   "outputs": [],
   "source": [
    "# There were some names that were actually business names, so use str contains to remove\n",
    "# names containing INC and LTD so they don't mess with the gender results. "
   ]
  },
  {
   "cell_type": "markdown",
   "metadata": {},
   "source": [
    "## PART FIVE: Violations\n",
    "\n",
    "### 37. Read in **violations.csv** as `violations_df`, make sure it looks right"
   ]
  },
  {
   "cell_type": "code",
   "execution_count": 75,
   "metadata": {},
   "outputs": [
    {
     "data": {
      "text/plain": [
       "basis          object\n",
       "city           object\n",
       "complaintno    object\n",
       "county         object\n",
       "licenseno      object\n",
       "name           object\n",
       "order          object\n",
       "orderDate      object\n",
       "zipcode         int64\n",
       "dtype: object"
      ]
     },
     "execution_count": 75,
     "metadata": {},
     "output_type": "execute_result"
    }
   ],
   "source": [
    "violations_df = pd.read_csv(\"/Users/mahiradayal/computing/hw-8/licensing/violations.csv\", na_values=None)\n",
    "violations_df.dtypes"
   ]
  },
  {
   "cell_type": "code",
   "execution_count": 76,
   "metadata": {},
   "outputs": [
    {
     "data": {
      "text/plain": [
       "LICTYPE                   object\n",
       "LICNUMBER                 object\n",
       "BIZCOUNTY                 object\n",
       "BIZNAME                   object\n",
       "BIZLINE1                 float64\n",
       "BIZLINE2                 float64\n",
       "BIZCITYSTATE             float64\n",
       "BIZTELEPHONE             float64\n",
       "EXPIRATION        datetime64[ns]\n",
       "OWNER                     object\n",
       "MAILLINE1                 object\n",
       "MAILLINE2                 object\n",
       "MAILCITYSTATE             object\n",
       "MAILCOUNTYCODE            object\n",
       "MAILCOUNTY                object\n",
       "MAILZIP                   object\n",
       "TELEPHONE                 object\n",
       "LICSUBTYPE                object\n",
       "CEFLAG                    object\n",
       "LASTNAME                  object\n",
       "KO                          bool\n",
       "FIRSTNAME                 object\n",
       "GENDER                    object\n",
       "dtype: object"
      ]
     },
     "execution_count": 76,
     "metadata": {},
     "output_type": "execute_result"
    }
   ],
   "source": [
    "df.dtypes"
   ]
  },
  {
   "cell_type": "markdown",
   "metadata": {},
   "source": [
    "### 38. Combine with your original licenses dataset dataframe to get phone numbers and addresses for each violation. Check that it is 90 rows, 28 columns."
   ]
  },
  {
   "cell_type": "code",
   "execution_count": 130,
   "metadata": {},
   "outputs": [
    {
     "data": {
      "text/html": [
       "<div>\n",
       "<style scoped>\n",
       "    .dataframe tbody tr th:only-of-type {\n",
       "        vertical-align: middle;\n",
       "    }\n",
       "\n",
       "    .dataframe tbody tr th {\n",
       "        vertical-align: top;\n",
       "    }\n",
       "\n",
       "    .dataframe thead th {\n",
       "        text-align: right;\n",
       "    }\n",
       "</style>\n",
       "<table border=\"1\" class=\"dataframe\">\n",
       "  <thead>\n",
       "    <tr style=\"text-align: right;\">\n",
       "      <th></th>\n",
       "      <th>basis</th>\n",
       "      <th>city</th>\n",
       "      <th>complaintno</th>\n",
       "      <th>county</th>\n",
       "      <th>licenseno</th>\n",
       "      <th>name</th>\n",
       "      <th>order</th>\n",
       "      <th>orderDate</th>\n",
       "      <th>zipcode</th>\n",
       "      <th>LICTYPE</th>\n",
       "      <th>...</th>\n",
       "      <th>MAILCOUNTYCODE</th>\n",
       "      <th>MAILCOUNTY</th>\n",
       "      <th>MAILZIP</th>\n",
       "      <th>TELEPHONE</th>\n",
       "      <th>LICSUBTYPE</th>\n",
       "      <th>CEFLAG</th>\n",
       "      <th>LASTNAME</th>\n",
       "      <th>KO</th>\n",
       "      <th>FIRSTNAME</th>\n",
       "      <th>GENDER</th>\n",
       "    </tr>\n",
       "  </thead>\n",
       "  <tbody>\n",
       "    <tr>\n",
       "      <th>0</th>\n",
       "      <td>Respondent failed to keep a record of the date...</td>\n",
       "      <td>HOUSTON</td>\n",
       "      <td>COS20160024894</td>\n",
       "      <td>HARRIS</td>\n",
       "      <td>748459</td>\n",
       "      <td>NGUYEN, PHUONG T</td>\n",
       "      <td>Respondent is assessed an administrative penal...</td>\n",
       "      <td>3/21/2017</td>\n",
       "      <td>77083</td>\n",
       "      <td>Cosmetology Esthetician/Manicure Salon</td>\n",
       "      <td>...</td>\n",
       "      <td>0201</td>\n",
       "      <td>HARRIS</td>\n",
       "      <td>77031</td>\n",
       "      <td>7132701521</td>\n",
       "      <td>FM</td>\n",
       "      <td>N</td>\n",
       "      <td>FORMAL NAILS</td>\n",
       "      <td>False</td>\n",
       "      <td>NaN</td>\n",
       "      <td>NaN</td>\n",
       "    </tr>\n",
       "    <tr>\n",
       "      <th>1</th>\n",
       "      <td>Respondent failed to keep a record of the date...</td>\n",
       "      <td>HOUSTON</td>\n",
       "      <td>COS20170004646</td>\n",
       "      <td>HARRIS</td>\n",
       "      <td>742837</td>\n",
       "      <td>NGUYEN, SUYEN THI</td>\n",
       "      <td>Respondent is assessed an administrative penal...</td>\n",
       "      <td>3/21/2017</td>\n",
       "      <td>77072</td>\n",
       "      <td>Cosmetology Esthetician/Manicure Salon</td>\n",
       "      <td>...</td>\n",
       "      <td>0039</td>\n",
       "      <td>BRAZORIA</td>\n",
       "      <td>77584</td>\n",
       "      <td>8325337866</td>\n",
       "      <td>FM</td>\n",
       "      <td>N</td>\n",
       "      <td>LUU LUU NAILS &amp; SPA</td>\n",
       "      <td>False</td>\n",
       "      <td>NaN</td>\n",
       "      <td>NaN</td>\n",
       "    </tr>\n",
       "    <tr>\n",
       "      <th>2</th>\n",
       "      <td>Respondent failed to disinfect tools, implemen...</td>\n",
       "      <td>HOUSTON</td>\n",
       "      <td>COS20160018700</td>\n",
       "      <td>HARRIS</td>\n",
       "      <td>742837</td>\n",
       "      <td>NGUYEN, SUYEN THI</td>\n",
       "      <td>Respondent is assessed an administrative penal...</td>\n",
       "      <td>11/30/2016</td>\n",
       "      <td>77072</td>\n",
       "      <td>Cosmetology Esthetician/Manicure Salon</td>\n",
       "      <td>...</td>\n",
       "      <td>0039</td>\n",
       "      <td>BRAZORIA</td>\n",
       "      <td>77584</td>\n",
       "      <td>8325337866</td>\n",
       "      <td>FM</td>\n",
       "      <td>N</td>\n",
       "      <td>LUU LUU NAILS &amp; SPA</td>\n",
       "      <td>False</td>\n",
       "      <td>NaN</td>\n",
       "      <td>NaN</td>\n",
       "    </tr>\n",
       "    <tr>\n",
       "      <th>3</th>\n",
       "      <td>Respondent failed to maintain the required cle...</td>\n",
       "      <td>HOUSTON</td>\n",
       "      <td>COS20170007996</td>\n",
       "      <td>HARRIS</td>\n",
       "      <td>729680</td>\n",
       "      <td>NGUYEN, XUONG MY</td>\n",
       "      <td>Respondent is assessed an administrative penal...</td>\n",
       "      <td>3/21/2017</td>\n",
       "      <td>77066</td>\n",
       "      <td>Cosmetology Esthetician/Manicure Salon</td>\n",
       "      <td>...</td>\n",
       "      <td>0201</td>\n",
       "      <td>HARRIS</td>\n",
       "      <td>77346</td>\n",
       "      <td>2818525330</td>\n",
       "      <td>FM</td>\n",
       "      <td>N</td>\n",
       "      <td>FANCY NAILS</td>\n",
       "      <td>False</td>\n",
       "      <td>NaN</td>\n",
       "      <td>NaN</td>\n",
       "    </tr>\n",
       "    <tr>\n",
       "      <th>4</th>\n",
       "      <td>Respondent failed to keep a record of the date...</td>\n",
       "      <td>HOUSTON</td>\n",
       "      <td>COS20170003822</td>\n",
       "      <td>HARRIS</td>\n",
       "      <td>688518</td>\n",
       "      <td>NGUYEN, NHUNG TUYET</td>\n",
       "      <td>Respondent is assessed an administrative penal...</td>\n",
       "      <td>3/8/2017</td>\n",
       "      <td>77083</td>\n",
       "      <td>Cosmetology Beauty Salon</td>\n",
       "      <td>...</td>\n",
       "      <td>0201</td>\n",
       "      <td>HARRIS</td>\n",
       "      <td>77083</td>\n",
       "      <td>2814956262</td>\n",
       "      <td>CS</td>\n",
       "      <td>N</td>\n",
       "      <td>1 HOLLYWOOD NAILS</td>\n",
       "      <td>False</td>\n",
       "      <td>NaN</td>\n",
       "      <td>NaN</td>\n",
       "    </tr>\n",
       "  </tbody>\n",
       "</table>\n",
       "<p>5 rows × 32 columns</p>\n",
       "</div>"
      ],
      "text/plain": [
       "                                               basis     city     complaintno  \\\n",
       "0  Respondent failed to keep a record of the date...  HOUSTON  COS20160024894   \n",
       "1  Respondent failed to keep a record of the date...  HOUSTON  COS20170004646   \n",
       "2  Respondent failed to disinfect tools, implemen...  HOUSTON  COS20160018700   \n",
       "3  Respondent failed to maintain the required cle...  HOUSTON  COS20170007996   \n",
       "4  Respondent failed to keep a record of the date...  HOUSTON  COS20170003822   \n",
       "\n",
       "   county licenseno                  name  \\\n",
       "0  HARRIS    748459      NGUYEN, PHUONG T   \n",
       "1  HARRIS    742837    NGUYEN, SUYEN THI    \n",
       "2  HARRIS    742837    NGUYEN, SUYEN THI    \n",
       "3  HARRIS    729680     NGUYEN, XUONG MY    \n",
       "4  HARRIS    688518  NGUYEN, NHUNG TUYET    \n",
       "\n",
       "                                               order   orderDate  zipcode  \\\n",
       "0  Respondent is assessed an administrative penal...   3/21/2017    77083   \n",
       "1  Respondent is assessed an administrative penal...   3/21/2017    77072   \n",
       "2  Respondent is assessed an administrative penal...  11/30/2016    77072   \n",
       "3  Respondent is assessed an administrative penal...   3/21/2017    77066   \n",
       "4  Respondent is assessed an administrative penal...    3/8/2017    77083   \n",
       "\n",
       "                                  LICTYPE  ... MAILCOUNTYCODE MAILCOUNTY  \\\n",
       "0  Cosmetology Esthetician/Manicure Salon  ...           0201     HARRIS   \n",
       "1  Cosmetology Esthetician/Manicure Salon  ...           0039   BRAZORIA   \n",
       "2  Cosmetology Esthetician/Manicure Salon  ...           0039   BRAZORIA   \n",
       "3  Cosmetology Esthetician/Manicure Salon  ...           0201     HARRIS   \n",
       "4                Cosmetology Beauty Salon  ...           0201     HARRIS   \n",
       "\n",
       "  MAILZIP   TELEPHONE  LICSUBTYPE  CEFLAG             LASTNAME     KO  \\\n",
       "0   77031  7132701521          FM       N         FORMAL NAILS  False   \n",
       "1   77584  8325337866          FM       N  LUU LUU NAILS & SPA  False   \n",
       "2   77584  8325337866          FM       N  LUU LUU NAILS & SPA  False   \n",
       "3   77346  2818525330          FM       N          FANCY NAILS  False   \n",
       "4   77083  2814956262          CS       N    1 HOLLYWOOD NAILS  False   \n",
       "\n",
       "  FIRSTNAME GENDER  \n",
       "0       NaN    NaN  \n",
       "1       NaN    NaN  \n",
       "2       NaN    NaN  \n",
       "3       NaN    NaN  \n",
       "4       NaN    NaN  \n",
       "\n",
       "[5 rows x 32 columns]"
      ]
     },
     "execution_count": 130,
     "metadata": {},
     "output_type": "execute_result"
    }
   ],
   "source": [
    "violations_merged = violations_df.merge(df, left_on=\"licenseno\", right_on=\"LICNUMBER\")\n",
    "#violations_merged.shape\n",
    "violations_merged.head(5)"
   ]
  },
  {
   "cell_type": "markdown",
   "metadata": {},
   "source": [
    "## 39. Find each violation involving a failure with records. Use a regular expression."
   ]
  },
  {
   "cell_type": "code",
   "execution_count": 150,
   "metadata": {},
   "outputs": [
    {
     "data": {
      "text/html": [
       "<div>\n",
       "<style scoped>\n",
       "    .dataframe tbody tr th:only-of-type {\n",
       "        vertical-align: middle;\n",
       "    }\n",
       "\n",
       "    .dataframe tbody tr th {\n",
       "        vertical-align: top;\n",
       "    }\n",
       "\n",
       "    .dataframe thead th {\n",
       "        text-align: right;\n",
       "    }\n",
       "</style>\n",
       "<table border=\"1\" class=\"dataframe\">\n",
       "  <thead>\n",
       "    <tr style=\"text-align: right;\">\n",
       "      <th></th>\n",
       "      <th>basis</th>\n",
       "      <th>city</th>\n",
       "      <th>complaintno</th>\n",
       "      <th>county</th>\n",
       "      <th>licenseno</th>\n",
       "      <th>name</th>\n",
       "      <th>order</th>\n",
       "      <th>orderDate</th>\n",
       "      <th>zipcode</th>\n",
       "      <th>LICTYPE</th>\n",
       "      <th>...</th>\n",
       "      <th>MAILCOUNTY</th>\n",
       "      <th>MAILZIP</th>\n",
       "      <th>TELEPHONE</th>\n",
       "      <th>LICSUBTYPE</th>\n",
       "      <th>CEFLAG</th>\n",
       "      <th>LASTNAME</th>\n",
       "      <th>KO</th>\n",
       "      <th>FIRSTNAME</th>\n",
       "      <th>GENDER</th>\n",
       "      <th>failure</th>\n",
       "    </tr>\n",
       "  </thead>\n",
       "  <tbody>\n",
       "    <tr>\n",
       "      <th>0</th>\n",
       "      <td>Respondent failed to keep a record of the date...</td>\n",
       "      <td>HOUSTON</td>\n",
       "      <td>COS20160024894</td>\n",
       "      <td>HARRIS</td>\n",
       "      <td>748459</td>\n",
       "      <td>NGUYEN, PHUONG T</td>\n",
       "      <td>Respondent is assessed an administrative penal...</td>\n",
       "      <td>3/21/2017</td>\n",
       "      <td>77083</td>\n",
       "      <td>Cosmetology Esthetician/Manicure Salon</td>\n",
       "      <td>...</td>\n",
       "      <td>HARRIS</td>\n",
       "      <td>77031</td>\n",
       "      <td>7132701521</td>\n",
       "      <td>FM</td>\n",
       "      <td>N</td>\n",
       "      <td>FORMAL NAILS</td>\n",
       "      <td>False</td>\n",
       "      <td>NaN</td>\n",
       "      <td>NaN</td>\n",
       "      <td>fail</td>\n",
       "    </tr>\n",
       "    <tr>\n",
       "      <th>1</th>\n",
       "      <td>Respondent failed to keep a record of the date...</td>\n",
       "      <td>HOUSTON</td>\n",
       "      <td>COS20170004646</td>\n",
       "      <td>HARRIS</td>\n",
       "      <td>742837</td>\n",
       "      <td>NGUYEN, SUYEN THI</td>\n",
       "      <td>Respondent is assessed an administrative penal...</td>\n",
       "      <td>3/21/2017</td>\n",
       "      <td>77072</td>\n",
       "      <td>Cosmetology Esthetician/Manicure Salon</td>\n",
       "      <td>...</td>\n",
       "      <td>BRAZORIA</td>\n",
       "      <td>77584</td>\n",
       "      <td>8325337866</td>\n",
       "      <td>FM</td>\n",
       "      <td>N</td>\n",
       "      <td>LUU LUU NAILS &amp; SPA</td>\n",
       "      <td>False</td>\n",
       "      <td>NaN</td>\n",
       "      <td>NaN</td>\n",
       "      <td>fail</td>\n",
       "    </tr>\n",
       "    <tr>\n",
       "      <th>2</th>\n",
       "      <td>Respondent failed to disinfect tools, implemen...</td>\n",
       "      <td>HOUSTON</td>\n",
       "      <td>COS20160018700</td>\n",
       "      <td>HARRIS</td>\n",
       "      <td>742837</td>\n",
       "      <td>NGUYEN, SUYEN THI</td>\n",
       "      <td>Respondent is assessed an administrative penal...</td>\n",
       "      <td>11/30/2016</td>\n",
       "      <td>77072</td>\n",
       "      <td>Cosmetology Esthetician/Manicure Salon</td>\n",
       "      <td>...</td>\n",
       "      <td>BRAZORIA</td>\n",
       "      <td>77584</td>\n",
       "      <td>8325337866</td>\n",
       "      <td>FM</td>\n",
       "      <td>N</td>\n",
       "      <td>LUU LUU NAILS &amp; SPA</td>\n",
       "      <td>False</td>\n",
       "      <td>NaN</td>\n",
       "      <td>NaN</td>\n",
       "      <td>fail</td>\n",
       "    </tr>\n",
       "    <tr>\n",
       "      <th>3</th>\n",
       "      <td>Respondent failed to maintain the required cle...</td>\n",
       "      <td>HOUSTON</td>\n",
       "      <td>COS20170007996</td>\n",
       "      <td>HARRIS</td>\n",
       "      <td>729680</td>\n",
       "      <td>NGUYEN, XUONG MY</td>\n",
       "      <td>Respondent is assessed an administrative penal...</td>\n",
       "      <td>3/21/2017</td>\n",
       "      <td>77066</td>\n",
       "      <td>Cosmetology Esthetician/Manicure Salon</td>\n",
       "      <td>...</td>\n",
       "      <td>HARRIS</td>\n",
       "      <td>77346</td>\n",
       "      <td>2818525330</td>\n",
       "      <td>FM</td>\n",
       "      <td>N</td>\n",
       "      <td>FANCY NAILS</td>\n",
       "      <td>False</td>\n",
       "      <td>NaN</td>\n",
       "      <td>NaN</td>\n",
       "      <td>fail</td>\n",
       "    </tr>\n",
       "    <tr>\n",
       "      <th>4</th>\n",
       "      <td>Respondent failed to keep a record of the date...</td>\n",
       "      <td>HOUSTON</td>\n",
       "      <td>COS20170003822</td>\n",
       "      <td>HARRIS</td>\n",
       "      <td>688518</td>\n",
       "      <td>NGUYEN, NHUNG TUYET</td>\n",
       "      <td>Respondent is assessed an administrative penal...</td>\n",
       "      <td>3/8/2017</td>\n",
       "      <td>77083</td>\n",
       "      <td>Cosmetology Beauty Salon</td>\n",
       "      <td>...</td>\n",
       "      <td>HARRIS</td>\n",
       "      <td>77083</td>\n",
       "      <td>2814956262</td>\n",
       "      <td>CS</td>\n",
       "      <td>N</td>\n",
       "      <td>1 HOLLYWOOD NAILS</td>\n",
       "      <td>False</td>\n",
       "      <td>NaN</td>\n",
       "      <td>NaN</td>\n",
       "      <td>fail</td>\n",
       "    </tr>\n",
       "    <tr>\n",
       "      <th>...</th>\n",
       "      <td>...</td>\n",
       "      <td>...</td>\n",
       "      <td>...</td>\n",
       "      <td>...</td>\n",
       "      <td>...</td>\n",
       "      <td>...</td>\n",
       "      <td>...</td>\n",
       "      <td>...</td>\n",
       "      <td>...</td>\n",
       "      <td>...</td>\n",
       "      <td>...</td>\n",
       "      <td>...</td>\n",
       "      <td>...</td>\n",
       "      <td>...</td>\n",
       "      <td>...</td>\n",
       "      <td>...</td>\n",
       "      <td>...</td>\n",
       "      <td>...</td>\n",
       "      <td>...</td>\n",
       "      <td>...</td>\n",
       "      <td>...</td>\n",
       "    </tr>\n",
       "    <tr>\n",
       "      <th>83</th>\n",
       "      <td>Respondent failed to clean and sanitize whirlp...</td>\n",
       "      <td>BAYTOWN</td>\n",
       "      <td>COS20130013338</td>\n",
       "      <td>HARRIS</td>\n",
       "      <td>694870</td>\n",
       "      <td>NGUYEN, CINDY THI</td>\n",
       "      <td>Respondent is assessed an administrative penal...</td>\n",
       "      <td>10/2/2014</td>\n",
       "      <td>77521</td>\n",
       "      <td>Cosmetology Beauty Salon</td>\n",
       "      <td>...</td>\n",
       "      <td>LUBBOCK</td>\n",
       "      <td>79424</td>\n",
       "      <td>8067942964</td>\n",
       "      <td>CS</td>\n",
       "      <td>N</td>\n",
       "      <td>NAILS BY CINDY AND FACIALS</td>\n",
       "      <td>False</td>\n",
       "      <td>NaN</td>\n",
       "      <td>NaN</td>\n",
       "      <td>fail</td>\n",
       "    </tr>\n",
       "    <tr>\n",
       "      <th>84</th>\n",
       "      <td>Respondent failed to keep a record of the date...</td>\n",
       "      <td>HOUSTON</td>\n",
       "      <td>COS20140015709</td>\n",
       "      <td>HARRIS</td>\n",
       "      <td>724124</td>\n",
       "      <td>NGUYEN, LIEM T</td>\n",
       "      <td>Respondent is assessed an administrative penal...</td>\n",
       "      <td>9/29/2014</td>\n",
       "      <td>77028</td>\n",
       "      <td>Cosmetology Esthetician/Manicure Salon</td>\n",
       "      <td>...</td>\n",
       "      <td>HARRIS</td>\n",
       "      <td>77059</td>\n",
       "      <td>2819981053</td>\n",
       "      <td>FM</td>\n",
       "      <td>N</td>\n",
       "      <td>HAPPY NAILS SPA</td>\n",
       "      <td>False</td>\n",
       "      <td>NaN</td>\n",
       "      <td>NaN</td>\n",
       "      <td>fail</td>\n",
       "    </tr>\n",
       "    <tr>\n",
       "      <th>86</th>\n",
       "      <td>Respondent failed to clean, disinfect, and ste...</td>\n",
       "      <td>HOUSTON</td>\n",
       "      <td>COS20140016481</td>\n",
       "      <td>HARRIS</td>\n",
       "      <td>738145</td>\n",
       "      <td>NGUYEN, KIM DUNG THI</td>\n",
       "      <td>Respondent is assessed an administrative penal...</td>\n",
       "      <td>9/29/2014</td>\n",
       "      <td>77087</td>\n",
       "      <td>Cosmetology Manicure Salon</td>\n",
       "      <td>...</td>\n",
       "      <td>HARRIS</td>\n",
       "      <td>77022</td>\n",
       "      <td>7136974773</td>\n",
       "      <td>MS</td>\n",
       "      <td>N</td>\n",
       "      <td>SANY'S NAIL</td>\n",
       "      <td>False</td>\n",
       "      <td>NaN</td>\n",
       "      <td>NaN</td>\n",
       "      <td>fail</td>\n",
       "    </tr>\n",
       "    <tr>\n",
       "      <th>88</th>\n",
       "      <td>Respondent failed to keep a record of the date...</td>\n",
       "      <td>HOUSTON</td>\n",
       "      <td>COS20130020057</td>\n",
       "      <td>HARRIS</td>\n",
       "      <td>743316</td>\n",
       "      <td>NGUYEN, HANG THI</td>\n",
       "      <td>Respondent is assessed an administrative penal...</td>\n",
       "      <td>9/8/2014</td>\n",
       "      <td>77021</td>\n",
       "      <td>Cosmetology Esthetician/Manicure Salon</td>\n",
       "      <td>...</td>\n",
       "      <td>HARRIS</td>\n",
       "      <td>77021</td>\n",
       "      <td>7137477705</td>\n",
       "      <td>FM</td>\n",
       "      <td>N</td>\n",
       "      <td>RED APPLE NAILS</td>\n",
       "      <td>False</td>\n",
       "      <td>NaN</td>\n",
       "      <td>NaN</td>\n",
       "      <td>fail</td>\n",
       "    </tr>\n",
       "    <tr>\n",
       "      <th>89</th>\n",
       "      <td>Respondent failed to clean, disinfect, and ste...</td>\n",
       "      <td>HOUSTON</td>\n",
       "      <td>COS20140013051</td>\n",
       "      <td>HARRIS</td>\n",
       "      <td>1439723</td>\n",
       "      <td>NGUYEN, MINH V</td>\n",
       "      <td>Respondent is assessed an administrative penal...</td>\n",
       "      <td>8/12/2014</td>\n",
       "      <td>77064</td>\n",
       "      <td>Cosmetology Manicurist</td>\n",
       "      <td>...</td>\n",
       "      <td>HARRIS</td>\n",
       "      <td>77017</td>\n",
       "      <td>7134590964</td>\n",
       "      <td>MA</td>\n",
       "      <td>N</td>\n",
       "      <td>NGUYEN</td>\n",
       "      <td>False</td>\n",
       "      <td>MINH</td>\n",
       "      <td>female</td>\n",
       "      <td>fail</td>\n",
       "    </tr>\n",
       "  </tbody>\n",
       "</table>\n",
       "<p>70 rows × 33 columns</p>\n",
       "</div>"
      ],
      "text/plain": [
       "                                                basis     city  \\\n",
       "0   Respondent failed to keep a record of the date...  HOUSTON   \n",
       "1   Respondent failed to keep a record of the date...  HOUSTON   \n",
       "2   Respondent failed to disinfect tools, implemen...  HOUSTON   \n",
       "3   Respondent failed to maintain the required cle...  HOUSTON   \n",
       "4   Respondent failed to keep a record of the date...  HOUSTON   \n",
       "..                                                ...      ...   \n",
       "83  Respondent failed to clean and sanitize whirlp...  BAYTOWN   \n",
       "84  Respondent failed to keep a record of the date...  HOUSTON   \n",
       "86  Respondent failed to clean, disinfect, and ste...  HOUSTON   \n",
       "88  Respondent failed to keep a record of the date...  HOUSTON   \n",
       "89  Respondent failed to clean, disinfect, and ste...  HOUSTON   \n",
       "\n",
       "       complaintno  county licenseno                   name  \\\n",
       "0   COS20160024894  HARRIS    748459       NGUYEN, PHUONG T   \n",
       "1   COS20170004646  HARRIS    742837     NGUYEN, SUYEN THI    \n",
       "2   COS20160018700  HARRIS    742837     NGUYEN, SUYEN THI    \n",
       "3   COS20170007996  HARRIS    729680      NGUYEN, XUONG MY    \n",
       "4   COS20170003822  HARRIS    688518   NGUYEN, NHUNG TUYET    \n",
       "..             ...     ...       ...                    ...   \n",
       "83  COS20130013338  HARRIS    694870     NGUYEN, CINDY THI    \n",
       "84  COS20140015709  HARRIS    724124         NGUYEN, LIEM T   \n",
       "86  COS20140016481  HARRIS    738145  NGUYEN, KIM DUNG THI    \n",
       "88  COS20130020057  HARRIS    743316      NGUYEN, HANG THI    \n",
       "89  COS20140013051  HARRIS   1439723         NGUYEN, MINH V   \n",
       "\n",
       "                                                order   orderDate  zipcode  \\\n",
       "0   Respondent is assessed an administrative penal...   3/21/2017    77083   \n",
       "1   Respondent is assessed an administrative penal...   3/21/2017    77072   \n",
       "2   Respondent is assessed an administrative penal...  11/30/2016    77072   \n",
       "3   Respondent is assessed an administrative penal...   3/21/2017    77066   \n",
       "4   Respondent is assessed an administrative penal...    3/8/2017    77083   \n",
       "..                                                ...         ...      ...   \n",
       "83  Respondent is assessed an administrative penal...   10/2/2014    77521   \n",
       "84  Respondent is assessed an administrative penal...   9/29/2014    77028   \n",
       "86  Respondent is assessed an administrative penal...   9/29/2014    77087   \n",
       "88  Respondent is assessed an administrative penal...    9/8/2014    77021   \n",
       "89  Respondent is assessed an administrative penal...   8/12/2014    77064   \n",
       "\n",
       "                                   LICTYPE  ... MAILCOUNTY MAILZIP  \\\n",
       "0   Cosmetology Esthetician/Manicure Salon  ...     HARRIS   77031   \n",
       "1   Cosmetology Esthetician/Manicure Salon  ...   BRAZORIA   77584   \n",
       "2   Cosmetology Esthetician/Manicure Salon  ...   BRAZORIA   77584   \n",
       "3   Cosmetology Esthetician/Manicure Salon  ...     HARRIS   77346   \n",
       "4                 Cosmetology Beauty Salon  ...     HARRIS   77083   \n",
       "..                                     ...  ...        ...     ...   \n",
       "83                Cosmetology Beauty Salon  ...    LUBBOCK   79424   \n",
       "84  Cosmetology Esthetician/Manicure Salon  ...     HARRIS   77059   \n",
       "86              Cosmetology Manicure Salon  ...     HARRIS   77022   \n",
       "88  Cosmetology Esthetician/Manicure Salon  ...     HARRIS   77021   \n",
       "89                  Cosmetology Manicurist  ...     HARRIS   77017   \n",
       "\n",
       "     TELEPHONE  LICSUBTYPE  CEFLAG                    LASTNAME     KO  \\\n",
       "0   7132701521          FM       N                FORMAL NAILS  False   \n",
       "1   8325337866          FM       N         LUU LUU NAILS & SPA  False   \n",
       "2   8325337866          FM       N         LUU LUU NAILS & SPA  False   \n",
       "3   2818525330          FM       N                 FANCY NAILS  False   \n",
       "4   2814956262          CS       N           1 HOLLYWOOD NAILS  False   \n",
       "..         ...         ...     ...                         ...    ...   \n",
       "83  8067942964          CS       N  NAILS BY CINDY AND FACIALS  False   \n",
       "84  2819981053          FM       N             HAPPY NAILS SPA  False   \n",
       "86  7136974773          MS       N                 SANY'S NAIL  False   \n",
       "88  7137477705          FM       N             RED APPLE NAILS  False   \n",
       "89  7134590964          MA       N                      NGUYEN  False   \n",
       "\n",
       "   FIRSTNAME  GENDER failure  \n",
       "0        NaN     NaN    fail  \n",
       "1        NaN     NaN    fail  \n",
       "2        NaN     NaN    fail  \n",
       "3        NaN     NaN    fail  \n",
       "4        NaN     NaN    fail  \n",
       "..       ...     ...     ...  \n",
       "83       NaN     NaN    fail  \n",
       "84       NaN     NaN    fail  \n",
       "86       NaN     NaN    fail  \n",
       "88       NaN     NaN    fail  \n",
       "89      MINH  female    fail  \n",
       "\n",
       "[70 rows x 33 columns]"
      ]
     },
     "execution_count": 150,
     "metadata": {},
     "output_type": "execute_result"
    }
   ],
   "source": [
    "violations_merged[violations_merged['basis'].str.contains(r\"fail\")==True]"
   ]
  },
  {
   "cell_type": "markdown",
   "metadata": {},
   "source": [
    "## 40. How much money was each fine? Use a regular expression and .str.extract\n",
    "\n",
    "Unfortunately large and helpful troubleshooting tip: `$` means \"end of a line\" in regex, so `.extract` isn't going to accept it as a dollar sign. You need to escape it by using `\\$` instead."
   ]
  },
  {
   "cell_type": "code",
   "execution_count": 164,
   "metadata": {},
   "outputs": [
    {
     "data": {
      "text/plain": [
       "0       300\n",
       "1       500\n",
       "2       750\n",
       "3     1,875\n",
       "4       375\n",
       "      ...  \n",
       "85      150\n",
       "86      575\n",
       "87      500\n",
       "88    1,000\n",
       "89    1,250\n",
       "Name: order, Length: 90, dtype: object"
      ]
     },
     "execution_count": 164,
     "metadata": {},
     "output_type": "execute_result"
    }
   ],
   "source": [
    "violations_merged['order'].str.extract(\"Respondent is assessed an administrative penalty in the amount of \\$(\\w+,?\\w+).\", expand=False)  \n"
   ]
  },
  {
   "cell_type": "markdown",
   "metadata": {},
   "source": [
    "## 41. Clean those results (no commas, no dollar signs, and it should be an integer) and save it to a new column called `fine`\n",
    "\n",
    "`.replace` is for *entire cells*, you're interested in `.str.replace`, which treats each value like a string, not like a... pandas thing.\n",
    "\n",
    "`.astype(int)` will convert it into an integer for you."
   ]
  },
  {
   "cell_type": "code",
   "execution_count": 188,
   "metadata": {},
   "outputs": [
    {
     "data": {
      "text/plain": [
       "0      300\n",
       "1      500\n",
       "2      750\n",
       "3     1875\n",
       "4      375\n",
       "5     1800\n",
       "6     1125\n",
       "7      750\n",
       "8      925\n",
       "9      575\n",
       "10    1000\n",
       "11     550\n",
       "12     500\n",
       "13     750\n",
       "14    1125\n",
       "15     500\n",
       "16     500\n",
       "17    1500\n",
       "18     375\n",
       "19     500\n",
       "Name: fine, dtype: object"
      ]
     },
     "execution_count": 188,
     "metadata": {},
     "output_type": "execute_result"
    }
   ],
   "source": [
    "violations_merged['fine'] = violations_merged['order'].str.extract(\"Respondent is assessed an administrative penalty in the amount of \\$(\\w+,?\\w+).\", expand=False)  \n",
    "violations_merged['fine'] = violations_merged['fine'].apply(lambda x: x.replace(',', ''))\n",
    "violations_merged['fine'].astype(int)\n",
    "violations_merged['fine'].head(20)"
   ]
  },
  {
   "cell_type": "markdown",
   "metadata": {},
   "source": [
    "## 42. Which orders results in the top fines?"
   ]
  },
  {
   "cell_type": "code",
   "execution_count": 193,
   "metadata": {},
   "outputs": [
    {
     "data": {
      "text/html": [
       "<div>\n",
       "<style scoped>\n",
       "    .dataframe tbody tr th:only-of-type {\n",
       "        vertical-align: middle;\n",
       "    }\n",
       "\n",
       "    .dataframe tbody tr th {\n",
       "        vertical-align: top;\n",
       "    }\n",
       "\n",
       "    .dataframe thead th {\n",
       "        text-align: right;\n",
       "    }\n",
       "</style>\n",
       "<table border=\"1\" class=\"dataframe\">\n",
       "  <thead>\n",
       "    <tr style=\"text-align: right;\">\n",
       "      <th></th>\n",
       "      <th>basis</th>\n",
       "      <th>city</th>\n",
       "      <th>complaintno</th>\n",
       "      <th>county</th>\n",
       "      <th>licenseno</th>\n",
       "      <th>name</th>\n",
       "      <th>order</th>\n",
       "      <th>orderDate</th>\n",
       "      <th>zipcode</th>\n",
       "      <th>LICTYPE</th>\n",
       "      <th>...</th>\n",
       "      <th>TELEPHONE</th>\n",
       "      <th>LICSUBTYPE</th>\n",
       "      <th>CEFLAG</th>\n",
       "      <th>LASTNAME</th>\n",
       "      <th>KO</th>\n",
       "      <th>FIRSTNAME</th>\n",
       "      <th>GENDER</th>\n",
       "      <th>failure</th>\n",
       "      <th>money</th>\n",
       "      <th>fine</th>\n",
       "    </tr>\n",
       "  </thead>\n",
       "  <tbody>\n",
       "    <tr>\n",
       "      <th>8</th>\n",
       "      <td>Respondent failed to keep a record of the date...</td>\n",
       "      <td>HOUSTON</td>\n",
       "      <td>COS20160024172</td>\n",
       "      <td>HARRIS</td>\n",
       "      <td>756241</td>\n",
       "      <td>NGUYEN, IVANNA</td>\n",
       "      <td>Respondent is assessed an administrative penal...</td>\n",
       "      <td>11/30/2016</td>\n",
       "      <td>77099</td>\n",
       "      <td>Cosmetology Esthetician/Manicure Salon</td>\n",
       "      <td>...</td>\n",
       "      <td>2815758181</td>\n",
       "      <td>FM</td>\n",
       "      <td>N</td>\n",
       "      <td>NAILS N NAILS</td>\n",
       "      <td>False</td>\n",
       "      <td>NaN</td>\n",
       "      <td>NaN</td>\n",
       "      <td>fail</td>\n",
       "      <td>925</td>\n",
       "      <td>925</td>\n",
       "    </tr>\n",
       "    <tr>\n",
       "      <th>81</th>\n",
       "      <td>Respondent failed to clean and sanitize whirlp...</td>\n",
       "      <td>HOUSTON</td>\n",
       "      <td>COS20140021128</td>\n",
       "      <td>HARRIS</td>\n",
       "      <td>679804</td>\n",
       "      <td>NGUYEN, DANNY DUONG</td>\n",
       "      <td>Respondent is assessed an administrative penal...</td>\n",
       "      <td>11/6/2014</td>\n",
       "      <td>77090</td>\n",
       "      <td>Cosmetology Esthetician/Manicure Salon</td>\n",
       "      <td>...</td>\n",
       "      <td>2818959595</td>\n",
       "      <td>FM</td>\n",
       "      <td>N</td>\n",
       "      <td>QUICK NAILS</td>\n",
       "      <td>False</td>\n",
       "      <td>NaN</td>\n",
       "      <td>NaN</td>\n",
       "      <td>fail</td>\n",
       "      <td>875</td>\n",
       "      <td>875</td>\n",
       "    </tr>\n",
       "    <tr>\n",
       "      <th>72</th>\n",
       "      <td>Respondent possessed an electric drill other t...</td>\n",
       "      <td>HOUSTON</td>\n",
       "      <td>COS20150004587</td>\n",
       "      <td>HARRIS</td>\n",
       "      <td>671920</td>\n",
       "      <td>NGUYEN, NINA</td>\n",
       "      <td>Respondent is assessed an administrative penal...</td>\n",
       "      <td>4/7/2015</td>\n",
       "      <td>77084</td>\n",
       "      <td>Cosmetology Esthetician/Manicure Salon</td>\n",
       "      <td>...</td>\n",
       "      <td>2815792484</td>\n",
       "      <td>FM</td>\n",
       "      <td>N</td>\n",
       "      <td>NAILS BY HELEN</td>\n",
       "      <td>False</td>\n",
       "      <td>NaN</td>\n",
       "      <td>NaN</td>\n",
       "      <td>fail</td>\n",
       "      <td>875</td>\n",
       "      <td>875</td>\n",
       "    </tr>\n",
       "    <tr>\n",
       "      <th>36</th>\n",
       "      <td>Respondent failed to keep a record of the date...</td>\n",
       "      <td>TOMBALL</td>\n",
       "      <td>COS20160008123</td>\n",
       "      <td>HARRIS</td>\n",
       "      <td>739716</td>\n",
       "      <td>NGUYEN, KENNEDY DANG KH</td>\n",
       "      <td>Respondent is assessed an administrative penal...</td>\n",
       "      <td>3/28/2016</td>\n",
       "      <td>77377</td>\n",
       "      <td>Cosmetology Esthetician/Manicure Salon</td>\n",
       "      <td>...</td>\n",
       "      <td>8322025889</td>\n",
       "      <td>FM</td>\n",
       "      <td>N</td>\n",
       "      <td>EVA NAILS &amp; SPA</td>\n",
       "      <td>False</td>\n",
       "      <td>NaN</td>\n",
       "      <td>NaN</td>\n",
       "      <td>fail</td>\n",
       "      <td>850</td>\n",
       "      <td>850</td>\n",
       "    </tr>\n",
       "    <tr>\n",
       "      <th>24</th>\n",
       "      <td>Respondent failed to keep a record of the date...</td>\n",
       "      <td>HOUSTON</td>\n",
       "      <td>COS20160011021</td>\n",
       "      <td>HARRIS</td>\n",
       "      <td>745638</td>\n",
       "      <td>NGUYEN, HAI</td>\n",
       "      <td>Respondent is assessed an administrative penal...</td>\n",
       "      <td>6/22/2016</td>\n",
       "      <td>77016</td>\n",
       "      <td>Cosmetology Esthetician/Manicure Salon</td>\n",
       "      <td>...</td>\n",
       "      <td>8322353873</td>\n",
       "      <td>FM</td>\n",
       "      <td>N</td>\n",
       "      <td>PROFESSIONAL NAILS</td>\n",
       "      <td>False</td>\n",
       "      <td>NaN</td>\n",
       "      <td>NaN</td>\n",
       "      <td>fail</td>\n",
       "      <td>750</td>\n",
       "      <td>750</td>\n",
       "    </tr>\n",
       "  </tbody>\n",
       "</table>\n",
       "<p>5 rows × 35 columns</p>\n",
       "</div>"
      ],
      "text/plain": [
       "                                                basis     city  \\\n",
       "8   Respondent failed to keep a record of the date...  HOUSTON   \n",
       "81  Respondent failed to clean and sanitize whirlp...  HOUSTON   \n",
       "72  Respondent possessed an electric drill other t...  HOUSTON   \n",
       "36  Respondent failed to keep a record of the date...  TOMBALL   \n",
       "24  Respondent failed to keep a record of the date...  HOUSTON   \n",
       "\n",
       "       complaintno  county licenseno                      name  \\\n",
       "8   COS20160024172  HARRIS    756241           NGUYEN, IVANNA    \n",
       "81  COS20140021128  HARRIS    679804      NGUYEN, DANNY DUONG    \n",
       "72  COS20150004587  HARRIS    671920             NGUYEN, NINA    \n",
       "36  COS20160008123  HARRIS    739716  NGUYEN, KENNEDY DANG KH    \n",
       "24  COS20160011021  HARRIS    745638              NGUYEN, HAI    \n",
       "\n",
       "                                                order   orderDate  zipcode  \\\n",
       "8   Respondent is assessed an administrative penal...  11/30/2016    77099   \n",
       "81  Respondent is assessed an administrative penal...   11/6/2014    77090   \n",
       "72  Respondent is assessed an administrative penal...    4/7/2015    77084   \n",
       "36  Respondent is assessed an administrative penal...   3/28/2016    77377   \n",
       "24  Respondent is assessed an administrative penal...   6/22/2016    77016   \n",
       "\n",
       "                                   LICTYPE  ...   TELEPHONE LICSUBTYPE CEFLAG  \\\n",
       "8   Cosmetology Esthetician/Manicure Salon  ...  2815758181         FM      N   \n",
       "81  Cosmetology Esthetician/Manicure Salon  ...  2818959595         FM      N   \n",
       "72  Cosmetology Esthetician/Manicure Salon  ...  2815792484         FM      N   \n",
       "36  Cosmetology Esthetician/Manicure Salon  ...  8322025889         FM      N   \n",
       "24  Cosmetology Esthetician/Manicure Salon  ...  8322353873         FM      N   \n",
       "\n",
       "              LASTNAME     KO  FIRSTNAME  GENDER failure money fine  \n",
       "8        NAILS N NAILS  False        NaN     NaN    fail   925  925  \n",
       "81         QUICK NAILS  False        NaN     NaN    fail   875  875  \n",
       "72      NAILS BY HELEN  False        NaN     NaN    fail   875  875  \n",
       "36     EVA NAILS & SPA  False        NaN     NaN    fail   850  850  \n",
       "24  PROFESSIONAL NAILS  False        NaN     NaN    fail   750  750  \n",
       "\n",
       "[5 rows x 35 columns]"
      ]
     },
     "execution_count": 193,
     "metadata": {},
     "output_type": "execute_result"
    }
   ],
   "source": [
    "violations_merged.sort_values(by=['money'], ascending=False).head()"
   ]
  },
  {
   "cell_type": "markdown",
   "metadata": {},
   "source": [
    "## 43. Are you still here???\n",
    "\n",
    "I'm sure impressed."
   ]
  },
  {
   "cell_type": "code",
   "execution_count": 78,
   "metadata": {},
   "outputs": [],
   "source": [
    "# Everything hurts and I don't remember what sunlight looks like. "
   ]
  }
 ],
 "metadata": {
  "kernelspec": {
   "display_name": "Python 3",
   "language": "python",
   "name": "python3"
  },
  "language_info": {
   "codemirror_mode": {
    "name": "ipython",
    "version": 3
   },
   "file_extension": ".py",
   "mimetype": "text/x-python",
   "name": "python",
   "nbconvert_exporter": "python",
   "pygments_lexer": "ipython3",
   "version": "3.8.2"
  }
 },
 "nbformat": 4,
 "nbformat_minor": 2
}
